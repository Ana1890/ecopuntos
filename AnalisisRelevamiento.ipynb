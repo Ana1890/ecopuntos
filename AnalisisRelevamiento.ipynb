{
  "nbformat": 4,
  "nbformat_minor": 0,
  "metadata": {
    "colab": {
      "provenance": [],
      "toc_visible": true,
      "mount_file_id": "1FHfaaOy_MIgmce2aERE5rIFmrjxsyYY3",
      "authorship_tag": "ABX9TyN5/ZUfWNayjC4K7IpMbbuj"
    },
    "kernelspec": {
      "name": "python3",
      "display_name": "Python 3"
    },
    "language_info": {
      "name": "python"
    }
  },
  "cells": [
    {
      "cell_type": "code",
      "execution_count": 1,
      "metadata": {
        "id": "mrK7FsM2a94y"
      },
      "outputs": [],
      "source": [
        "import pandas as pd\n",
        "import numpy as np"
      ]
    },
    {
      "cell_type": "code",
      "source": [
        "import matplotlib.pyplot as plt\n",
        "import seaborn as sns\n",
        "\n",
        "import folium"
      ],
      "metadata": {
        "id": "kcHY9jwXbBta"
      },
      "execution_count": 2,
      "outputs": []
    },
    {
      "cell_type": "markdown",
      "source": [],
      "metadata": {
        "id": "MFr1MmjdhFsz"
      }
    },
    {
      "cell_type": "code",
      "source": [
        "def dibjuar_mapa(df_draw: pd.DataFrame, col_target: str, circle: bool):\n",
        "  \"\"\"Dibujar un mapa para identificar localización de ciertos puntos\n",
        "  y dibujar sobre ellos objetos que identifiquen alguna otra variable\n",
        "  relacionada a esos puntos, ejemplo: col_target\"\"\"\n",
        "\n",
        "  mapa = folium.Map(location=[-38.951678, -68.059189], zoom_start=13) # Localizar en Neuquén Capital\n",
        "  map_color = ['green','red','orange']\n",
        "  # Agregamos los puntos de las localidades\n",
        "  for index, row in df_draw.iterrows():\n",
        "      folium.Marker([row['lat'], row['lon']], popup=row['Ecopunto']).add_to(mapa)\n",
        "\n",
        "  if circle:\n",
        "    # Agregamos elementos dado el valor de cada variable de interés\n",
        "    for i, col in enumerate(list(df_draw[col_target].unique())):\n",
        "\n",
        "      for index, row in df_draw.loc[df_draw[col_target]==col].iterrows():\n",
        "          folium.Circle(\n",
        "              location=[row['lat'], row['lon']],\n",
        "              radius=136,\n",
        "              popup=row[col_target], # para que aparezca como detalle al hacer click en alguna de las burbujas\n",
        "              fill=True,\n",
        "              fill_opacity=0.7,\n",
        "              color=map_color[i]\n",
        "          ).add_to(mapa)\n",
        "\n",
        "\n",
        "  # Agregamos una capa de control al mapa\n",
        "  folium.LayerControl().add_to(mapa)\n",
        "\n",
        "  return mapa"
      ],
      "metadata": {
        "id": "2kYtj6r-g7g_"
      },
      "execution_count": 3,
      "outputs": []
    },
    {
      "cell_type": "code",
      "source": [
        "def dibjuar_mapa_con_dist(df_draw: pd.DataFrame, col_target: str, circle: bool):\n",
        "  \"\"\"Dibujar un mapa para identificar localización de ciertos puntos\n",
        "  y dibujar sobre ellos otros objetos\"\"\"\n",
        "\n",
        "  mapa = folium.Map(location=[-38.951678, -68.059189], zoom_start=13) # Localizar en Neuquén Capital\n",
        "  map_color = ['green','red','orange']\n",
        "  # Agregamos los puntos de las localidades\n",
        "  for index, row in df_draw.iterrows():\n",
        "      folium.Marker([row['lat'], row['lon']], popup=row['Ecopunto']).add_to(mapa)\n",
        "\n",
        "  if circle:\n",
        "    # Agregamos elementos dado el valor de cada variable de interés\n",
        "    for i, col in enumerate(list(df_draw[col_target].unique())):\n",
        "      for index, row in df_draw.loc[df_draw[col_target]==col].iterrows():\n",
        "          folium.Circle(\n",
        "              location=[row['lat'], row['lon']],\n",
        "              radius=500,\n",
        "              popup='500m', # para que aparezca como detalle al hacer click en alguna de las burbujas\n",
        "              fill=True,\n",
        "              fill_opacity=0.3,\n",
        "              color='blue'\n",
        "          ).add_to(mapa)\n",
        "\n",
        "\n",
        "  # Agregamos una capa de control al mapa\n",
        "  folium.LayerControl().add_to(mapa)\n",
        "\n",
        "  return mapa"
      ],
      "metadata": {
        "id": "z0BuntCthH-0"
      },
      "execution_count": 4,
      "outputs": []
    },
    {
      "cell_type": "markdown",
      "source": [
        "# Análisis"
      ],
      "metadata": {
        "id": "cxr2zCNvhIiL"
      }
    },
    {
      "cell_type": "code",
      "source": [],
      "metadata": {
        "id": "Z4FjI7-woruM"
      },
      "execution_count": 4,
      "outputs": []
    },
    {
      "cell_type": "markdown",
      "source": [
        "Fecha de relevamiento: 29/09/2023 - 11/10/2023"
      ],
      "metadata": {
        "id": "Egy8yKzyoxom"
      }
    },
    {
      "cell_type": "markdown",
      "source": [
        "Muchos ecopuntos recolecatban sólo material plástico, por ejemplo botellas. No los usaba la gente en general, si no las personas encargadas del lugar"
      ],
      "metadata": {
        "id": "rXlGMEEcg8CD"
      }
    },
    {
      "cell_type": "code",
      "source": [
        "df = pd.read_csv('drive/MyDrive/AnalisisDeDatos/df_cleanedv2.csv')"
      ],
      "metadata": {
        "id": "rSZ2rFKvbERa"
      },
      "execution_count": 5,
      "outputs": []
    },
    {
      "cell_type": "code",
      "source": [
        "print('Total de ecopuntos relevados: ', df.shape[0])"
      ],
      "metadata": {
        "colab": {
          "base_uri": "https://localhost:8080/"
        },
        "id": "_SKm8_ngoNm8",
        "outputId": "55716f75-9dd2-4004-8ad5-d3b67e3bd7ba"
      },
      "execution_count": 6,
      "outputs": [
        {
          "output_type": "stream",
          "name": "stdout",
          "text": [
            "Total de ecopuntos relevados:  22\n"
          ]
        }
      ]
    },
    {
      "cell_type": "code",
      "source": [
        "#df.head()"
      ],
      "metadata": {
        "id": "d1cZltNXcD87"
      },
      "execution_count": 7,
      "outputs": []
    },
    {
      "cell_type": "markdown",
      "source": [
        "# Estado actual de los ecopuntos"
      ],
      "metadata": {
        "id": "mWdYyl9QcF_V"
      }
    },
    {
      "cell_type": "code",
      "source": [
        "data = df['Estado actual'].value_counts().values\n",
        "labels = df['Estado actual'].value_counts(normalize=True).index\n",
        "colors = sns.color_palette('Set2')\n",
        "\n",
        "plt.pie(data, labels=labels,colors = colors, autopct = '%0.0f%%')#, explode = explode)\n",
        "plt.show()"
      ],
      "metadata": {
        "colab": {
          "base_uri": "https://localhost:8080/",
          "height": 406
        },
        "id": "CF3t8JK1biBk",
        "outputId": "30a2f07b-2b07-40ce-cf05-0f9d4ea75bb7"
      },
      "execution_count": 8,
      "outputs": [
        {
          "output_type": "display_data",
          "data": {
            "text/plain": [
              "<Figure size 640x480 with 1 Axes>"
            ],
            "image/png": "[encoded data removed]"
          },
          "metadata": {}
        }
      ]
    },
    {
      "cell_type": "code",
      "source": [
        "dibjuar_mapa(df, 'Estado actual', circle=True)"
      ],
      "metadata": {
        "id": "X85Jhwk3rs0j",
        "colab": {
          "base_uri": "https://localhost:8080/",
          "height": 787
        },
        "outputId": "9bae0256-d263-4ff2-92de-1fd320c374d6"
      },
      "execution_count": null,
      "outputs": [
        {
          "output_type": "execute_result",
          "data": {
            "text/plain": [
              "<folium.folium.Map at 0x7966e498a800>"
            ],
            "text/html": [
              "<div style=\"width:100%;\"><div style=\"position:relative;width:100%;height:0;padding-bottom:60%;\"><span style=\"color:#565656\">Make this Notebook Trusted to load map: File -> Trust Notebook</span><iframe srcdoc=\"&lt;!DOCTYPE html&gt;\n",
              "&lt;html&gt;\n",
              "&lt;head&gt;\n",
              "    \n",
              "    &lt;meta http-equiv=&quot;content-type&quot; content=&quot;text/html; charset=UTF-8&quot; /&gt;\n",
              "    \n",
              "        &lt;script&gt;\n",
              "            L_NO_TOUCH = false;\n",
              "            L_DISABLE_3D = false;\n",
              "        &lt;/script&gt;\n",
              "    \n",
              "    &lt;style&gt;html, body {width: 100%;height: 100%;margin: 0;padding: 0;}&lt;/style&gt;\n",
              "    &lt;style&gt;#map {position:absolute;top:0;bottom:0;right:0;left:0;}&lt;/style&gt;\n",
              "    &lt;script src=&quot;https://cdn.jsdelivr.net/npm/leaflet@1.9.3/dist/leaflet.js&quot;&gt;&lt;/script&gt;\n",
              "    &lt;script src=&quot;https://code.jquery.com/jquery-1.12.4.min.js&quot;&gt;&lt;/script&gt;\n",
              "    &lt;script src=&quot;https://cdn.jsdelivr.net/npm/bootstrap@5.2.2/dist/js/bootstrap.bundle.min.js&quot;&gt;&lt;/script&gt;\n",
              "    &lt;script src=&quot;https://cdnjs.cloudflare.com/ajax/libs/Leaflet.awesome-markers/2.0.2/leaflet.awesome-markers.js&quot;&gt;&lt;/script&gt;\n",
              "    &lt;link rel=&quot;stylesheet&quot; href=&quot;https://cdn.jsdelivr.net/npm/leaflet@1.9.3/dist/leaflet.css&quot;/&gt;\n",
              "    &lt;link rel=&quot;stylesheet&quot; href=&quot;https://cdn.jsdelivr.net/npm/bootstrap@5.2.2/dist/css/bootstrap.min.css&quot;/&gt;\n",
              "    &lt;link rel=&quot;stylesheet&quot; href=&quot;https://netdna.bootstrapcdn.com/bootstrap/3.0.0/css/bootstrap.min.css&quot;/&gt;\n",
              "    &lt;link rel=&quot;stylesheet&quot; href=&quot;https://cdn.jsdelivr.net/npm/@fortawesome/fontawesome-free@6.2.0/css/all.min.css&quot;/&gt;\n",
              "    &lt;link rel=&quot;stylesheet&quot; href=&quot;https://cdnjs.cloudflare.com/ajax/libs/Leaflet.awesome-markers/2.0.2/leaflet.awesome-markers.css&quot;/&gt;\n",
              "    &lt;link rel=&quot;stylesheet&quot; href=&quot;https://cdn.jsdelivr.net/gh/python-visualization/folium/folium/templates/leaflet.awesome.rotate.min.css&quot;/&gt;\n",
              "    \n",
              "            &lt;meta name=&quot;viewport&quot; content=&quot;width=device-width,\n",
              "                initial-scale=1.0, maximum-scale=1.0, user-scalable=no&quot; /&gt;\n",
              "            &lt;style&gt;\n",
              "                #map_5cdeb644adabf322865dbfe2b82a151b {\n",
              "                    position: relative;\n",
              "                    width: 100.0%;\n",
              "                    height: 100.0%;\n",
              "                    left: 0.0%;\n",
              "                    top: 0.0%;\n",
              "                }\n",
              "                .leaflet-container { font-size: 1rem; }\n",
              "            &lt;/style&gt;\n",
              "        \n",
              "&lt;/head&gt;\n",
              "&lt;body&gt;\n",
              "    \n",
              "    \n",
              "            &lt;div class=&quot;folium-map&quot; id=&quot;map_5cdeb644adabf322865dbfe2b82a151b&quot; &gt;&lt;/div&gt;\n",
              "        \n",
              "&lt;/body&gt;\n",
              "&lt;script&gt;\n",
              "    \n",
              "    \n",
              "            var map_5cdeb644adabf322865dbfe2b82a151b = L.map(\n",
              "                &quot;map_5cdeb644adabf322865dbfe2b82a151b&quot;,\n",
              "                {\n",
              "                    center: [-38.951678, -68.059189],\n",
              "                    crs: L.CRS.EPSG3857,\n",
              "                    zoom: 13,\n",
              "                    zoomControl: true,\n",
              "                    preferCanvas: false,\n",
              "                }\n",
              "            );\n",
              "\n",
              "            \n",
              "\n",
              "        \n",
              "    \n",
              "            var tile_layer_00955a6d865b55d7e5bd0d27290fe9b1 = L.tileLayer(\n",
              "                &quot;https://{s}.tile.openstreetmap.org/{z}/{x}/{y}.png&quot;,\n",
              "                {&quot;attribution&quot;: &quot;Data by \\u0026copy; \\u003ca target=\\&quot;_blank\\&quot; href=\\&quot;http://openstreetmap.org\\&quot;\\u003eOpenStreetMap\\u003c/a\\u003e, under \\u003ca target=\\&quot;_blank\\&quot; href=\\&quot;http://www.openstreetmap.org/copyright\\&quot;\\u003eODbL\\u003c/a\\u003e.&quot;, &quot;detectRetina&quot;: false, &quot;maxNativeZoom&quot;: 18, &quot;maxZoom&quot;: 18, &quot;minZoom&quot;: 0, &quot;noWrap&quot;: false, &quot;opacity&quot;: 1, &quot;subdomains&quot;: &quot;abc&quot;, &quot;tms&quot;: false}\n",
              "            ).addTo(map_5cdeb644adabf322865dbfe2b82a151b);\n",
              "        \n",
              "    \n",
              "            var marker_9242aab1816b9751943b9e30b14d166f = L.marker(\n",
              "                [-38.950763, -68.030233],\n",
              "                {}\n",
              "            ).addTo(map_5cdeb644adabf322865dbfe2b82a151b);\n",
              "        \n",
              "    \n",
              "        var popup_b9f38e52e1a71a83a01e8c1b699fa7ec = L.popup({&quot;maxWidth&quot;: &quot;100%&quot;});\n",
              "\n",
              "        \n",
              "            \n",
              "                var html_b57e1111312e4a1b04c24c4696b289be = $(`&lt;div id=&quot;html_b57e1111312e4a1b04c24c4696b289be&quot; style=&quot;width: 100.0%; height: 100.0%;&quot;&gt;CLUB SAPERE&lt;/div&gt;`)[0];\n",
              "                popup_b9f38e52e1a71a83a01e8c1b699fa7ec.setContent(html_b57e1111312e4a1b04c24c4696b289be);\n",
              "            \n",
              "        \n",
              "\n",
              "        marker_9242aab1816b9751943b9e30b14d166f.bindPopup(popup_b9f38e52e1a71a83a01e8c1b699fa7ec)\n",
              "        ;\n",
              "\n",
              "        \n",
              "    \n",
              "    \n",
              "            var marker_6487c806ceac0a4c44e6d33f0d3045fb = L.marker(\n",
              "                [-38.958925, -68.033169],\n",
              "                {}\n",
              "            ).addTo(map_5cdeb644adabf322865dbfe2b82a151b);\n",
              "        \n",
              "    \n",
              "        var popup_920bc69b292225b4bcd3f68c4214534c = L.popup({&quot;maxWidth&quot;: &quot;100%&quot;});\n",
              "\n",
              "        \n",
              "            \n",
              "                var html_5529bbfa821988631b9eb1d1238c9fa9 = $(`&lt;div id=&quot;html_5529bbfa821988631b9eb1d1238c9fa9&quot; style=&quot;width: 100.0%; height: 100.0%;&quot;&gt;ESCUELA PRIMARIA Nº103&lt;/div&gt;`)[0];\n",
              "                popup_920bc69b292225b4bcd3f68c4214534c.setContent(html_5529bbfa821988631b9eb1d1238c9fa9);\n",
              "            \n",
              "        \n",
              "\n",
              "        marker_6487c806ceac0a4c44e6d33f0d3045fb.bindPopup(popup_920bc69b292225b4bcd3f68c4214534c)\n",
              "        ;\n",
              "\n",
              "        \n",
              "    \n",
              "    \n",
              "            var marker_0279b9101d6de5b3c589c6c8b8238e62 = L.marker(\n",
              "                [-38.9777399, -68.0380076],\n",
              "                {}\n",
              "            ).addTo(map_5cdeb644adabf322865dbfe2b82a151b);\n",
              "        \n",
              "    \n",
              "        var popup_a07131dfce2a7aacc3c90cc47f258af7 = L.popup({&quot;maxWidth&quot;: &quot;100%&quot;});\n",
              "\n",
              "        \n",
              "            \n",
              "                var html_69fb38f54792a1e277704dadbc627c00 = $(`&lt;div id=&quot;html_69fb38f54792a1e277704dadbc627c00&quot; style=&quot;width: 100.0%; height: 100.0%;&quot;&gt;Club BPN Cancha de Padel&lt;/div&gt;`)[0];\n",
              "                popup_a07131dfce2a7aacc3c90cc47f258af7.setContent(html_69fb38f54792a1e277704dadbc627c00);\n",
              "            \n",
              "        \n",
              "\n",
              "        marker_0279b9101d6de5b3c589c6c8b8238e62.bindPopup(popup_a07131dfce2a7aacc3c90cc47f258af7)\n",
              "        ;\n",
              "\n",
              "        \n",
              "    \n",
              "    \n",
              "            var marker_aba66909b814b777795538006491db9d = L.marker(\n",
              "                [-38.973181, -68.059914],\n",
              "                {}\n",
              "            ).addTo(map_5cdeb644adabf322865dbfe2b82a151b);\n",
              "        \n",
              "    \n",
              "        var popup_196dd0e430ac60f1d79d7e8a3fa5d5d2 = L.popup({&quot;maxWidth&quot;: &quot;100%&quot;});\n",
              "\n",
              "        \n",
              "            \n",
              "                var html_120faf0f7ffda9c4e6444c4acf432e38 = $(`&lt;div id=&quot;html_120faf0f7ffda9c4e6444c4acf432e38&quot; style=&quot;width: 100.0%; height: 100.0%;&quot;&gt;FUZION PADDLE&lt;/div&gt;`)[0];\n",
              "                popup_196dd0e430ac60f1d79d7e8a3fa5d5d2.setContent(html_120faf0f7ffda9c4e6444c4acf432e38);\n",
              "            \n",
              "        \n",
              "\n",
              "        marker_aba66909b814b777795538006491db9d.bindPopup(popup_196dd0e430ac60f1d79d7e8a3fa5d5d2)\n",
              "        ;\n",
              "\n",
              "        \n",
              "    \n",
              "    \n",
              "            var marker_5cd0c71d1e6c9a0354c0adceff970c45 = L.marker(\n",
              "                [-38.958652, -68.105819],\n",
              "                {}\n",
              "            ).addTo(map_5cdeb644adabf322865dbfe2b82a151b);\n",
              "        \n",
              "    \n",
              "        var popup_caa8f5543f4dba892499088d62e50455 = L.popup({&quot;maxWidth&quot;: &quot;100%&quot;});\n",
              "\n",
              "        \n",
              "            \n",
              "                var html_669adfcb5b726a77d706b9d86acb51dc = $(`&lt;div id=&quot;html_669adfcb5b726a77d706b9d86acb51dc&quot; style=&quot;width: 100.0%; height: 100.0%;&quot;&gt;ETON&lt;/div&gt;`)[0];\n",
              "                popup_caa8f5543f4dba892499088d62e50455.setContent(html_669adfcb5b726a77d706b9d86acb51dc);\n",
              "            \n",
              "        \n",
              "\n",
              "        marker_5cd0c71d1e6c9a0354c0adceff970c45.bindPopup(popup_caa8f5543f4dba892499088d62e50455)\n",
              "        ;\n",
              "\n",
              "        \n",
              "    \n",
              "    \n",
              "            var marker_29078a90be47ec59ef2f4f4cb4472870 = L.marker(\n",
              "                [-38.9508189, -68.1027686],\n",
              "                {}\n",
              "            ).addTo(map_5cdeb644adabf322865dbfe2b82a151b);\n",
              "        \n",
              "    \n",
              "        var popup_14aa5915a7556a48d867af263a5195a9 = L.popup({&quot;maxWidth&quot;: &quot;100%&quot;});\n",
              "\n",
              "        \n",
              "            \n",
              "                var html_f48bc808012caf8846b131899cb097fb = $(`&lt;div id=&quot;html_f48bc808012caf8846b131899cb097fb&quot; style=&quot;width: 100.0%; height: 100.0%;&quot;&gt;Comisión vecinal Barrio Huiliches&lt;/div&gt;`)[0];\n",
              "                popup_14aa5915a7556a48d867af263a5195a9.setContent(html_f48bc808012caf8846b131899cb097fb);\n",
              "            \n",
              "        \n",
              "\n",
              "        marker_29078a90be47ec59ef2f4f4cb4472870.bindPopup(popup_14aa5915a7556a48d867af263a5195a9)\n",
              "        ;\n",
              "\n",
              "        \n",
              "    \n",
              "    \n",
              "            var marker_ac61ea9d5bcccdc05f3e4dda3bfc2d7b = L.marker(\n",
              "                [-38.948714, -68.106273],\n",
              "                {}\n",
              "            ).addTo(map_5cdeb644adabf322865dbfe2b82a151b);\n",
              "        \n",
              "    \n",
              "        var popup_0f53ab12e11104c439a63e85d3fcc00a = L.popup({&quot;maxWidth&quot;: &quot;100%&quot;});\n",
              "\n",
              "        \n",
              "            \n",
              "                var html_c72c44f790038f217993aebb7362f4fb = $(`&lt;div id=&quot;html_c72c44f790038f217993aebb7362f4fb&quot; style=&quot;width: 100.0%; height: 100.0%;&quot;&gt;C.E.P.M Nº47&lt;/div&gt;`)[0];\n",
              "                popup_0f53ab12e11104c439a63e85d3fcc00a.setContent(html_c72c44f790038f217993aebb7362f4fb);\n",
              "            \n",
              "        \n",
              "\n",
              "        marker_ac61ea9d5bcccdc05f3e4dda3bfc2d7b.bindPopup(popup_0f53ab12e11104c439a63e85d3fcc00a)\n",
              "        ;\n",
              "\n",
              "        \n",
              "    \n",
              "    \n",
              "            var marker_2c2338c26cbfe86cc2bd910d7ac5bb70 = L.marker(\n",
              "                [-38.947885, -68.114789],\n",
              "                {}\n",
              "            ).addTo(map_5cdeb644adabf322865dbfe2b82a151b);\n",
              "        \n",
              "    \n",
              "        var popup_cf41b60446d114fc15f57421523d76c4 = L.popup({&quot;maxWidth&quot;: &quot;100%&quot;});\n",
              "\n",
              "        \n",
              "            \n",
              "                var html_f9cb948a52f4892b4303783a518919b0 = $(`&lt;div id=&quot;html_f9cb948a52f4892b4303783a518919b0&quot; style=&quot;width: 100.0%; height: 100.0%;&quot;&gt;DELG. MUN. DE AGRICULTURA URBANA&lt;/div&gt;`)[0];\n",
              "                popup_cf41b60446d114fc15f57421523d76c4.setContent(html_f9cb948a52f4892b4303783a518919b0);\n",
              "            \n",
              "        \n",
              "\n",
              "        marker_2c2338c26cbfe86cc2bd910d7ac5bb70.bindPopup(popup_cf41b60446d114fc15f57421523d76c4)\n",
              "        ;\n",
              "\n",
              "        \n",
              "    \n",
              "    \n",
              "            var marker_597148b5646baa11f4c0e082e935c92f = L.marker(\n",
              "                [-38.941866, -68.063388],\n",
              "                {}\n",
              "            ).addTo(map_5cdeb644adabf322865dbfe2b82a151b);\n",
              "        \n",
              "    \n",
              "        var popup_79a47d7dc19f4f29e32fba17396f9a74 = L.popup({&quot;maxWidth&quot;: &quot;100%&quot;});\n",
              "\n",
              "        \n",
              "            \n",
              "                var html_f69da6df0b9ed8882709dac64b3e9460 = $(`&lt;div id=&quot;html_f69da6df0b9ed8882709dac64b3e9460&quot; style=&quot;width: 100.0%; height: 100.0%;&quot;&gt;ALTO COMAHUE SHOPPING&lt;/div&gt;`)[0];\n",
              "                popup_79a47d7dc19f4f29e32fba17396f9a74.setContent(html_f69da6df0b9ed8882709dac64b3e9460);\n",
              "            \n",
              "        \n",
              "\n",
              "        marker_597148b5646baa11f4c0e082e935c92f.bindPopup(popup_79a47d7dc19f4f29e32fba17396f9a74)\n",
              "        ;\n",
              "\n",
              "        \n",
              "    \n",
              "    \n",
              "            var marker_0b378ba39748563137491deb18410aeb = L.marker(\n",
              "                [-38.9375346, -68.0698444],\n",
              "                {}\n",
              "            ).addTo(map_5cdeb644adabf322865dbfe2b82a151b);\n",
              "        \n",
              "    \n",
              "        var popup_affd9050dc26c65fb8da652c3894e366 = L.popup({&quot;maxWidth&quot;: &quot;100%&quot;});\n",
              "\n",
              "        \n",
              "            \n",
              "                var html_5aa23161a896c77f535448c356210944 = $(`&lt;div id=&quot;html_5aa23161a896c77f535448c356210944&quot; style=&quot;width: 100.0%; height: 100.0%;&quot;&gt;Barrio Altabarda&lt;/div&gt;`)[0];\n",
              "                popup_affd9050dc26c65fb8da652c3894e366.setContent(html_5aa23161a896c77f535448c356210944);\n",
              "            \n",
              "        \n",
              "\n",
              "        marker_0b378ba39748563137491deb18410aeb.bindPopup(popup_affd9050dc26c65fb8da652c3894e366)\n",
              "        ;\n",
              "\n",
              "        \n",
              "    \n",
              "    \n",
              "            var marker_3259b29664d5503c525e3098b220bc07 = L.marker(\n",
              "                [-38.934292, -68.117583],\n",
              "                {}\n",
              "            ).addTo(map_5cdeb644adabf322865dbfe2b82a151b);\n",
              "        \n",
              "    \n",
              "        var popup_7188397740053a5240fdc5c8353ddc19 = L.popup({&quot;maxWidth&quot;: &quot;100%&quot;});\n",
              "\n",
              "        \n",
              "            \n",
              "                var html_e4a8ca706bd2c5f92b31e34c5fe47693 = $(`&lt;div id=&quot;html_e4a8ca706bd2c5f92b31e34c5fe47693&quot; style=&quot;width: 100.0%; height: 100.0%;&quot;&gt;DELG. MUN. ALTO GODOY&lt;/div&gt;`)[0];\n",
              "                popup_7188397740053a5240fdc5c8353ddc19.setContent(html_e4a8ca706bd2c5f92b31e34c5fe47693);\n",
              "            \n",
              "        \n",
              "\n",
              "        marker_3259b29664d5503c525e3098b220bc07.bindPopup(popup_7188397740053a5240fdc5c8353ddc19)\n",
              "        ;\n",
              "\n",
              "        \n",
              "    \n",
              "    \n",
              "            var marker_437d99993e7f96a41ce3b47a1000ef36 = L.marker(\n",
              "                [-38.926023, -68.070947],\n",
              "                {}\n",
              "            ).addTo(map_5cdeb644adabf322865dbfe2b82a151b);\n",
              "        \n",
              "    \n",
              "        var popup_2dc581887d1f77fb09b04a74f3605a09 = L.popup({&quot;maxWidth&quot;: &quot;100%&quot;});\n",
              "\n",
              "        \n",
              "            \n",
              "                var html_022249f5efee305a8daea69cbd3b9a24 = $(`&lt;div id=&quot;html_022249f5efee305a8daea69cbd3b9a24&quot; style=&quot;width: 100.0%; height: 100.0%;&quot;&gt;COMISIÓN VEC. Bº 14 DE OCTUBRE- COPOL&lt;/div&gt;`)[0];\n",
              "                popup_2dc581887d1f77fb09b04a74f3605a09.setContent(html_022249f5efee305a8daea69cbd3b9a24);\n",
              "            \n",
              "        \n",
              "\n",
              "        marker_437d99993e7f96a41ce3b47a1000ef36.bindPopup(popup_2dc581887d1f77fb09b04a74f3605a09)\n",
              "        ;\n",
              "\n",
              "        \n",
              "    \n",
              "    \n",
              "            var marker_57d815eba8ec3f4192745527f8c45730 = L.marker(\n",
              "                [-38.910716, -68.145532],\n",
              "                {}\n",
              "            ).addTo(map_5cdeb644adabf322865dbfe2b82a151b);\n",
              "        \n",
              "    \n",
              "        var popup_29fb99599d9cf071a760d4681898c4b2 = L.popup({&quot;maxWidth&quot;: &quot;100%&quot;});\n",
              "\n",
              "        \n",
              "            \n",
              "                var html_275d4c6b49a4298f3ff1bbfbc7c3fca7 = $(`&lt;div id=&quot;html_275d4c6b49a4298f3ff1bbfbc7c3fca7&quot; style=&quot;width: 100.0%; height: 100.0%;&quot;&gt;YPF PETRO OESTE&lt;/div&gt;`)[0];\n",
              "                popup_29fb99599d9cf071a760d4681898c4b2.setContent(html_275d4c6b49a4298f3ff1bbfbc7c3fca7);\n",
              "            \n",
              "        \n",
              "\n",
              "        marker_57d815eba8ec3f4192745527f8c45730.bindPopup(popup_29fb99599d9cf071a760d4681898c4b2)\n",
              "        ;\n",
              "\n",
              "        \n",
              "    \n",
              "    \n",
              "            var marker_ef7fa0ceb564e4106da8bb4b7a340b77 = L.marker(\n",
              "                [-38.94882, -68.09612],\n",
              "                {}\n",
              "            ).addTo(map_5cdeb644adabf322865dbfe2b82a151b);\n",
              "        \n",
              "    \n",
              "        var popup_e493efa18b57c01eb6c7069de31f2788 = L.popup({&quot;maxWidth&quot;: &quot;100%&quot;});\n",
              "\n",
              "        \n",
              "            \n",
              "                var html_59a038dc4918b28fbe09832753828da3 = $(`&lt;div id=&quot;html_59a038dc4918b28fbe09832753828da3&quot; style=&quot;width: 100.0%; height: 100.0%;&quot;&gt;COMISIÓN VEC. Bº EL PROGRESO&lt;/div&gt;`)[0];\n",
              "                popup_e493efa18b57c01eb6c7069de31f2788.setContent(html_59a038dc4918b28fbe09832753828da3);\n",
              "            \n",
              "        \n",
              "\n",
              "        marker_ef7fa0ceb564e4106da8bb4b7a340b77.bindPopup(popup_e493efa18b57c01eb6c7069de31f2788)\n",
              "        ;\n",
              "\n",
              "        \n",
              "    \n",
              "    \n",
              "            var marker_18fd5852a4186a2e4586c1e5c4f5d887 = L.marker(\n",
              "                [-38.947237, -68.092334],\n",
              "                {}\n",
              "            ).addTo(map_5cdeb644adabf322865dbfe2b82a151b);\n",
              "        \n",
              "    \n",
              "        var popup_d81df1a1779d9d642b88ec086771c031 = L.popup({&quot;maxWidth&quot;: &quot;100%&quot;});\n",
              "\n",
              "        \n",
              "            \n",
              "                var html_0cc1237a900f09720476f1d0e8576e40 = $(`&lt;div id=&quot;html_0cc1237a900f09720476f1d0e8576e40&quot; style=&quot;width: 100.0%; height: 100.0%;&quot;&gt;DELG. MUN. PROGRESO&lt;/div&gt;`)[0];\n",
              "                popup_d81df1a1779d9d642b88ec086771c031.setContent(html_0cc1237a900f09720476f1d0e8576e40);\n",
              "            \n",
              "        \n",
              "\n",
              "        marker_18fd5852a4186a2e4586c1e5c4f5d887.bindPopup(popup_d81df1a1779d9d642b88ec086771c031)\n",
              "        ;\n",
              "\n",
              "        \n",
              "    \n",
              "    \n",
              "            var marker_2bc09fa870e56f87f1974ba94f355b3d = L.marker(\n",
              "                [-38.955127, -68.130564],\n",
              "                {}\n",
              "            ).addTo(map_5cdeb644adabf322865dbfe2b82a151b);\n",
              "        \n",
              "    \n",
              "        var popup_9e71a51d447305da58afb4f025013c69 = L.popup({&quot;maxWidth&quot;: &quot;100%&quot;});\n",
              "\n",
              "        \n",
              "            \n",
              "                var html_0ef4d7474a49731486bdd4e24a4ff318 = $(`&lt;div id=&quot;html_0ef4d7474a49731486bdd4e24a4ff318&quot; style=&quot;width: 100.0%; height: 100.0%;&quot;&gt;CPEM Nº29&lt;/div&gt;`)[0];\n",
              "                popup_9e71a51d447305da58afb4f025013c69.setContent(html_0ef4d7474a49731486bdd4e24a4ff318);\n",
              "            \n",
              "        \n",
              "\n",
              "        marker_2bc09fa870e56f87f1974ba94f355b3d.bindPopup(popup_9e71a51d447305da58afb4f025013c69)\n",
              "        ;\n",
              "\n",
              "        \n",
              "    \n",
              "    \n",
              "            var marker_2229328c755daaa2cbc30b2849e6540a = L.marker(\n",
              "                [-38.972037, -68.056279],\n",
              "                {}\n",
              "            ).addTo(map_5cdeb644adabf322865dbfe2b82a151b);\n",
              "        \n",
              "    \n",
              "        var popup_b38e4b4000fad82a0eb0dab24319b87d = L.popup({&quot;maxWidth&quot;: &quot;100%&quot;});\n",
              "\n",
              "        \n",
              "            \n",
              "                var html_8fe5a32406512072dbc4852238800c4e = $(`&lt;div id=&quot;html_8fe5a32406512072dbc4852238800c4e&quot; style=&quot;width: 100.0%; height: 100.0%;&quot;&gt;CLUB EL BIGUÁ&lt;/div&gt;`)[0];\n",
              "                popup_b38e4b4000fad82a0eb0dab24319b87d.setContent(html_8fe5a32406512072dbc4852238800c4e);\n",
              "            \n",
              "        \n",
              "\n",
              "        marker_2229328c755daaa2cbc30b2849e6540a.bindPopup(popup_b38e4b4000fad82a0eb0dab24319b87d)\n",
              "        ;\n",
              "\n",
              "        \n",
              "    \n",
              "    \n",
              "            var marker_80cffdb224482b553b796e3f00aa1b3b = L.marker(\n",
              "                [-38.9770904, -68.0590695],\n",
              "                {}\n",
              "            ).addTo(map_5cdeb644adabf322865dbfe2b82a151b);\n",
              "        \n",
              "    \n",
              "        var popup_31fd8f55063523ce3b5b637efa0b79ea = L.popup({&quot;maxWidth&quot;: &quot;100%&quot;});\n",
              "\n",
              "        \n",
              "            \n",
              "                var html_780c61fe28bf547ba3b15b7d97722c55 = $(`&lt;div id=&quot;html_780c61fe28bf547ba3b15b7d97722c55&quot; style=&quot;width: 100.0%; height: 100.0%;&quot;&gt;COMPLEJO ORSAI&lt;/div&gt;`)[0];\n",
              "                popup_31fd8f55063523ce3b5b637efa0b79ea.setContent(html_780c61fe28bf547ba3b15b7d97722c55);\n",
              "            \n",
              "        \n",
              "\n",
              "        marker_80cffdb224482b553b796e3f00aa1b3b.bindPopup(popup_31fd8f55063523ce3b5b637efa0b79ea)\n",
              "        ;\n",
              "\n",
              "        \n",
              "    \n",
              "    \n",
              "            var marker_4196a0e5bd2101c64eab768515274889 = L.marker(\n",
              "                [-38.95169, -68.070817],\n",
              "                {}\n",
              "            ).addTo(map_5cdeb644adabf322865dbfe2b82a151b);\n",
              "        \n",
              "    \n",
              "        var popup_698c28769dd3e970e4f5376eb3a0236a = L.popup({&quot;maxWidth&quot;: &quot;100%&quot;});\n",
              "\n",
              "        \n",
              "            \n",
              "                var html_66e598717cf84bd94637507c8502bbe6 = $(`&lt;div id=&quot;html_66e598717cf84bd94637507c8502bbe6&quot; style=&quot;width: 100.0%; height: 100.0%;&quot;&gt;COLEGIO MARÍA AUXILIADORA&lt;/div&gt;`)[0];\n",
              "                popup_698c28769dd3e970e4f5376eb3a0236a.setContent(html_66e598717cf84bd94637507c8502bbe6);\n",
              "            \n",
              "        \n",
              "\n",
              "        marker_4196a0e5bd2101c64eab768515274889.bindPopup(popup_698c28769dd3e970e4f5376eb3a0236a)\n",
              "        ;\n",
              "\n",
              "        \n",
              "    \n",
              "    \n",
              "            var marker_3684e36b16a6df868e34e7c68ceec109 = L.marker(\n",
              "                [-38.957223, -68.052845],\n",
              "                {}\n",
              "            ).addTo(map_5cdeb644adabf322865dbfe2b82a151b);\n",
              "        \n",
              "    \n",
              "        var popup_830eb4e49112fee8bac4c331741aaaf0 = L.popup({&quot;maxWidth&quot;: &quot;100%&quot;});\n",
              "\n",
              "        \n",
              "            \n",
              "                var html_f1e7edf0a0187804ff429d4bf5aa5a27 = $(`&lt;div id=&quot;html_f1e7edf0a0187804ff429d4bf5aa5a27&quot; style=&quot;width: 100.0%; height: 100.0%;&quot;&gt;TRIBUNAL MUN. DE FALTAS&lt;/div&gt;`)[0];\n",
              "                popup_830eb4e49112fee8bac4c331741aaaf0.setContent(html_f1e7edf0a0187804ff429d4bf5aa5a27);\n",
              "            \n",
              "        \n",
              "\n",
              "        marker_3684e36b16a6df868e34e7c68ceec109.bindPopup(popup_830eb4e49112fee8bac4c331741aaaf0)\n",
              "        ;\n",
              "\n",
              "        \n",
              "    \n",
              "    \n",
              "            var marker_e451a25ac78eb3e298e31b3470f4cd5e = L.marker(\n",
              "                [-38.945316, -68.058733],\n",
              "                {}\n",
              "            ).addTo(map_5cdeb644adabf322865dbfe2b82a151b);\n",
              "        \n",
              "    \n",
              "        var popup_8f402264f19dae5e01086513f943b4f8 = L.popup({&quot;maxWidth&quot;: &quot;100%&quot;});\n",
              "\n",
              "        \n",
              "            \n",
              "                var html_0ccafd4113b47bb7c9b738700f683021 = $(`&lt;div id=&quot;html_0ccafd4113b47bb7c9b738700f683021&quot; style=&quot;width: 100.0%; height: 100.0%;&quot;&gt;COLEGIO SAN MARTÍN &lt;/div&gt;`)[0];\n",
              "                popup_8f402264f19dae5e01086513f943b4f8.setContent(html_0ccafd4113b47bb7c9b738700f683021);\n",
              "            \n",
              "        \n",
              "\n",
              "        marker_e451a25ac78eb3e298e31b3470f4cd5e.bindPopup(popup_8f402264f19dae5e01086513f943b4f8)\n",
              "        ;\n",
              "\n",
              "        \n",
              "    \n",
              "    \n",
              "            var marker_b13b8400ebccd195d13870246032e8e9 = L.marker(\n",
              "                [-38.910716, -68.145532],\n",
              "                {}\n",
              "            ).addTo(map_5cdeb644adabf322865dbfe2b82a151b);\n",
              "        \n",
              "    \n",
              "        var popup_e0db9ac1ddf5f9100c25ea0e9aa417d8 = L.popup({&quot;maxWidth&quot;: &quot;100%&quot;});\n",
              "\n",
              "        \n",
              "            \n",
              "                var html_9d9c50ae28da87b9235f9b52d9d24a6d = $(`&lt;div id=&quot;html_9d9c50ae28da87b9235f9b52d9d24a6d&quot; style=&quot;width: 100.0%; height: 100.0%;&quot;&gt;YPF PETRO OESTE&lt;/div&gt;`)[0];\n",
              "                popup_e0db9ac1ddf5f9100c25ea0e9aa417d8.setContent(html_9d9c50ae28da87b9235f9b52d9d24a6d);\n",
              "            \n",
              "        \n",
              "\n",
              "        marker_b13b8400ebccd195d13870246032e8e9.bindPopup(popup_e0db9ac1ddf5f9100c25ea0e9aa417d8)\n",
              "        ;\n",
              "\n",
              "        \n",
              "    \n",
              "    \n",
              "            var circle_cbad49d6388cba5c958b495571df2571 = L.circle(\n",
              "                [-38.950763, -68.030233],\n",
              "                {&quot;bubblingMouseEvents&quot;: true, &quot;color&quot;: &quot;green&quot;, &quot;dashArray&quot;: null, &quot;dashOffset&quot;: null, &quot;fill&quot;: true, &quot;fillColor&quot;: &quot;green&quot;, &quot;fillOpacity&quot;: 0.7, &quot;fillRule&quot;: &quot;evenodd&quot;, &quot;lineCap&quot;: &quot;round&quot;, &quot;lineJoin&quot;: &quot;round&quot;, &quot;opacity&quot;: 1.0, &quot;radius&quot;: 136, &quot;stroke&quot;: true, &quot;weight&quot;: 3}\n",
              "            ).addTo(map_5cdeb644adabf322865dbfe2b82a151b);\n",
              "        \n",
              "    \n",
              "        var popup_04c69629154a96457c48fb9d25981a57 = L.popup({&quot;maxWidth&quot;: &quot;100%&quot;});\n",
              "\n",
              "        \n",
              "            \n",
              "                var html_8eb9f0e93270b5d1f632395c23feec0a = $(`&lt;div id=&quot;html_8eb9f0e93270b5d1f632395c23feec0a&quot; style=&quot;width: 100.0%; height: 100.0%;&quot;&gt;Activo&lt;/div&gt;`)[0];\n",
              "                popup_04c69629154a96457c48fb9d25981a57.setContent(html_8eb9f0e93270b5d1f632395c23feec0a);\n",
              "            \n",
              "        \n",
              "\n",
              "        circle_cbad49d6388cba5c958b495571df2571.bindPopup(popup_04c69629154a96457c48fb9d25981a57)\n",
              "        ;\n",
              "\n",
              "        \n",
              "    \n",
              "    \n",
              "            var circle_3f8370d906c6c5700d31b76c3811ff5c = L.circle(\n",
              "                [-38.973181, -68.059914],\n",
              "                {&quot;bubblingMouseEvents&quot;: true, &quot;color&quot;: &quot;green&quot;, &quot;dashArray&quot;: null, &quot;dashOffset&quot;: null, &quot;fill&quot;: true, &quot;fillColor&quot;: &quot;green&quot;, &quot;fillOpacity&quot;: 0.7, &quot;fillRule&quot;: &quot;evenodd&quot;, &quot;lineCap&quot;: &quot;round&quot;, &quot;lineJoin&quot;: &quot;round&quot;, &quot;opacity&quot;: 1.0, &quot;radius&quot;: 136, &quot;stroke&quot;: true, &quot;weight&quot;: 3}\n",
              "            ).addTo(map_5cdeb644adabf322865dbfe2b82a151b);\n",
              "        \n",
              "    \n",
              "        var popup_54ec58576f54e4ce7c511a07dab3238f = L.popup({&quot;maxWidth&quot;: &quot;100%&quot;});\n",
              "\n",
              "        \n",
              "            \n",
              "                var html_1721a2fd36f9f324f1ac4bba7af33cd4 = $(`&lt;div id=&quot;html_1721a2fd36f9f324f1ac4bba7af33cd4&quot; style=&quot;width: 100.0%; height: 100.0%;&quot;&gt;Activo&lt;/div&gt;`)[0];\n",
              "                popup_54ec58576f54e4ce7c511a07dab3238f.setContent(html_1721a2fd36f9f324f1ac4bba7af33cd4);\n",
              "            \n",
              "        \n",
              "\n",
              "        circle_3f8370d906c6c5700d31b76c3811ff5c.bindPopup(popup_54ec58576f54e4ce7c511a07dab3238f)\n",
              "        ;\n",
              "\n",
              "        \n",
              "    \n",
              "    \n",
              "            var circle_3e1e464425a0c73422dcdb5fa68fda6e = L.circle(\n",
              "                [-38.948714, -68.106273],\n",
              "                {&quot;bubblingMouseEvents&quot;: true, &quot;color&quot;: &quot;green&quot;, &quot;dashArray&quot;: null, &quot;dashOffset&quot;: null, &quot;fill&quot;: true, &quot;fillColor&quot;: &quot;green&quot;, &quot;fillOpacity&quot;: 0.7, &quot;fillRule&quot;: &quot;evenodd&quot;, &quot;lineCap&quot;: &quot;round&quot;, &quot;lineJoin&quot;: &quot;round&quot;, &quot;opacity&quot;: 1.0, &quot;radius&quot;: 136, &quot;stroke&quot;: true, &quot;weight&quot;: 3}\n",
              "            ).addTo(map_5cdeb644adabf322865dbfe2b82a151b);\n",
              "        \n",
              "    \n",
              "        var popup_98e9686be3e4c741872a095a8a10d930 = L.popup({&quot;maxWidth&quot;: &quot;100%&quot;});\n",
              "\n",
              "        \n",
              "            \n",
              "                var html_61681bf176b5da9641525327c86b6703 = $(`&lt;div id=&quot;html_61681bf176b5da9641525327c86b6703&quot; style=&quot;width: 100.0%; height: 100.0%;&quot;&gt;Activo&lt;/div&gt;`)[0];\n",
              "                popup_98e9686be3e4c741872a095a8a10d930.setContent(html_61681bf176b5da9641525327c86b6703);\n",
              "            \n",
              "        \n",
              "\n",
              "        circle_3e1e464425a0c73422dcdb5fa68fda6e.bindPopup(popup_98e9686be3e4c741872a095a8a10d930)\n",
              "        ;\n",
              "\n",
              "        \n",
              "    \n",
              "    \n",
              "            var circle_cd49ef012e5c7f141cd44282e4cfba40 = L.circle(\n",
              "                [-38.941866, -68.063388],\n",
              "                {&quot;bubblingMouseEvents&quot;: true, &quot;color&quot;: &quot;green&quot;, &quot;dashArray&quot;: null, &quot;dashOffset&quot;: null, &quot;fill&quot;: true, &quot;fillColor&quot;: &quot;green&quot;, &quot;fillOpacity&quot;: 0.7, &quot;fillRule&quot;: &quot;evenodd&quot;, &quot;lineCap&quot;: &quot;round&quot;, &quot;lineJoin&quot;: &quot;round&quot;, &quot;opacity&quot;: 1.0, &quot;radius&quot;: 136, &quot;stroke&quot;: true, &quot;weight&quot;: 3}\n",
              "            ).addTo(map_5cdeb644adabf322865dbfe2b82a151b);\n",
              "        \n",
              "    \n",
              "        var popup_f89975682d00c3d71140c7e991fb4530 = L.popup({&quot;maxWidth&quot;: &quot;100%&quot;});\n",
              "\n",
              "        \n",
              "            \n",
              "                var html_48a0145c90bfcd3e9118de63a5dd606d = $(`&lt;div id=&quot;html_48a0145c90bfcd3e9118de63a5dd606d&quot; style=&quot;width: 100.0%; height: 100.0%;&quot;&gt;Activo&lt;/div&gt;`)[0];\n",
              "                popup_f89975682d00c3d71140c7e991fb4530.setContent(html_48a0145c90bfcd3e9118de63a5dd606d);\n",
              "            \n",
              "        \n",
              "\n",
              "        circle_cd49ef012e5c7f141cd44282e4cfba40.bindPopup(popup_f89975682d00c3d71140c7e991fb4530)\n",
              "        ;\n",
              "\n",
              "        \n",
              "    \n",
              "    \n",
              "            var circle_86744652887db08832fbf1fcaf911fbf = L.circle(\n",
              "                [-38.9375346, -68.0698444],\n",
              "                {&quot;bubblingMouseEvents&quot;: true, &quot;color&quot;: &quot;green&quot;, &quot;dashArray&quot;: null, &quot;dashOffset&quot;: null, &quot;fill&quot;: true, &quot;fillColor&quot;: &quot;green&quot;, &quot;fillOpacity&quot;: 0.7, &quot;fillRule&quot;: &quot;evenodd&quot;, &quot;lineCap&quot;: &quot;round&quot;, &quot;lineJoin&quot;: &quot;round&quot;, &quot;opacity&quot;: 1.0, &quot;radius&quot;: 136, &quot;stroke&quot;: true, &quot;weight&quot;: 3}\n",
              "            ).addTo(map_5cdeb644adabf322865dbfe2b82a151b);\n",
              "        \n",
              "    \n",
              "        var popup_a6677340dfe1ac1da77e8ee23a647d32 = L.popup({&quot;maxWidth&quot;: &quot;100%&quot;});\n",
              "\n",
              "        \n",
              "            \n",
              "                var html_1df6955ce112e7d56f8c00f3f73d4448 = $(`&lt;div id=&quot;html_1df6955ce112e7d56f8c00f3f73d4448&quot; style=&quot;width: 100.0%; height: 100.0%;&quot;&gt;Activo&lt;/div&gt;`)[0];\n",
              "                popup_a6677340dfe1ac1da77e8ee23a647d32.setContent(html_1df6955ce112e7d56f8c00f3f73d4448);\n",
              "            \n",
              "        \n",
              "\n",
              "        circle_86744652887db08832fbf1fcaf911fbf.bindPopup(popup_a6677340dfe1ac1da77e8ee23a647d32)\n",
              "        ;\n",
              "\n",
              "        \n",
              "    \n",
              "    \n",
              "            var circle_5cb3c00bccc49a3b75c7edaccc82b5ab = L.circle(\n",
              "                [-38.934292, -68.117583],\n",
              "                {&quot;bubblingMouseEvents&quot;: true, &quot;color&quot;: &quot;green&quot;, &quot;dashArray&quot;: null, &quot;dashOffset&quot;: null, &quot;fill&quot;: true, &quot;fillColor&quot;: &quot;green&quot;, &quot;fillOpacity&quot;: 0.7, &quot;fillRule&quot;: &quot;evenodd&quot;, &quot;lineCap&quot;: &quot;round&quot;, &quot;lineJoin&quot;: &quot;round&quot;, &quot;opacity&quot;: 1.0, &quot;radius&quot;: 136, &quot;stroke&quot;: true, &quot;weight&quot;: 3}\n",
              "            ).addTo(map_5cdeb644adabf322865dbfe2b82a151b);\n",
              "        \n",
              "    \n",
              "        var popup_309e998ec4f78c9648c4899e51fa1daf = L.popup({&quot;maxWidth&quot;: &quot;100%&quot;});\n",
              "\n",
              "        \n",
              "            \n",
              "                var html_47dddc70197155d220622c50b42f6c51 = $(`&lt;div id=&quot;html_47dddc70197155d220622c50b42f6c51&quot; style=&quot;width: 100.0%; height: 100.0%;&quot;&gt;Activo&lt;/div&gt;`)[0];\n",
              "                popup_309e998ec4f78c9648c4899e51fa1daf.setContent(html_47dddc70197155d220622c50b42f6c51);\n",
              "            \n",
              "        \n",
              "\n",
              "        circle_5cb3c00bccc49a3b75c7edaccc82b5ab.bindPopup(popup_309e998ec4f78c9648c4899e51fa1daf)\n",
              "        ;\n",
              "\n",
              "        \n",
              "    \n",
              "    \n",
              "            var circle_613cfc4e9bae7c15c0b30a681f7d02f0 = L.circle(\n",
              "                [-38.926023, -68.070947],\n",
              "                {&quot;bubblingMouseEvents&quot;: true, &quot;color&quot;: &quot;green&quot;, &quot;dashArray&quot;: null, &quot;dashOffset&quot;: null, &quot;fill&quot;: true, &quot;fillColor&quot;: &quot;green&quot;, &quot;fillOpacity&quot;: 0.7, &quot;fillRule&quot;: &quot;evenodd&quot;, &quot;lineCap&quot;: &quot;round&quot;, &quot;lineJoin&quot;: &quot;round&quot;, &quot;opacity&quot;: 1.0, &quot;radius&quot;: 136, &quot;stroke&quot;: true, &quot;weight&quot;: 3}\n",
              "            ).addTo(map_5cdeb644adabf322865dbfe2b82a151b);\n",
              "        \n",
              "    \n",
              "        var popup_8d021a0a4792b63f52b4a6fa8bd021db = L.popup({&quot;maxWidth&quot;: &quot;100%&quot;});\n",
              "\n",
              "        \n",
              "            \n",
              "                var html_ea2cf2b9f4e31c8264d8474b8bd98dd8 = $(`&lt;div id=&quot;html_ea2cf2b9f4e31c8264d8474b8bd98dd8&quot; style=&quot;width: 100.0%; height: 100.0%;&quot;&gt;Activo&lt;/div&gt;`)[0];\n",
              "                popup_8d021a0a4792b63f52b4a6fa8bd021db.setContent(html_ea2cf2b9f4e31c8264d8474b8bd98dd8);\n",
              "            \n",
              "        \n",
              "\n",
              "        circle_613cfc4e9bae7c15c0b30a681f7d02f0.bindPopup(popup_8d021a0a4792b63f52b4a6fa8bd021db)\n",
              "        ;\n",
              "\n",
              "        \n",
              "    \n",
              "    \n",
              "            var circle_6e8b9cdf05ed8993436fefbf9b60e14e = L.circle(\n",
              "                [-38.94882, -68.09612],\n",
              "                {&quot;bubblingMouseEvents&quot;: true, &quot;color&quot;: &quot;green&quot;, &quot;dashArray&quot;: null, &quot;dashOffset&quot;: null, &quot;fill&quot;: true, &quot;fillColor&quot;: &quot;green&quot;, &quot;fillOpacity&quot;: 0.7, &quot;fillRule&quot;: &quot;evenodd&quot;, &quot;lineCap&quot;: &quot;round&quot;, &quot;lineJoin&quot;: &quot;round&quot;, &quot;opacity&quot;: 1.0, &quot;radius&quot;: 136, &quot;stroke&quot;: true, &quot;weight&quot;: 3}\n",
              "            ).addTo(map_5cdeb644adabf322865dbfe2b82a151b);\n",
              "        \n",
              "    \n",
              "        var popup_cb0372f4463bfbf37a6ef902b395038a = L.popup({&quot;maxWidth&quot;: &quot;100%&quot;});\n",
              "\n",
              "        \n",
              "            \n",
              "                var html_6e767417d54cd3327145cce80e49c7b3 = $(`&lt;div id=&quot;html_6e767417d54cd3327145cce80e49c7b3&quot; style=&quot;width: 100.0%; height: 100.0%;&quot;&gt;Activo&lt;/div&gt;`)[0];\n",
              "                popup_cb0372f4463bfbf37a6ef902b395038a.setContent(html_6e767417d54cd3327145cce80e49c7b3);\n",
              "            \n",
              "        \n",
              "\n",
              "        circle_6e8b9cdf05ed8993436fefbf9b60e14e.bindPopup(popup_cb0372f4463bfbf37a6ef902b395038a)\n",
              "        ;\n",
              "\n",
              "        \n",
              "    \n",
              "    \n",
              "            var circle_d86702ffedc17f999570866e9dbd1f05 = L.circle(\n",
              "                [-38.947237, -68.092334],\n",
              "                {&quot;bubblingMouseEvents&quot;: true, &quot;color&quot;: &quot;green&quot;, &quot;dashArray&quot;: null, &quot;dashOffset&quot;: null, &quot;fill&quot;: true, &quot;fillColor&quot;: &quot;green&quot;, &quot;fillOpacity&quot;: 0.7, &quot;fillRule&quot;: &quot;evenodd&quot;, &quot;lineCap&quot;: &quot;round&quot;, &quot;lineJoin&quot;: &quot;round&quot;, &quot;opacity&quot;: 1.0, &quot;radius&quot;: 136, &quot;stroke&quot;: true, &quot;weight&quot;: 3}\n",
              "            ).addTo(map_5cdeb644adabf322865dbfe2b82a151b);\n",
              "        \n",
              "    \n",
              "        var popup_0de36ef536f68a616a27e79cef2ef1f6 = L.popup({&quot;maxWidth&quot;: &quot;100%&quot;});\n",
              "\n",
              "        \n",
              "            \n",
              "                var html_e269a52a97e359f0bd82c65d7c05113f = $(`&lt;div id=&quot;html_e269a52a97e359f0bd82c65d7c05113f&quot; style=&quot;width: 100.0%; height: 100.0%;&quot;&gt;Activo&lt;/div&gt;`)[0];\n",
              "                popup_0de36ef536f68a616a27e79cef2ef1f6.setContent(html_e269a52a97e359f0bd82c65d7c05113f);\n",
              "            \n",
              "        \n",
              "\n",
              "        circle_d86702ffedc17f999570866e9dbd1f05.bindPopup(popup_0de36ef536f68a616a27e79cef2ef1f6)\n",
              "        ;\n",
              "\n",
              "        \n",
              "    \n",
              "    \n",
              "            var circle_7e4c00571f2c6e3edefe553ef6bf2b6d = L.circle(\n",
              "                [-38.958925, -68.033169],\n",
              "                {&quot;bubblingMouseEvents&quot;: true, &quot;color&quot;: &quot;red&quot;, &quot;dashArray&quot;: null, &quot;dashOffset&quot;: null, &quot;fill&quot;: true, &quot;fillColor&quot;: &quot;red&quot;, &quot;fillOpacity&quot;: 0.7, &quot;fillRule&quot;: &quot;evenodd&quot;, &quot;lineCap&quot;: &quot;round&quot;, &quot;lineJoin&quot;: &quot;round&quot;, &quot;opacity&quot;: 1.0, &quot;radius&quot;: 136, &quot;stroke&quot;: true, &quot;weight&quot;: 3}\n",
              "            ).addTo(map_5cdeb644adabf322865dbfe2b82a151b);\n",
              "        \n",
              "    \n",
              "        var popup_aba1f19756b0f3085bd0b1c331f05c26 = L.popup({&quot;maxWidth&quot;: &quot;100%&quot;});\n",
              "\n",
              "        \n",
              "            \n",
              "                var html_f37c263a82a84599e8118ae201051a3c = $(`&lt;div id=&quot;html_f37c263a82a84599e8118ae201051a3c&quot; style=&quot;width: 100.0%; height: 100.0%;&quot;&gt;No es ecopunto&lt;/div&gt;`)[0];\n",
              "                popup_aba1f19756b0f3085bd0b1c331f05c26.setContent(html_f37c263a82a84599e8118ae201051a3c);\n",
              "            \n",
              "        \n",
              "\n",
              "        circle_7e4c00571f2c6e3edefe553ef6bf2b6d.bindPopup(popup_aba1f19756b0f3085bd0b1c331f05c26)\n",
              "        ;\n",
              "\n",
              "        \n",
              "    \n",
              "    \n",
              "            var circle_f841355d796965999f5d36c057d0496e = L.circle(\n",
              "                [-38.9777399, -68.0380076],\n",
              "                {&quot;bubblingMouseEvents&quot;: true, &quot;color&quot;: &quot;red&quot;, &quot;dashArray&quot;: null, &quot;dashOffset&quot;: null, &quot;fill&quot;: true, &quot;fillColor&quot;: &quot;red&quot;, &quot;fillOpacity&quot;: 0.7, &quot;fillRule&quot;: &quot;evenodd&quot;, &quot;lineCap&quot;: &quot;round&quot;, &quot;lineJoin&quot;: &quot;round&quot;, &quot;opacity&quot;: 1.0, &quot;radius&quot;: 136, &quot;stroke&quot;: true, &quot;weight&quot;: 3}\n",
              "            ).addTo(map_5cdeb644adabf322865dbfe2b82a151b);\n",
              "        \n",
              "    \n",
              "        var popup_6c946bdce9f2b9e0ebc9a6b3006ed6a8 = L.popup({&quot;maxWidth&quot;: &quot;100%&quot;});\n",
              "\n",
              "        \n",
              "            \n",
              "                var html_07841fda48a7ab29d7ede6a669b46692 = $(`&lt;div id=&quot;html_07841fda48a7ab29d7ede6a669b46692&quot; style=&quot;width: 100.0%; height: 100.0%;&quot;&gt;No es ecopunto&lt;/div&gt;`)[0];\n",
              "                popup_6c946bdce9f2b9e0ebc9a6b3006ed6a8.setContent(html_07841fda48a7ab29d7ede6a669b46692);\n",
              "            \n",
              "        \n",
              "\n",
              "        circle_f841355d796965999f5d36c057d0496e.bindPopup(popup_6c946bdce9f2b9e0ebc9a6b3006ed6a8)\n",
              "        ;\n",
              "\n",
              "        \n",
              "    \n",
              "    \n",
              "            var circle_201c3183981c54a73571b9e08beb591e = L.circle(\n",
              "                [-38.958652, -68.105819],\n",
              "                {&quot;bubblingMouseEvents&quot;: true, &quot;color&quot;: &quot;red&quot;, &quot;dashArray&quot;: null, &quot;dashOffset&quot;: null, &quot;fill&quot;: true, &quot;fillColor&quot;: &quot;red&quot;, &quot;fillOpacity&quot;: 0.7, &quot;fillRule&quot;: &quot;evenodd&quot;, &quot;lineCap&quot;: &quot;round&quot;, &quot;lineJoin&quot;: &quot;round&quot;, &quot;opacity&quot;: 1.0, &quot;radius&quot;: 136, &quot;stroke&quot;: true, &quot;weight&quot;: 3}\n",
              "            ).addTo(map_5cdeb644adabf322865dbfe2b82a151b);\n",
              "        \n",
              "    \n",
              "        var popup_7696bc0b7eeb5b62e645378d18c17f0e = L.popup({&quot;maxWidth&quot;: &quot;100%&quot;});\n",
              "\n",
              "        \n",
              "            \n",
              "                var html_e22b6f757e57a5fdec29173fab8960c3 = $(`&lt;div id=&quot;html_e22b6f757e57a5fdec29173fab8960c3&quot; style=&quot;width: 100.0%; height: 100.0%;&quot;&gt;No es ecopunto&lt;/div&gt;`)[0];\n",
              "                popup_7696bc0b7eeb5b62e645378d18c17f0e.setContent(html_e22b6f757e57a5fdec29173fab8960c3);\n",
              "            \n",
              "        \n",
              "\n",
              "        circle_201c3183981c54a73571b9e08beb591e.bindPopup(popup_7696bc0b7eeb5b62e645378d18c17f0e)\n",
              "        ;\n",
              "\n",
              "        \n",
              "    \n",
              "    \n",
              "            var circle_cf983e10282467a8fd943b29461657ee = L.circle(\n",
              "                [-38.947885, -68.114789],\n",
              "                {&quot;bubblingMouseEvents&quot;: true, &quot;color&quot;: &quot;red&quot;, &quot;dashArray&quot;: null, &quot;dashOffset&quot;: null, &quot;fill&quot;: true, &quot;fillColor&quot;: &quot;red&quot;, &quot;fillOpacity&quot;: 0.7, &quot;fillRule&quot;: &quot;evenodd&quot;, &quot;lineCap&quot;: &quot;round&quot;, &quot;lineJoin&quot;: &quot;round&quot;, &quot;opacity&quot;: 1.0, &quot;radius&quot;: 136, &quot;stroke&quot;: true, &quot;weight&quot;: 3}\n",
              "            ).addTo(map_5cdeb644adabf322865dbfe2b82a151b);\n",
              "        \n",
              "    \n",
              "        var popup_337dcf95d2fa4c4441424361d2661d5e = L.popup({&quot;maxWidth&quot;: &quot;100%&quot;});\n",
              "\n",
              "        \n",
              "            \n",
              "                var html_4aceaec222ffd87d0779c1e3025a2520 = $(`&lt;div id=&quot;html_4aceaec222ffd87d0779c1e3025a2520&quot; style=&quot;width: 100.0%; height: 100.0%;&quot;&gt;No es ecopunto&lt;/div&gt;`)[0];\n",
              "                popup_337dcf95d2fa4c4441424361d2661d5e.setContent(html_4aceaec222ffd87d0779c1e3025a2520);\n",
              "            \n",
              "        \n",
              "\n",
              "        circle_cf983e10282467a8fd943b29461657ee.bindPopup(popup_337dcf95d2fa4c4441424361d2661d5e)\n",
              "        ;\n",
              "\n",
              "        \n",
              "    \n",
              "    \n",
              "            var circle_194819804d2e642b30ba00cd7cab7e43 = L.circle(\n",
              "                [-38.910716, -68.145532],\n",
              "                {&quot;bubblingMouseEvents&quot;: true, &quot;color&quot;: &quot;red&quot;, &quot;dashArray&quot;: null, &quot;dashOffset&quot;: null, &quot;fill&quot;: true, &quot;fillColor&quot;: &quot;red&quot;, &quot;fillOpacity&quot;: 0.7, &quot;fillRule&quot;: &quot;evenodd&quot;, &quot;lineCap&quot;: &quot;round&quot;, &quot;lineJoin&quot;: &quot;round&quot;, &quot;opacity&quot;: 1.0, &quot;radius&quot;: 136, &quot;stroke&quot;: true, &quot;weight&quot;: 3}\n",
              "            ).addTo(map_5cdeb644adabf322865dbfe2b82a151b);\n",
              "        \n",
              "    \n",
              "        var popup_000dda0948a96097baaa94858ecaf2a9 = L.popup({&quot;maxWidth&quot;: &quot;100%&quot;});\n",
              "\n",
              "        \n",
              "            \n",
              "                var html_76a6368cf6ae4daef7b1fa841993528b = $(`&lt;div id=&quot;html_76a6368cf6ae4daef7b1fa841993528b&quot; style=&quot;width: 100.0%; height: 100.0%;&quot;&gt;No es ecopunto&lt;/div&gt;`)[0];\n",
              "                popup_000dda0948a96097baaa94858ecaf2a9.setContent(html_76a6368cf6ae4daef7b1fa841993528b);\n",
              "            \n",
              "        \n",
              "\n",
              "        circle_194819804d2e642b30ba00cd7cab7e43.bindPopup(popup_000dda0948a96097baaa94858ecaf2a9)\n",
              "        ;\n",
              "\n",
              "        \n",
              "    \n",
              "    \n",
              "            var circle_935147b9279fae54ba39dc1719bca939 = L.circle(\n",
              "                [-38.955127, -68.130564],\n",
              "                {&quot;bubblingMouseEvents&quot;: true, &quot;color&quot;: &quot;red&quot;, &quot;dashArray&quot;: null, &quot;dashOffset&quot;: null, &quot;fill&quot;: true, &quot;fillColor&quot;: &quot;red&quot;, &quot;fillOpacity&quot;: 0.7, &quot;fillRule&quot;: &quot;evenodd&quot;, &quot;lineCap&quot;: &quot;round&quot;, &quot;lineJoin&quot;: &quot;round&quot;, &quot;opacity&quot;: 1.0, &quot;radius&quot;: 136, &quot;stroke&quot;: true, &quot;weight&quot;: 3}\n",
              "            ).addTo(map_5cdeb644adabf322865dbfe2b82a151b);\n",
              "        \n",
              "    \n",
              "        var popup_dcfe92e8f27ba40c4fb65df696ad0a55 = L.popup({&quot;maxWidth&quot;: &quot;100%&quot;});\n",
              "\n",
              "        \n",
              "            \n",
              "                var html_d96fca6acaca8e7c6e856b2bf79b44cd = $(`&lt;div id=&quot;html_d96fca6acaca8e7c6e856b2bf79b44cd&quot; style=&quot;width: 100.0%; height: 100.0%;&quot;&gt;No es ecopunto&lt;/div&gt;`)[0];\n",
              "                popup_dcfe92e8f27ba40c4fb65df696ad0a55.setContent(html_d96fca6acaca8e7c6e856b2bf79b44cd);\n",
              "            \n",
              "        \n",
              "\n",
              "        circle_935147b9279fae54ba39dc1719bca939.bindPopup(popup_dcfe92e8f27ba40c4fb65df696ad0a55)\n",
              "        ;\n",
              "\n",
              "        \n",
              "    \n",
              "    \n",
              "            var circle_b233a487c4fa0927f9e4ccaf54b89659 = L.circle(\n",
              "                [-38.972037, -68.056279],\n",
              "                {&quot;bubblingMouseEvents&quot;: true, &quot;color&quot;: &quot;red&quot;, &quot;dashArray&quot;: null, &quot;dashOffset&quot;: null, &quot;fill&quot;: true, &quot;fillColor&quot;: &quot;red&quot;, &quot;fillOpacity&quot;: 0.7, &quot;fillRule&quot;: &quot;evenodd&quot;, &quot;lineCap&quot;: &quot;round&quot;, &quot;lineJoin&quot;: &quot;round&quot;, &quot;opacity&quot;: 1.0, &quot;radius&quot;: 136, &quot;stroke&quot;: true, &quot;weight&quot;: 3}\n",
              "            ).addTo(map_5cdeb644adabf322865dbfe2b82a151b);\n",
              "        \n",
              "    \n",
              "        var popup_583596bda30f1263af2da123d34855ac = L.popup({&quot;maxWidth&quot;: &quot;100%&quot;});\n",
              "\n",
              "        \n",
              "            \n",
              "                var html_cf062e3e1ee34fc9adb2d9c19544709d = $(`&lt;div id=&quot;html_cf062e3e1ee34fc9adb2d9c19544709d&quot; style=&quot;width: 100.0%; height: 100.0%;&quot;&gt;No es ecopunto&lt;/div&gt;`)[0];\n",
              "                popup_583596bda30f1263af2da123d34855ac.setContent(html_cf062e3e1ee34fc9adb2d9c19544709d);\n",
              "            \n",
              "        \n",
              "\n",
              "        circle_b233a487c4fa0927f9e4ccaf54b89659.bindPopup(popup_583596bda30f1263af2da123d34855ac)\n",
              "        ;\n",
              "\n",
              "        \n",
              "    \n",
              "    \n",
              "            var circle_fa3354d651654c45913fe26c82adbb8a = L.circle(\n",
              "                [-38.9770904, -68.0590695],\n",
              "                {&quot;bubblingMouseEvents&quot;: true, &quot;color&quot;: &quot;red&quot;, &quot;dashArray&quot;: null, &quot;dashOffset&quot;: null, &quot;fill&quot;: true, &quot;fillColor&quot;: &quot;red&quot;, &quot;fillOpacity&quot;: 0.7, &quot;fillRule&quot;: &quot;evenodd&quot;, &quot;lineCap&quot;: &quot;round&quot;, &quot;lineJoin&quot;: &quot;round&quot;, &quot;opacity&quot;: 1.0, &quot;radius&quot;: 136, &quot;stroke&quot;: true, &quot;weight&quot;: 3}\n",
              "            ).addTo(map_5cdeb644adabf322865dbfe2b82a151b);\n",
              "        \n",
              "    \n",
              "        var popup_994f06fc1e3b05b2154e26858c5c156b = L.popup({&quot;maxWidth&quot;: &quot;100%&quot;});\n",
              "\n",
              "        \n",
              "            \n",
              "                var html_01a15ab023db7df4936687f4547e8ddc = $(`&lt;div id=&quot;html_01a15ab023db7df4936687f4547e8ddc&quot; style=&quot;width: 100.0%; height: 100.0%;&quot;&gt;No es ecopunto&lt;/div&gt;`)[0];\n",
              "                popup_994f06fc1e3b05b2154e26858c5c156b.setContent(html_01a15ab023db7df4936687f4547e8ddc);\n",
              "            \n",
              "        \n",
              "\n",
              "        circle_fa3354d651654c45913fe26c82adbb8a.bindPopup(popup_994f06fc1e3b05b2154e26858c5c156b)\n",
              "        ;\n",
              "\n",
              "        \n",
              "    \n",
              "    \n",
              "            var circle_a1d4f0cf78640a862680d8c00234a2ea = L.circle(\n",
              "                [-38.95169, -68.070817],\n",
              "                {&quot;bubblingMouseEvents&quot;: true, &quot;color&quot;: &quot;red&quot;, &quot;dashArray&quot;: null, &quot;dashOffset&quot;: null, &quot;fill&quot;: true, &quot;fillColor&quot;: &quot;red&quot;, &quot;fillOpacity&quot;: 0.7, &quot;fillRule&quot;: &quot;evenodd&quot;, &quot;lineCap&quot;: &quot;round&quot;, &quot;lineJoin&quot;: &quot;round&quot;, &quot;opacity&quot;: 1.0, &quot;radius&quot;: 136, &quot;stroke&quot;: true, &quot;weight&quot;: 3}\n",
              "            ).addTo(map_5cdeb644adabf322865dbfe2b82a151b);\n",
              "        \n",
              "    \n",
              "        var popup_6523b3330fde3128730d0835aff32f89 = L.popup({&quot;maxWidth&quot;: &quot;100%&quot;});\n",
              "\n",
              "        \n",
              "            \n",
              "                var html_972222e4fcfed3ba375fe77b06d26f1d = $(`&lt;div id=&quot;html_972222e4fcfed3ba375fe77b06d26f1d&quot; style=&quot;width: 100.0%; height: 100.0%;&quot;&gt;No es ecopunto&lt;/div&gt;`)[0];\n",
              "                popup_6523b3330fde3128730d0835aff32f89.setContent(html_972222e4fcfed3ba375fe77b06d26f1d);\n",
              "            \n",
              "        \n",
              "\n",
              "        circle_a1d4f0cf78640a862680d8c00234a2ea.bindPopup(popup_6523b3330fde3128730d0835aff32f89)\n",
              "        ;\n",
              "\n",
              "        \n",
              "    \n",
              "    \n",
              "            var circle_17319e39a2e166ca3dd55a4b2052a2c7 = L.circle(\n",
              "                [-38.945316, -68.058733],\n",
              "                {&quot;bubblingMouseEvents&quot;: true, &quot;color&quot;: &quot;red&quot;, &quot;dashArray&quot;: null, &quot;dashOffset&quot;: null, &quot;fill&quot;: true, &quot;fillColor&quot;: &quot;red&quot;, &quot;fillOpacity&quot;: 0.7, &quot;fillRule&quot;: &quot;evenodd&quot;, &quot;lineCap&quot;: &quot;round&quot;, &quot;lineJoin&quot;: &quot;round&quot;, &quot;opacity&quot;: 1.0, &quot;radius&quot;: 136, &quot;stroke&quot;: true, &quot;weight&quot;: 3}\n",
              "            ).addTo(map_5cdeb644adabf322865dbfe2b82a151b);\n",
              "        \n",
              "    \n",
              "        var popup_4ff366b727a554f45fda93baaf891ebd = L.popup({&quot;maxWidth&quot;: &quot;100%&quot;});\n",
              "\n",
              "        \n",
              "            \n",
              "                var html_74b03de29468dfbe83b4fd17ac393522 = $(`&lt;div id=&quot;html_74b03de29468dfbe83b4fd17ac393522&quot; style=&quot;width: 100.0%; height: 100.0%;&quot;&gt;No es ecopunto&lt;/div&gt;`)[0];\n",
              "                popup_4ff366b727a554f45fda93baaf891ebd.setContent(html_74b03de29468dfbe83b4fd17ac393522);\n",
              "            \n",
              "        \n",
              "\n",
              "        circle_17319e39a2e166ca3dd55a4b2052a2c7.bindPopup(popup_4ff366b727a554f45fda93baaf891ebd)\n",
              "        ;\n",
              "\n",
              "        \n",
              "    \n",
              "    \n",
              "            var circle_d766e0b8b702b8271e6aa74ec6b05de9 = L.circle(\n",
              "                [-38.910716, -68.145532],\n",
              "                {&quot;bubblingMouseEvents&quot;: true, &quot;color&quot;: &quot;red&quot;, &quot;dashArray&quot;: null, &quot;dashOffset&quot;: null, &quot;fill&quot;: true, &quot;fillColor&quot;: &quot;red&quot;, &quot;fillOpacity&quot;: 0.7, &quot;fillRule&quot;: &quot;evenodd&quot;, &quot;lineCap&quot;: &quot;round&quot;, &quot;lineJoin&quot;: &quot;round&quot;, &quot;opacity&quot;: 1.0, &quot;radius&quot;: 136, &quot;stroke&quot;: true, &quot;weight&quot;: 3}\n",
              "            ).addTo(map_5cdeb644adabf322865dbfe2b82a151b);\n",
              "        \n",
              "    \n",
              "        var popup_cec08d3f2a73c13384dda73689f9ea79 = L.popup({&quot;maxWidth&quot;: &quot;100%&quot;});\n",
              "\n",
              "        \n",
              "            \n",
              "                var html_41f90f6cc63ec9e73690cb5fb42eb256 = $(`&lt;div id=&quot;html_41f90f6cc63ec9e73690cb5fb42eb256&quot; style=&quot;width: 100.0%; height: 100.0%;&quot;&gt;No es ecopunto&lt;/div&gt;`)[0];\n",
              "                popup_cec08d3f2a73c13384dda73689f9ea79.setContent(html_41f90f6cc63ec9e73690cb5fb42eb256);\n",
              "            \n",
              "        \n",
              "\n",
              "        circle_d766e0b8b702b8271e6aa74ec6b05de9.bindPopup(popup_cec08d3f2a73c13384dda73689f9ea79)\n",
              "        ;\n",
              "\n",
              "        \n",
              "    \n",
              "    \n",
              "            var circle_557122106957e38f76b3aeb0f407181d = L.circle(\n",
              "                [-38.9508189, -68.1027686],\n",
              "                {&quot;bubblingMouseEvents&quot;: true, &quot;color&quot;: &quot;orange&quot;, &quot;dashArray&quot;: null, &quot;dashOffset&quot;: null, &quot;fill&quot;: true, &quot;fillColor&quot;: &quot;orange&quot;, &quot;fillOpacity&quot;: 0.7, &quot;fillRule&quot;: &quot;evenodd&quot;, &quot;lineCap&quot;: &quot;round&quot;, &quot;lineJoin&quot;: &quot;round&quot;, &quot;opacity&quot;: 1.0, &quot;radius&quot;: 136, &quot;stroke&quot;: true, &quot;weight&quot;: 3}\n",
              "            ).addTo(map_5cdeb644adabf322865dbfe2b82a151b);\n",
              "        \n",
              "    \n",
              "        var popup_defb86000fd5ea865251412a376dc21c = L.popup({&quot;maxWidth&quot;: &quot;100%&quot;});\n",
              "\n",
              "        \n",
              "            \n",
              "                var html_c7a329e055430bfea865a8c9cf9676f8 = $(`&lt;div id=&quot;html_c7a329e055430bfea865a8c9cf9676f8&quot; style=&quot;width: 100.0%; height: 100.0%;&quot;&gt;No se accedió&lt;/div&gt;`)[0];\n",
              "                popup_defb86000fd5ea865251412a376dc21c.setContent(html_c7a329e055430bfea865a8c9cf9676f8);\n",
              "            \n",
              "        \n",
              "\n",
              "        circle_557122106957e38f76b3aeb0f407181d.bindPopup(popup_defb86000fd5ea865251412a376dc21c)\n",
              "        ;\n",
              "\n",
              "        \n",
              "    \n",
              "    \n",
              "            var circle_2b92f8ce812f720332f916ee1f6ce94d = L.circle(\n",
              "                [-38.957223, -68.052845],\n",
              "                {&quot;bubblingMouseEvents&quot;: true, &quot;color&quot;: &quot;orange&quot;, &quot;dashArray&quot;: null, &quot;dashOffset&quot;: null, &quot;fill&quot;: true, &quot;fillColor&quot;: &quot;orange&quot;, &quot;fillOpacity&quot;: 0.7, &quot;fillRule&quot;: &quot;evenodd&quot;, &quot;lineCap&quot;: &quot;round&quot;, &quot;lineJoin&quot;: &quot;round&quot;, &quot;opacity&quot;: 1.0, &quot;radius&quot;: 136, &quot;stroke&quot;: true, &quot;weight&quot;: 3}\n",
              "            ).addTo(map_5cdeb644adabf322865dbfe2b82a151b);\n",
              "        \n",
              "    \n",
              "        var popup_4d70f62ae8674d43f0334f3a3251d940 = L.popup({&quot;maxWidth&quot;: &quot;100%&quot;});\n",
              "\n",
              "        \n",
              "            \n",
              "                var html_62515b955c0ae4efc997c592346ed9a2 = $(`&lt;div id=&quot;html_62515b955c0ae4efc997c592346ed9a2&quot; style=&quot;width: 100.0%; height: 100.0%;&quot;&gt;No se accedió&lt;/div&gt;`)[0];\n",
              "                popup_4d70f62ae8674d43f0334f3a3251d940.setContent(html_62515b955c0ae4efc997c592346ed9a2);\n",
              "            \n",
              "        \n",
              "\n",
              "        circle_2b92f8ce812f720332f916ee1f6ce94d.bindPopup(popup_4d70f62ae8674d43f0334f3a3251d940)\n",
              "        ;\n",
              "\n",
              "        \n",
              "    \n",
              "    \n",
              "            var layer_control_d93584e7a0e083ef8a7f402d143de918 = {\n",
              "                base_layers : {\n",
              "                    &quot;openstreetmap&quot; : tile_layer_00955a6d865b55d7e5bd0d27290fe9b1,\n",
              "                },\n",
              "                overlays :  {\n",
              "                },\n",
              "            };\n",
              "            L.control.layers(\n",
              "                layer_control_d93584e7a0e083ef8a7f402d143de918.base_layers,\n",
              "                layer_control_d93584e7a0e083ef8a7f402d143de918.overlays,\n",
              "                {&quot;autoZIndex&quot;: true, &quot;collapsed&quot;: true, &quot;position&quot;: &quot;topright&quot;}\n",
              "            ).addTo(map_5cdeb644adabf322865dbfe2b82a151b);\n",
              "        \n",
              "&lt;/script&gt;\n",
              "&lt;/html&gt;\" style=\"position:absolute;width:100%;height:100%;left:0;top:0;border:none !important;\" allowfullscreen webkitallowfullscreen mozallowfullscreen></iframe></div></div>"
            ]
          },
          "metadata": {},
          "execution_count": 9
        }
      ]
    },
    {
      "cell_type": "markdown",
      "source": [
        "¿Qué onda YPF PETRO OESTE??"
      ],
      "metadata": {
        "id": "z0EGNX4Zt585"
      }
    },
    {
      "cell_type": "markdown",
      "source": [
        "**Interacción**  \n",
        "Acercar por si no se ven los ecopuntos. Hacer click en la burbuja para ver el estado actual del ecopunto, y en el coso azul para ver el nombre del ecopunto.\n",
        "\n",
        "\n",
        "**Código de colores:**  \n",
        "Verde: Activos  \n",
        "Rojos: No es ecopunto  \n",
        "Naranja: No se accedió (no se pudo ver ningún ecopunto)"
      ],
      "metadata": {
        "id": "VZsafynPtetj"
      }
    },
    {
      "cell_type": "markdown",
      "source": [
        "En el mapa podemos ver que los ecopuntos activos se encuentran en su mayor parte en la zona norte de la ciudad de Neuquén."
      ],
      "metadata": {
        "id": "XpfkZ6a3v6hu"
      }
    },
    {
      "cell_type": "code",
      "source": [
        "# df.loc[df['Estado actual']=='No se accedió']"
      ],
      "metadata": {
        "id": "sqa-30p-cOBR"
      },
      "execution_count": null,
      "outputs": []
    },
    {
      "cell_type": "markdown",
      "source": [
        "De los que no se accedieron, el tribunal de faltas se encontraba cerrado a la hora que fuimos (entre las 17 y 18 horas) al igual que la Comisión vecinal Barrio Huiliches. En ningún caso se pudo encontrar un ecopunto visible."
      ],
      "metadata": {
        "id": "wNGCYSBMcQlp"
      }
    },
    {
      "cell_type": "code",
      "source": [],
      "metadata": {
        "id": "5to4fflgc24o"
      },
      "execution_count": null,
      "outputs": []
    },
    {
      "cell_type": "markdown",
      "source": [
        "Accesibilidad"
      ],
      "metadata": {
        "id": "TNqTNOANc3au"
      }
    },
    {
      "cell_type": "code",
      "source": [
        "df_acc = df.loc[df['Estado actual']=='Activo']"
      ],
      "metadata": {
        "id": "5MIzpC2mc79y"
      },
      "execution_count": 9,
      "outputs": []
    },
    {
      "cell_type": "code",
      "source": [
        "# df_acc.shape"
      ],
      "metadata": {
        "id": "wehoeQ5vdEQa"
      },
      "execution_count": null,
      "outputs": []
    },
    {
      "cell_type": "code",
      "source": [
        "data = df_acc['Accesibilidad espacial'].value_counts().values\n",
        "labels = df_acc['Accesibilidad espacial'].value_counts().index\n",
        "colors = sns.color_palette('pastel')\n",
        "\n",
        "plt.pie(data, labels=labels,colors = colors, autopct = lambda p: '{:.2f}%({:.0f})'.format(p,(p/100)*data.sum()) )#, explode = explode)\n",
        "plt.title('Accesibilidad Espacial')\n",
        "plt.show()"
      ],
      "metadata": {
        "colab": {
          "base_uri": "https://localhost:8080/",
          "height": 428
        },
        "id": "u6weaUD7oFoL",
        "outputId": "98a30484-3429-470f-c9d9-381c0ccfa4f9"
      },
      "execution_count": 39,
      "outputs": [
        {
          "output_type": "display_data",
          "data": {
            "text/plain": [
              "<Figure size 640x480 with 1 Axes>"
            ],
            "image/png": "[encoded data removed]"
          },
          "metadata": {}
        }
      ]
    },
    {
      "cell_type": "code",
      "source": [
        "data = df_acc['Accesibilidad espacial'].value_counts().values\n",
        "labels = df_acc['Accesibilidad espacial'].value_counts().index\n",
        "colors = sns.color_palette('pastel')\n",
        "\n",
        "plt.pie(data, labels=labels,colors = colors, autopct = '%0.0f%%')#, explode = explode)\n",
        "plt.title('Accesibilidad Espacial')\n",
        "plt.show()"
      ],
      "metadata": {
        "id": "e9Jtl-yEctPD"
      },
      "execution_count": null,
      "outputs": []
    },
    {
      "cell_type": "code",
      "source": [
        "# df_acc.loc[df_acc['Accesibilidad espacial']=='En espacio cerrado']"
      ],
      "metadata": {
        "id": "SEi5auh_hwFz"
      },
      "execution_count": null,
      "outputs": []
    },
    {
      "cell_type": "code",
      "source": [
        "# df_acc.loc[df_acc['Accesibilidad espacial']=='En espacio cerrado'].loc[6,'Accesibilidad temporal']"
      ],
      "metadata": {
        "id": "AZOzvo_XdCOb"
      },
      "execution_count": null,
      "outputs": []
    },
    {
      "cell_type": "markdown",
      "source": [
        "De los 9 ecopuntos que se encontraban activos, el 67% se encontraba en un espacio cerrado, es decir, había algún elemento de por medio que impedía el libre acceso: dentro de algún edificio, cercados con algún portón.\n",
        "\n",
        "El caso más extremo fue sin duda el de ALTO COMAHUE SHOPPING que se encontraba en el subsuelo donde se encuentra el estacionamiento, escondido atrás de una pared. Tuvimos que preguntar al menos a dos guardias en distintos puntos del shopping para saber dónde se ubicaba el ecopunto.\n",
        "\n",
        "Por otro lado, muchos de ellos eran utilizados en su mayoría por personas que atendían el lugar. Y sólo funcionaba cuando ese lugar se encontraba abierto o habían eventos deportivos.\n"
      ],
      "metadata": {
        "id": "2nmpx_SxdOYr"
      }
    },
    {
      "cell_type": "code",
      "source": [
        "# df_acc.loc[df_acc['Accesibilidad espacial']=='En espacio abierto']"
      ],
      "metadata": {
        "id": "7B026VDEiqkx"
      },
      "execution_count": null,
      "outputs": []
    },
    {
      "cell_type": "code",
      "source": [
        "df_espacio = df_acc.loc[df_acc['Accesibilidad espacial']=='En espacio cerrado']"
      ],
      "metadata": {
        "id": "fgslYYl1g3JD"
      },
      "execution_count": 40,
      "outputs": []
    },
    {
      "cell_type": "markdown",
      "source": [],
      "metadata": {
        "id": "mGDqDQ5jjHMd"
      }
    },
    {
      "cell_type": "code",
      "source": [
        "data = df_espacio['Accesibilidad temporal'].value_counts().values\n",
        "labels = df_espacio['Accesibilidad temporal'].value_counts(normalize=True).index\n",
        "colors = sns.color_palette('pastel')\n",
        "\n",
        "plt.pie(data, labels=labels,colors = colors, autopct = lambda p: '{:.2f}%({:.0f})'.format(p,(p/100)*data.sum()))#, explode = explode)\n",
        "plt.title('Accesibilidad Temporal')\n",
        "plt.show()"
      ],
      "metadata": {
        "colab": {
          "base_uri": "https://localhost:8080/",
          "height": 314
        },
        "id": "lyrJ7EPJeGj0",
        "outputId": "34e3446e-44f6-472f-e568-094af2789598"
      },
      "execution_count": 41,
      "outputs": [
        {
          "output_type": "display_data",
          "data": {
            "text/plain": [
              "<Figure size 640x480 with 1 Axes>"
            ],
            "image/png": "[encoded data removed]"
          },
          "metadata": {}
        }
      ]
    },
    {
      "cell_type": "markdown",
      "source": [
        "Con respecto a la accesibilidad temporal de los ecopuntos que se encuentran en espacio cerrado, muchos se encuentran con horarios. Es decir que no están disponibles todo el tiempo. Y el que dice Siempre es el ALTO COMAHUE SHOPPING, que a pesar de estar siempre abierto, se encuentra inaccesible.\n",
        "\n",
        "Además, algunos no tenían indicaciones de horarios ni siquiera."
      ],
      "metadata": {
        "id": "7HlcZ47uh4Y5"
      }
    },
    {
      "cell_type": "code",
      "source": [],
      "metadata": {
        "id": "kjUv39G0guHX"
      },
      "execution_count": null,
      "outputs": []
    },
    {
      "cell_type": "markdown",
      "source": [
        "**Determinando la accesibilidad**"
      ],
      "metadata": {
        "id": "Jzq9SfMbjIP3"
      }
    },
    {
      "cell_type": "code",
      "source": [
        "temp_in = ['Días hábiles','Cuando está abierto','No hay indicaciones de horario','Siempre']"
      ],
      "metadata": {
        "id": "UmScnHgSkjF3"
      },
      "execution_count": 42,
      "outputs": []
    },
    {
      "cell_type": "code",
      "source": [
        "df_acc = df_acc.reset_index(drop=True)"
      ],
      "metadata": {
        "id": "9zYw33HmlvZd"
      },
      "execution_count": 43,
      "outputs": []
    },
    {
      "cell_type": "code",
      "source": [
        "cond = [(df_acc['Accesibilidad espacial']=='En espacio cerrado') & (df_acc['Accesibilidad temporal'].isin(temp_in)),\n",
        "        (df_acc['Accesibilidad espacial']=='En espacio cerrado') & (df_acc['Accesibilidad temporal'] == 'Es espacio cerrado y con horarios. También es posible acceder a él arrojando los residuos en los caniles ya que la ubicación del alambrado lo permite '),\n",
        "        df_acc['Accesibilidad espacial']=='En espacio abierto']\n",
        "choice = ['No accesible','Medio','Accesible']\n",
        "df_acc['Accesibilidad'] =  np.select(cond,choice,'warning')\n"
      ],
      "metadata": {
        "id": "_tvaoE2cji8V"
      },
      "execution_count": 44,
      "outputs": []
    },
    {
      "cell_type": "markdown",
      "source": [
        "Si tomamos en cuenta los casos donde los ecopuntos se encuentran en espacio cerrado y hay horarios, y adicionamos el caso más extremo en cuanto a accesibilidad espacial, obtenemos el siguiente gráfico en cuanto a accesibilidad general de los ecopuntos que se encuentran activos y que se pudieorn acceder y visualizar."
      ],
      "metadata": {
        "id": "RlNtgM_CmXhM"
      }
    },
    {
      "cell_type": "code",
      "source": [
        "data = df_acc['Accesibilidad'].value_counts().values\n",
        "labels = df_acc['Accesibilidad'].value_counts(normalize=True).index\n",
        "colors = sns.color_palette('pastel')\n",
        "\n",
        "plt.pie(data, labels=labels,colors = colors, autopct = lambda p: '{:.2f}%({:.0f})'.format(p,(p/100)*data.sum()))#, explode = explode)\n",
        "plt.title('Accesibilidad General')\n",
        "plt.show()"
      ],
      "metadata": {
        "colab": {
          "base_uri": "https://localhost:8080/",
          "height": 428
        },
        "id": "Ah9SK9Q0jKda",
        "outputId": "bb571de0-40ca-42b6-ce35-c7cc3bdc329c"
      },
      "execution_count": 45,
      "outputs": [
        {
          "output_type": "display_data",
          "data": {
            "text/plain": [
              "<Figure size 640x480 with 1 Axes>"
            ],
            "image/png": "[encoded data removed]"
          },
          "metadata": {}
        }
      ]
    },
    {
      "cell_type": "code",
      "source": [
        "order_acc = ['Accesible','No accesible','Medio']"
      ],
      "metadata": {
        "id": "9gebzMpvrlqu"
      },
      "execution_count": 46,
      "outputs": []
    },
    {
      "cell_type": "code",
      "source": [
        "df_acc_c = df_acc.groupby('Accesibilidad')[['Ecopunto','lat','lon']].agg(lambda x: list(x))"
      ],
      "metadata": {
        "id": "azJz04XHrlfl"
      },
      "execution_count": 81,
      "outputs": []
    },
    {
      "cell_type": "code",
      "source": [
        "df_acc_c = df_acc_c.reindex(order_acc)"
      ],
      "metadata": {
        "id": "Kbx13__0tVil"
      },
      "execution_count": 82,
      "outputs": []
    },
    {
      "cell_type": "code",
      "source": [
        "df_acc_c = df_acc_c.explode(['Ecopunto', 'lat', 'lon']).reset_index()"
      ],
      "metadata": {
        "id": "4PJRQx4fus_k"
      },
      "execution_count": 83,
      "outputs": []
    },
    {
      "cell_type": "code",
      "source": [
        "df_acc_c"
      ],
      "metadata": {
        "id": "oMc4FntRu6-H"
      },
      "execution_count": null,
      "outputs": []
    },
    {
      "cell_type": "code",
      "source": [
        "dibjuar_mapa(df_acc_c, 'Accesibilidad', circle=True)"
      ],
      "metadata": {
        "colab": {
          "base_uri": "https://localhost:8080/",
          "height": 694
        },
        "id": "Dhx2QxawuzIh",
        "outputId": "2783aa47-a5ba-45e6-d22e-0e4372121731"
      },
      "execution_count": 85,
      "outputs": [
        {
          "output_type": "execute_result",
          "data": {
            "text/plain": [
              "<folium.folium.Map at 0x78a43a0ab880>"
            ],
            "text/html": [
              "<div style=\"width:100%;\"><div style=\"position:relative;width:100%;height:0;padding-bottom:60%;\"><span style=\"color:#565656\">Make this Notebook Trusted to load map: File -> Trust Notebook</span><iframe srcdoc=\"&lt;!DOCTYPE html&gt;\n",
              "&lt;html&gt;\n",
              "&lt;head&gt;\n",
              "    \n",
              "    &lt;meta http-equiv=&quot;content-type&quot; content=&quot;text/html; charset=UTF-8&quot; /&gt;\n",
              "    \n",
              "        &lt;script&gt;\n",
              "            L_NO_TOUCH = false;\n",
              "            L_DISABLE_3D = false;\n",
              "        &lt;/script&gt;\n",
              "    \n",
              "    &lt;style&gt;html, body {width: 100%;height: 100%;margin: 0;padding: 0;}&lt;/style&gt;\n",
              "    &lt;style&gt;#map {position:absolute;top:0;bottom:0;right:0;left:0;}&lt;/style&gt;\n",
              "    &lt;script src=&quot;https://cdn.jsdelivr.net/npm/leaflet@1.9.3/dist/leaflet.js&quot;&gt;&lt;/script&gt;\n",
              "    &lt;script src=&quot;https://code.jquery.com/jquery-1.12.4.min.js&quot;&gt;&lt;/script&gt;\n",
              "    &lt;script src=&quot;https://cdn.jsdelivr.net/npm/bootstrap@5.2.2/dist/js/bootstrap.bundle.min.js&quot;&gt;&lt;/script&gt;\n",
              "    &lt;script src=&quot;https://cdnjs.cloudflare.com/ajax/libs/Leaflet.awesome-markers/2.0.2/leaflet.awesome-markers.js&quot;&gt;&lt;/script&gt;\n",
              "    &lt;link rel=&quot;stylesheet&quot; href=&quot;https://cdn.jsdelivr.net/npm/leaflet@1.9.3/dist/leaflet.css&quot;/&gt;\n",
              "    &lt;link rel=&quot;stylesheet&quot; href=&quot;https://cdn.jsdelivr.net/npm/bootstrap@5.2.2/dist/css/bootstrap.min.css&quot;/&gt;\n",
              "    &lt;link rel=&quot;stylesheet&quot; href=&quot;https://netdna.bootstrapcdn.com/bootstrap/3.0.0/css/bootstrap.min.css&quot;/&gt;\n",
              "    &lt;link rel=&quot;stylesheet&quot; href=&quot;https://cdn.jsdelivr.net/npm/@fortawesome/fontawesome-free@6.2.0/css/all.min.css&quot;/&gt;\n",
              "    &lt;link rel=&quot;stylesheet&quot; href=&quot;https://cdnjs.cloudflare.com/ajax/libs/Leaflet.awesome-markers/2.0.2/leaflet.awesome-markers.css&quot;/&gt;\n",
              "    &lt;link rel=&quot;stylesheet&quot; href=&quot;https://cdn.jsdelivr.net/gh/python-visualization/folium/folium/templates/leaflet.awesome.rotate.min.css&quot;/&gt;\n",
              "    \n",
              "            &lt;meta name=&quot;viewport&quot; content=&quot;width=device-width,\n",
              "                initial-scale=1.0, maximum-scale=1.0, user-scalable=no&quot; /&gt;\n",
              "            &lt;style&gt;\n",
              "                #map_cdb2a223cbf0a9c1defddb4cb7bc6608 {\n",
              "                    position: relative;\n",
              "                    width: 100.0%;\n",
              "                    height: 100.0%;\n",
              "                    left: 0.0%;\n",
              "                    top: 0.0%;\n",
              "                }\n",
              "                .leaflet-container { font-size: 1rem; }\n",
              "            &lt;/style&gt;\n",
              "        \n",
              "&lt;/head&gt;\n",
              "&lt;body&gt;\n",
              "    \n",
              "    \n",
              "            &lt;div class=&quot;folium-map&quot; id=&quot;map_cdb2a223cbf0a9c1defddb4cb7bc6608&quot; &gt;&lt;/div&gt;\n",
              "        \n",
              "&lt;/body&gt;\n",
              "&lt;script&gt;\n",
              "    \n",
              "    \n",
              "            var map_cdb2a223cbf0a9c1defddb4cb7bc6608 = L.map(\n",
              "                &quot;map_cdb2a223cbf0a9c1defddb4cb7bc6608&quot;,\n",
              "                {\n",
              "                    center: [-38.951678, -68.059189],\n",
              "                    crs: L.CRS.EPSG3857,\n",
              "                    zoom: 13,\n",
              "                    zoomControl: true,\n",
              "                    preferCanvas: false,\n",
              "                }\n",
              "            );\n",
              "\n",
              "            \n",
              "\n",
              "        \n",
              "    \n",
              "            var tile_layer_d15fa31097234e1242cddeae9acffc9f = L.tileLayer(\n",
              "                &quot;https://{s}.tile.openstreetmap.org/{z}/{x}/{y}.png&quot;,\n",
              "                {&quot;attribution&quot;: &quot;Data by \\u0026copy; \\u003ca target=\\&quot;_blank\\&quot; href=\\&quot;http://openstreetmap.org\\&quot;\\u003eOpenStreetMap\\u003c/a\\u003e, under \\u003ca target=\\&quot;_blank\\&quot; href=\\&quot;http://www.openstreetmap.org/copyright\\&quot;\\u003eODbL\\u003c/a\\u003e.&quot;, &quot;detectRetina&quot;: false, &quot;maxNativeZoom&quot;: 18, &quot;maxZoom&quot;: 18, &quot;minZoom&quot;: 0, &quot;noWrap&quot;: false, &quot;opacity&quot;: 1, &quot;subdomains&quot;: &quot;abc&quot;, &quot;tms&quot;: false}\n",
              "            ).addTo(map_cdb2a223cbf0a9c1defddb4cb7bc6608);\n",
              "        \n",
              "    \n",
              "            var marker_16691e59ae8b6c3ae7525c197bae18e1 = L.marker(\n",
              "                [-38.9375346, -68.0698444],\n",
              "                {}\n",
              "            ).addTo(map_cdb2a223cbf0a9c1defddb4cb7bc6608);\n",
              "        \n",
              "    \n",
              "        var popup_c1af821b291b372ef795d10c3d0d4f10 = L.popup({&quot;maxWidth&quot;: &quot;100%&quot;});\n",
              "\n",
              "        \n",
              "            \n",
              "                var html_3c4d527d13d2904b614045129f5e4c23 = $(`&lt;div id=&quot;html_3c4d527d13d2904b614045129f5e4c23&quot; style=&quot;width: 100.0%; height: 100.0%;&quot;&gt;Barrio Altabarda&lt;/div&gt;`)[0];\n",
              "                popup_c1af821b291b372ef795d10c3d0d4f10.setContent(html_3c4d527d13d2904b614045129f5e4c23);\n",
              "            \n",
              "        \n",
              "\n",
              "        marker_16691e59ae8b6c3ae7525c197bae18e1.bindPopup(popup_c1af821b291b372ef795d10c3d0d4f10)\n",
              "        ;\n",
              "\n",
              "        \n",
              "    \n",
              "    \n",
              "            var marker_32869a91c99c7640a965b0d6579f44d1 = L.marker(\n",
              "                [-38.934292, -68.117583],\n",
              "                {}\n",
              "            ).addTo(map_cdb2a223cbf0a9c1defddb4cb7bc6608);\n",
              "        \n",
              "    \n",
              "        var popup_50f7ceda3ce2e9d61623cfeba3aa4517 = L.popup({&quot;maxWidth&quot;: &quot;100%&quot;});\n",
              "\n",
              "        \n",
              "            \n",
              "                var html_2755aac41ab288b7f613663b32d21f7e = $(`&lt;div id=&quot;html_2755aac41ab288b7f613663b32d21f7e&quot; style=&quot;width: 100.0%; height: 100.0%;&quot;&gt;DELG. MUN. ALTO GODOY&lt;/div&gt;`)[0];\n",
              "                popup_50f7ceda3ce2e9d61623cfeba3aa4517.setContent(html_2755aac41ab288b7f613663b32d21f7e);\n",
              "            \n",
              "        \n",
              "\n",
              "        marker_32869a91c99c7640a965b0d6579f44d1.bindPopup(popup_50f7ceda3ce2e9d61623cfeba3aa4517)\n",
              "        ;\n",
              "\n",
              "        \n",
              "    \n",
              "    \n",
              "            var marker_1e03df752eaa1bdafb653b46900bcd1f = L.marker(\n",
              "                [-38.94882, -68.09612],\n",
              "                {}\n",
              "            ).addTo(map_cdb2a223cbf0a9c1defddb4cb7bc6608);\n",
              "        \n",
              "    \n",
              "        var popup_ca69916c3f67470b089a044d413816fb = L.popup({&quot;maxWidth&quot;: &quot;100%&quot;});\n",
              "\n",
              "        \n",
              "            \n",
              "                var html_fed8061feb1f6f8ef4dbf2ac160cbec3 = $(`&lt;div id=&quot;html_fed8061feb1f6f8ef4dbf2ac160cbec3&quot; style=&quot;width: 100.0%; height: 100.0%;&quot;&gt;COMISIÓN VEC. Bº EL PROGRESO&lt;/div&gt;`)[0];\n",
              "                popup_ca69916c3f67470b089a044d413816fb.setContent(html_fed8061feb1f6f8ef4dbf2ac160cbec3);\n",
              "            \n",
              "        \n",
              "\n",
              "        marker_1e03df752eaa1bdafb653b46900bcd1f.bindPopup(popup_ca69916c3f67470b089a044d413816fb)\n",
              "        ;\n",
              "\n",
              "        \n",
              "    \n",
              "    \n",
              "            var marker_b565a8dfa2c83ffe0b0ad8673f994052 = L.marker(\n",
              "                [-38.950763, -68.030233],\n",
              "                {}\n",
              "            ).addTo(map_cdb2a223cbf0a9c1defddb4cb7bc6608);\n",
              "        \n",
              "    \n",
              "        var popup_67c65f3524b1bf1c75f30520876218ba = L.popup({&quot;maxWidth&quot;: &quot;100%&quot;});\n",
              "\n",
              "        \n",
              "            \n",
              "                var html_620ec66a3ac1f4e858eb16af71464c2c = $(`&lt;div id=&quot;html_620ec66a3ac1f4e858eb16af71464c2c&quot; style=&quot;width: 100.0%; height: 100.0%;&quot;&gt;CLUB SAPERE&lt;/div&gt;`)[0];\n",
              "                popup_67c65f3524b1bf1c75f30520876218ba.setContent(html_620ec66a3ac1f4e858eb16af71464c2c);\n",
              "            \n",
              "        \n",
              "\n",
              "        marker_b565a8dfa2c83ffe0b0ad8673f994052.bindPopup(popup_67c65f3524b1bf1c75f30520876218ba)\n",
              "        ;\n",
              "\n",
              "        \n",
              "    \n",
              "    \n",
              "            var marker_4e2a5524b53c8c5277123d4898d4fa74 = L.marker(\n",
              "                [-38.973181, -68.059914],\n",
              "                {}\n",
              "            ).addTo(map_cdb2a223cbf0a9c1defddb4cb7bc6608);\n",
              "        \n",
              "    \n",
              "        var popup_b806c6e51a41f6a7790166f5f2e5ed57 = L.popup({&quot;maxWidth&quot;: &quot;100%&quot;});\n",
              "\n",
              "        \n",
              "            \n",
              "                var html_0d28057378cc3c58e823afb6e8ca4751 = $(`&lt;div id=&quot;html_0d28057378cc3c58e823afb6e8ca4751&quot; style=&quot;width: 100.0%; height: 100.0%;&quot;&gt;FUZION PADDLE&lt;/div&gt;`)[0];\n",
              "                popup_b806c6e51a41f6a7790166f5f2e5ed57.setContent(html_0d28057378cc3c58e823afb6e8ca4751);\n",
              "            \n",
              "        \n",
              "\n",
              "        marker_4e2a5524b53c8c5277123d4898d4fa74.bindPopup(popup_b806c6e51a41f6a7790166f5f2e5ed57)\n",
              "        ;\n",
              "\n",
              "        \n",
              "    \n",
              "    \n",
              "            var marker_ecdaaa15ef8a6ef2c3d66b11dc6fb24e = L.marker(\n",
              "                [-38.941866, -68.063388],\n",
              "                {}\n",
              "            ).addTo(map_cdb2a223cbf0a9c1defddb4cb7bc6608);\n",
              "        \n",
              "    \n",
              "        var popup_d7d8b9d3c23abbc9aa8fc792bfbab347 = L.popup({&quot;maxWidth&quot;: &quot;100%&quot;});\n",
              "\n",
              "        \n",
              "            \n",
              "                var html_4fb9182ebe77855ee88e7712bed69c02 = $(`&lt;div id=&quot;html_4fb9182ebe77855ee88e7712bed69c02&quot; style=&quot;width: 100.0%; height: 100.0%;&quot;&gt;ALTO COMAHUE SHOPPING&lt;/div&gt;`)[0];\n",
              "                popup_d7d8b9d3c23abbc9aa8fc792bfbab347.setContent(html_4fb9182ebe77855ee88e7712bed69c02);\n",
              "            \n",
              "        \n",
              "\n",
              "        marker_ecdaaa15ef8a6ef2c3d66b11dc6fb24e.bindPopup(popup_d7d8b9d3c23abbc9aa8fc792bfbab347)\n",
              "        ;\n",
              "\n",
              "        \n",
              "    \n",
              "    \n",
              "            var marker_0643669047e3be5960adff5a3aaf540c = L.marker(\n",
              "                [-38.926023, -68.070947],\n",
              "                {}\n",
              "            ).addTo(map_cdb2a223cbf0a9c1defddb4cb7bc6608);\n",
              "        \n",
              "    \n",
              "        var popup_4af69a34308400315f96242f182c9755 = L.popup({&quot;maxWidth&quot;: &quot;100%&quot;});\n",
              "\n",
              "        \n",
              "            \n",
              "                var html_6589d009af6481e7ae5f355057bc4bb2 = $(`&lt;div id=&quot;html_6589d009af6481e7ae5f355057bc4bb2&quot; style=&quot;width: 100.0%; height: 100.0%;&quot;&gt;COMISIÓN VEC. Bº 14 DE OCTUBRE- COPOL&lt;/div&gt;`)[0];\n",
              "                popup_4af69a34308400315f96242f182c9755.setContent(html_6589d009af6481e7ae5f355057bc4bb2);\n",
              "            \n",
              "        \n",
              "\n",
              "        marker_0643669047e3be5960adff5a3aaf540c.bindPopup(popup_4af69a34308400315f96242f182c9755)\n",
              "        ;\n",
              "\n",
              "        \n",
              "    \n",
              "    \n",
              "            var marker_d943f73c1bc551080980748ffa3fb185 = L.marker(\n",
              "                [-38.947237, -68.092334],\n",
              "                {}\n",
              "            ).addTo(map_cdb2a223cbf0a9c1defddb4cb7bc6608);\n",
              "        \n",
              "    \n",
              "        var popup_bf01e7d346596917b739310a50be72d8 = L.popup({&quot;maxWidth&quot;: &quot;100%&quot;});\n",
              "\n",
              "        \n",
              "            \n",
              "                var html_63632736f3ddbb6a610727ad8fab555f = $(`&lt;div id=&quot;html_63632736f3ddbb6a610727ad8fab555f&quot; style=&quot;width: 100.0%; height: 100.0%;&quot;&gt;DELG. MUN. PROGRESO&lt;/div&gt;`)[0];\n",
              "                popup_bf01e7d346596917b739310a50be72d8.setContent(html_63632736f3ddbb6a610727ad8fab555f);\n",
              "            \n",
              "        \n",
              "\n",
              "        marker_d943f73c1bc551080980748ffa3fb185.bindPopup(popup_bf01e7d346596917b739310a50be72d8)\n",
              "        ;\n",
              "\n",
              "        \n",
              "    \n",
              "    \n",
              "            var marker_95f43531908b7edd93775c040ae4e49c = L.marker(\n",
              "                [-38.948714, -68.106273],\n",
              "                {}\n",
              "            ).addTo(map_cdb2a223cbf0a9c1defddb4cb7bc6608);\n",
              "        \n",
              "    \n",
              "        var popup_d571eabfa4b72ed3e85f9cca59a0cf10 = L.popup({&quot;maxWidth&quot;: &quot;100%&quot;});\n",
              "\n",
              "        \n",
              "            \n",
              "                var html_aa39e2e282cc0c84721bbedef3938582 = $(`&lt;div id=&quot;html_aa39e2e282cc0c84721bbedef3938582&quot; style=&quot;width: 100.0%; height: 100.0%;&quot;&gt;C.E.P.M Nº47&lt;/div&gt;`)[0];\n",
              "                popup_d571eabfa4b72ed3e85f9cca59a0cf10.setContent(html_aa39e2e282cc0c84721bbedef3938582);\n",
              "            \n",
              "        \n",
              "\n",
              "        marker_95f43531908b7edd93775c040ae4e49c.bindPopup(popup_d571eabfa4b72ed3e85f9cca59a0cf10)\n",
              "        ;\n",
              "\n",
              "        \n",
              "    \n",
              "    \n",
              "            var circle_dcdadf9045fe79a5ee32ed9044d176ee = L.circle(\n",
              "                [-38.9375346, -68.0698444],\n",
              "                {&quot;bubblingMouseEvents&quot;: true, &quot;color&quot;: &quot;green&quot;, &quot;dashArray&quot;: null, &quot;dashOffset&quot;: null, &quot;fill&quot;: true, &quot;fillColor&quot;: &quot;green&quot;, &quot;fillOpacity&quot;: 0.7, &quot;fillRule&quot;: &quot;evenodd&quot;, &quot;lineCap&quot;: &quot;round&quot;, &quot;lineJoin&quot;: &quot;round&quot;, &quot;opacity&quot;: 1.0, &quot;radius&quot;: 136, &quot;stroke&quot;: true, &quot;weight&quot;: 3}\n",
              "            ).addTo(map_cdb2a223cbf0a9c1defddb4cb7bc6608);\n",
              "        \n",
              "    \n",
              "        var popup_082d2979325f4aa003c3fc09b9535c78 = L.popup({&quot;maxWidth&quot;: &quot;100%&quot;});\n",
              "\n",
              "        \n",
              "            \n",
              "                var html_0107b14bd537ef0316b3b4a32a511f2c = $(`&lt;div id=&quot;html_0107b14bd537ef0316b3b4a32a511f2c&quot; style=&quot;width: 100.0%; height: 100.0%;&quot;&gt;Accesible&lt;/div&gt;`)[0];\n",
              "                popup_082d2979325f4aa003c3fc09b9535c78.setContent(html_0107b14bd537ef0316b3b4a32a511f2c);\n",
              "            \n",
              "        \n",
              "\n",
              "        circle_dcdadf9045fe79a5ee32ed9044d176ee.bindPopup(popup_082d2979325f4aa003c3fc09b9535c78)\n",
              "        ;\n",
              "\n",
              "        \n",
              "    \n",
              "    \n",
              "            var circle_ac800308989cfef3ec11fe0c25153f84 = L.circle(\n",
              "                [-38.934292, -68.117583],\n",
              "                {&quot;bubblingMouseEvents&quot;: true, &quot;color&quot;: &quot;green&quot;, &quot;dashArray&quot;: null, &quot;dashOffset&quot;: null, &quot;fill&quot;: true, &quot;fillColor&quot;: &quot;green&quot;, &quot;fillOpacity&quot;: 0.7, &quot;fillRule&quot;: &quot;evenodd&quot;, &quot;lineCap&quot;: &quot;round&quot;, &quot;lineJoin&quot;: &quot;round&quot;, &quot;opacity&quot;: 1.0, &quot;radius&quot;: 136, &quot;stroke&quot;: true, &quot;weight&quot;: 3}\n",
              "            ).addTo(map_cdb2a223cbf0a9c1defddb4cb7bc6608);\n",
              "        \n",
              "    \n",
              "        var popup_46081a8b9f0ffe119d4438baed7cbb43 = L.popup({&quot;maxWidth&quot;: &quot;100%&quot;});\n",
              "\n",
              "        \n",
              "            \n",
              "                var html_5604e0982440a41374b42c7409c9cd3c = $(`&lt;div id=&quot;html_5604e0982440a41374b42c7409c9cd3c&quot; style=&quot;width: 100.0%; height: 100.0%;&quot;&gt;Accesible&lt;/div&gt;`)[0];\n",
              "                popup_46081a8b9f0ffe119d4438baed7cbb43.setContent(html_5604e0982440a41374b42c7409c9cd3c);\n",
              "            \n",
              "        \n",
              "\n",
              "        circle_ac800308989cfef3ec11fe0c25153f84.bindPopup(popup_46081a8b9f0ffe119d4438baed7cbb43)\n",
              "        ;\n",
              "\n",
              "        \n",
              "    \n",
              "    \n",
              "            var circle_089031d8f97b5c5055877e823a497559 = L.circle(\n",
              "                [-38.94882, -68.09612],\n",
              "                {&quot;bubblingMouseEvents&quot;: true, &quot;color&quot;: &quot;green&quot;, &quot;dashArray&quot;: null, &quot;dashOffset&quot;: null, &quot;fill&quot;: true, &quot;fillColor&quot;: &quot;green&quot;, &quot;fillOpacity&quot;: 0.7, &quot;fillRule&quot;: &quot;evenodd&quot;, &quot;lineCap&quot;: &quot;round&quot;, &quot;lineJoin&quot;: &quot;round&quot;, &quot;opacity&quot;: 1.0, &quot;radius&quot;: 136, &quot;stroke&quot;: true, &quot;weight&quot;: 3}\n",
              "            ).addTo(map_cdb2a223cbf0a9c1defddb4cb7bc6608);\n",
              "        \n",
              "    \n",
              "        var popup_d5aaf828f43d69a35253c91baaac8e42 = L.popup({&quot;maxWidth&quot;: &quot;100%&quot;});\n",
              "\n",
              "        \n",
              "            \n",
              "                var html_d3cb55a71e53cf6d0e16b7b0d3b92190 = $(`&lt;div id=&quot;html_d3cb55a71e53cf6d0e16b7b0d3b92190&quot; style=&quot;width: 100.0%; height: 100.0%;&quot;&gt;Accesible&lt;/div&gt;`)[0];\n",
              "                popup_d5aaf828f43d69a35253c91baaac8e42.setContent(html_d3cb55a71e53cf6d0e16b7b0d3b92190);\n",
              "            \n",
              "        \n",
              "\n",
              "        circle_089031d8f97b5c5055877e823a497559.bindPopup(popup_d5aaf828f43d69a35253c91baaac8e42)\n",
              "        ;\n",
              "\n",
              "        \n",
              "    \n",
              "    \n",
              "            var circle_4a3caee6c3249fa0b5878ada8899655f = L.circle(\n",
              "                [-38.950763, -68.030233],\n",
              "                {&quot;bubblingMouseEvents&quot;: true, &quot;color&quot;: &quot;red&quot;, &quot;dashArray&quot;: null, &quot;dashOffset&quot;: null, &quot;fill&quot;: true, &quot;fillColor&quot;: &quot;red&quot;, &quot;fillOpacity&quot;: 0.7, &quot;fillRule&quot;: &quot;evenodd&quot;, &quot;lineCap&quot;: &quot;round&quot;, &quot;lineJoin&quot;: &quot;round&quot;, &quot;opacity&quot;: 1.0, &quot;radius&quot;: 136, &quot;stroke&quot;: true, &quot;weight&quot;: 3}\n",
              "            ).addTo(map_cdb2a223cbf0a9c1defddb4cb7bc6608);\n",
              "        \n",
              "    \n",
              "        var popup_5a8e1f6e50781498dc144b69ada07101 = L.popup({&quot;maxWidth&quot;: &quot;100%&quot;});\n",
              "\n",
              "        \n",
              "            \n",
              "                var html_6d60cca95ead71c66f84a5914c00fe5f = $(`&lt;div id=&quot;html_6d60cca95ead71c66f84a5914c00fe5f&quot; style=&quot;width: 100.0%; height: 100.0%;&quot;&gt;No accesible&lt;/div&gt;`)[0];\n",
              "                popup_5a8e1f6e50781498dc144b69ada07101.setContent(html_6d60cca95ead71c66f84a5914c00fe5f);\n",
              "            \n",
              "        \n",
              "\n",
              "        circle_4a3caee6c3249fa0b5878ada8899655f.bindPopup(popup_5a8e1f6e50781498dc144b69ada07101)\n",
              "        ;\n",
              "\n",
              "        \n",
              "    \n",
              "    \n",
              "            var circle_f8213583b024ddf867057fd55a975f82 = L.circle(\n",
              "                [-38.973181, -68.059914],\n",
              "                {&quot;bubblingMouseEvents&quot;: true, &quot;color&quot;: &quot;red&quot;, &quot;dashArray&quot;: null, &quot;dashOffset&quot;: null, &quot;fill&quot;: true, &quot;fillColor&quot;: &quot;red&quot;, &quot;fillOpacity&quot;: 0.7, &quot;fillRule&quot;: &quot;evenodd&quot;, &quot;lineCap&quot;: &quot;round&quot;, &quot;lineJoin&quot;: &quot;round&quot;, &quot;opacity&quot;: 1.0, &quot;radius&quot;: 136, &quot;stroke&quot;: true, &quot;weight&quot;: 3}\n",
              "            ).addTo(map_cdb2a223cbf0a9c1defddb4cb7bc6608);\n",
              "        \n",
              "    \n",
              "        var popup_dc7f8963481f57d2203b525d46de235e = L.popup({&quot;maxWidth&quot;: &quot;100%&quot;});\n",
              "\n",
              "        \n",
              "            \n",
              "                var html_09eb63d89580311b9b498a848b54bce1 = $(`&lt;div id=&quot;html_09eb63d89580311b9b498a848b54bce1&quot; style=&quot;width: 100.0%; height: 100.0%;&quot;&gt;No accesible&lt;/div&gt;`)[0];\n",
              "                popup_dc7f8963481f57d2203b525d46de235e.setContent(html_09eb63d89580311b9b498a848b54bce1);\n",
              "            \n",
              "        \n",
              "\n",
              "        circle_f8213583b024ddf867057fd55a975f82.bindPopup(popup_dc7f8963481f57d2203b525d46de235e)\n",
              "        ;\n",
              "\n",
              "        \n",
              "    \n",
              "    \n",
              "            var circle_7b05bbefe90a3e47a4b1680611f76cc8 = L.circle(\n",
              "                [-38.941866, -68.063388],\n",
              "                {&quot;bubblingMouseEvents&quot;: true, &quot;color&quot;: &quot;red&quot;, &quot;dashArray&quot;: null, &quot;dashOffset&quot;: null, &quot;fill&quot;: true, &quot;fillColor&quot;: &quot;red&quot;, &quot;fillOpacity&quot;: 0.7, &quot;fillRule&quot;: &quot;evenodd&quot;, &quot;lineCap&quot;: &quot;round&quot;, &quot;lineJoin&quot;: &quot;round&quot;, &quot;opacity&quot;: 1.0, &quot;radius&quot;: 136, &quot;stroke&quot;: true, &quot;weight&quot;: 3}\n",
              "            ).addTo(map_cdb2a223cbf0a9c1defddb4cb7bc6608);\n",
              "        \n",
              "    \n",
              "        var popup_7ceadfd114c843d3fed706ba08195c8d = L.popup({&quot;maxWidth&quot;: &quot;100%&quot;});\n",
              "\n",
              "        \n",
              "            \n",
              "                var html_99e538ebef5ab7f393b418721750c80e = $(`&lt;div id=&quot;html_99e538ebef5ab7f393b418721750c80e&quot; style=&quot;width: 100.0%; height: 100.0%;&quot;&gt;No accesible&lt;/div&gt;`)[0];\n",
              "                popup_7ceadfd114c843d3fed706ba08195c8d.setContent(html_99e538ebef5ab7f393b418721750c80e);\n",
              "            \n",
              "        \n",
              "\n",
              "        circle_7b05bbefe90a3e47a4b1680611f76cc8.bindPopup(popup_7ceadfd114c843d3fed706ba08195c8d)\n",
              "        ;\n",
              "\n",
              "        \n",
              "    \n",
              "    \n",
              "            var circle_9da9ae59ce83d0885b2c89d3b63f0539 = L.circle(\n",
              "                [-38.926023, -68.070947],\n",
              "                {&quot;bubblingMouseEvents&quot;: true, &quot;color&quot;: &quot;red&quot;, &quot;dashArray&quot;: null, &quot;dashOffset&quot;: null, &quot;fill&quot;: true, &quot;fillColor&quot;: &quot;red&quot;, &quot;fillOpacity&quot;: 0.7, &quot;fillRule&quot;: &quot;evenodd&quot;, &quot;lineCap&quot;: &quot;round&quot;, &quot;lineJoin&quot;: &quot;round&quot;, &quot;opacity&quot;: 1.0, &quot;radius&quot;: 136, &quot;stroke&quot;: true, &quot;weight&quot;: 3}\n",
              "            ).addTo(map_cdb2a223cbf0a9c1defddb4cb7bc6608);\n",
              "        \n",
              "    \n",
              "        var popup_3a335ec8db0f5f1481ec6fe2e21b9114 = L.popup({&quot;maxWidth&quot;: &quot;100%&quot;});\n",
              "\n",
              "        \n",
              "            \n",
              "                var html_f914fe082b6ae3754c7ba5b6375d8cfb = $(`&lt;div id=&quot;html_f914fe082b6ae3754c7ba5b6375d8cfb&quot; style=&quot;width: 100.0%; height: 100.0%;&quot;&gt;No accesible&lt;/div&gt;`)[0];\n",
              "                popup_3a335ec8db0f5f1481ec6fe2e21b9114.setContent(html_f914fe082b6ae3754c7ba5b6375d8cfb);\n",
              "            \n",
              "        \n",
              "\n",
              "        circle_9da9ae59ce83d0885b2c89d3b63f0539.bindPopup(popup_3a335ec8db0f5f1481ec6fe2e21b9114)\n",
              "        ;\n",
              "\n",
              "        \n",
              "    \n",
              "    \n",
              "            var circle_a262a9b192d9099e5c1af451274b24f7 = L.circle(\n",
              "                [-38.947237, -68.092334],\n",
              "                {&quot;bubblingMouseEvents&quot;: true, &quot;color&quot;: &quot;red&quot;, &quot;dashArray&quot;: null, &quot;dashOffset&quot;: null, &quot;fill&quot;: true, &quot;fillColor&quot;: &quot;red&quot;, &quot;fillOpacity&quot;: 0.7, &quot;fillRule&quot;: &quot;evenodd&quot;, &quot;lineCap&quot;: &quot;round&quot;, &quot;lineJoin&quot;: &quot;round&quot;, &quot;opacity&quot;: 1.0, &quot;radius&quot;: 136, &quot;stroke&quot;: true, &quot;weight&quot;: 3}\n",
              "            ).addTo(map_cdb2a223cbf0a9c1defddb4cb7bc6608);\n",
              "        \n",
              "    \n",
              "        var popup_c1636b492c469df0ca0a60371187b979 = L.popup({&quot;maxWidth&quot;: &quot;100%&quot;});\n",
              "\n",
              "        \n",
              "            \n",
              "                var html_92090ae46bf3220e95c34d799f35369c = $(`&lt;div id=&quot;html_92090ae46bf3220e95c34d799f35369c&quot; style=&quot;width: 100.0%; height: 100.0%;&quot;&gt;No accesible&lt;/div&gt;`)[0];\n",
              "                popup_c1636b492c469df0ca0a60371187b979.setContent(html_92090ae46bf3220e95c34d799f35369c);\n",
              "            \n",
              "        \n",
              "\n",
              "        circle_a262a9b192d9099e5c1af451274b24f7.bindPopup(popup_c1636b492c469df0ca0a60371187b979)\n",
              "        ;\n",
              "\n",
              "        \n",
              "    \n",
              "    \n",
              "            var circle_a31f2a19937939f6f93d88a874ffc3f6 = L.circle(\n",
              "                [-38.948714, -68.106273],\n",
              "                {&quot;bubblingMouseEvents&quot;: true, &quot;color&quot;: &quot;orange&quot;, &quot;dashArray&quot;: null, &quot;dashOffset&quot;: null, &quot;fill&quot;: true, &quot;fillColor&quot;: &quot;orange&quot;, &quot;fillOpacity&quot;: 0.7, &quot;fillRule&quot;: &quot;evenodd&quot;, &quot;lineCap&quot;: &quot;round&quot;, &quot;lineJoin&quot;: &quot;round&quot;, &quot;opacity&quot;: 1.0, &quot;radius&quot;: 136, &quot;stroke&quot;: true, &quot;weight&quot;: 3}\n",
              "            ).addTo(map_cdb2a223cbf0a9c1defddb4cb7bc6608);\n",
              "        \n",
              "    \n",
              "        var popup_0e9ab6d09e1b4f6a5aa9c3c79e542d72 = L.popup({&quot;maxWidth&quot;: &quot;100%&quot;});\n",
              "\n",
              "        \n",
              "            \n",
              "                var html_5084ef52b3feb0f0742912f1ecf4433e = $(`&lt;div id=&quot;html_5084ef52b3feb0f0742912f1ecf4433e&quot; style=&quot;width: 100.0%; height: 100.0%;&quot;&gt;Medio&lt;/div&gt;`)[0];\n",
              "                popup_0e9ab6d09e1b4f6a5aa9c3c79e542d72.setContent(html_5084ef52b3feb0f0742912f1ecf4433e);\n",
              "            \n",
              "        \n",
              "\n",
              "        circle_a31f2a19937939f6f93d88a874ffc3f6.bindPopup(popup_0e9ab6d09e1b4f6a5aa9c3c79e542d72)\n",
              "        ;\n",
              "\n",
              "        \n",
              "    \n",
              "    \n",
              "            var layer_control_71599fb569e4f6e260b216d1c079ba68 = {\n",
              "                base_layers : {\n",
              "                    &quot;openstreetmap&quot; : tile_layer_d15fa31097234e1242cddeae9acffc9f,\n",
              "                },\n",
              "                overlays :  {\n",
              "                },\n",
              "            };\n",
              "            L.control.layers(\n",
              "                layer_control_71599fb569e4f6e260b216d1c079ba68.base_layers,\n",
              "                layer_control_71599fb569e4f6e260b216d1c079ba68.overlays,\n",
              "                {&quot;autoZIndex&quot;: true, &quot;collapsed&quot;: true, &quot;position&quot;: &quot;topright&quot;}\n",
              "            ).addTo(map_cdb2a223cbf0a9c1defddb4cb7bc6608);\n",
              "        \n",
              "&lt;/script&gt;\n",
              "&lt;/html&gt;\" style=\"position:absolute;width:100%;height:100%;left:0;top:0;border:none !important;\" allowfullscreen webkitallowfullscreen mozallowfullscreen></iframe></div></div>"
            ]
          },
          "metadata": {},
          "execution_count": 85
        }
      ]
    },
    {
      "cell_type": "code",
      "source": [],
      "metadata": {
        "id": "eI2xOLjgvyrG"
      },
      "execution_count": null,
      "outputs": []
    },
    {
      "cell_type": "markdown",
      "source": [
        "**Verde**: Accesible  \n",
        "**Rojo**: No accesible  \n",
        "**Naranja**: Accesibilidad media  \n"
      ],
      "metadata": {
        "id": "DF4y_4nVnxZ4"
      }
    },
    {
      "cell_type": "markdown",
      "source": [
        "En el mapa podemos ver que de los ecopuntos activos, sólo tres son totalmente accesibles, y se encuentran en la zona norte-oeste de la ciudad de Neuquén."
      ],
      "metadata": {
        "id": "jnVPfjyswG3d"
      }
    },
    {
      "cell_type": "markdown",
      "source": [
        "¿Queremos un sistema de reciclaje en el que la recolección de residuos sea accesible?\n",
        "¿Estamos dispuestos a ser responsables?\n",
        "¿Disponemos de un sistema que se encargue de la recolección eficiente?\n",
        "¿A dónde se destinan estos residuos? ¿Qué es lo que se hace luego? ¿Vale la pena nuestro esfuerzo hoy en día?"
      ],
      "metadata": {
        "id": "9DVzygORoN4P"
      }
    },
    {
      "cell_type": "code",
      "source": [],
      "metadata": {
        "id": "pwXPSJMzwQrW"
      },
      "execution_count": null,
      "outputs": []
    },
    {
      "cell_type": "markdown",
      "source": [
        "# Estado de los ecopuntos"
      ],
      "metadata": {
        "id": "4xJeAdzgl79z"
      }
    },
    {
      "cell_type": "code",
      "source": [
        "pd.set_option('display.max_columns',1000)"
      ],
      "metadata": {
        "id": "BAUKGSfLmTPm"
      },
      "execution_count": null,
      "outputs": []
    },
    {
      "cell_type": "code",
      "source": [
        "# df_acc.shape"
      ],
      "metadata": {
        "id": "u4lA5ob7mQvA"
      },
      "execution_count": null,
      "outputs": []
    },
    {
      "cell_type": "markdown",
      "source": [
        "Sería qué tan bien cuidado se encontraban los ecopuntos"
      ],
      "metadata": {
        "id": "wTO4GhrZnnL6"
      }
    },
    {
      "cell_type": "code",
      "source": [
        "data = df_acc['Estado '].value_counts().values\n",
        "labels = df_acc['Estado '].value_counts(normalize=True).index\n",
        "colors = sns.color_palette('pastel')\n",
        "\n",
        "plt.pie(data, labels=labels,colors = colors, autopct = lambda p: '{:.2f}%({:.0f})'.format(p,(p/100)*data.sum()))#, explode = explode)\n",
        "plt.title('Estado General')\n",
        "plt.show()"
      ],
      "metadata": {
        "colab": {
          "base_uri": "https://localhost:8080/",
          "height": 428
        },
        "id": "-VB6uRsUl9aC",
        "outputId": "d5507580-4a10-49ab-c29e-a02d7aa69048"
      },
      "execution_count": 86,
      "outputs": [
        {
          "output_type": "display_data",
          "data": {
            "text/plain": [
              "<Figure size 640x480 with 1 Axes>"
            ],
            "image/png": "[encoded data removed]"
          },
          "metadata": {}
        }
      ]
    },
    {
      "cell_type": "markdown",
      "source": [
        "Están bastante bien"
      ],
      "metadata": {
        "id": "mA_Tqv_Jq9Cs"
      }
    },
    {
      "cell_type": "code",
      "source": [
        "data = df_acc['Ocupación de los compartimentos'].value_counts().values\n",
        "labels = df_acc['Ocupación de los compartimentos'].value_counts(normalize=True).index\n",
        "colors = sns.color_palette('pastel')\n",
        "\n",
        "plt.pie(data, labels=labels,colors = colors, autopct = lambda p: '{:.2f}%({:.0f})'.format(p,(p/100)*data.sum()))#, explode = explode)\n",
        "plt.title('Porcentaje de ocupación')\n",
        "plt.show()"
      ],
      "metadata": {
        "colab": {
          "base_uri": "https://localhost:8080/",
          "height": 429
        },
        "id": "pVDQIWtOmmWQ",
        "outputId": "acbc21ea-1d90-4c24-edf3-177aaf64750e"
      },
      "execution_count": 87,
      "outputs": [
        {
          "output_type": "display_data",
          "data": {
            "text/plain": [
              "<Figure size 640x480 with 1 Axes>"
            ],
            "image/png": "[encoded data removed]"
          },
          "metadata": {}
        }
      ]
    },
    {
      "cell_type": "code",
      "source": [
        "data = df_acc['Ubicación'].value_counts().values\n",
        "labels = df_acc['Ubicación'].value_counts(normalize=True).index\n",
        "colors = sns.color_palette('pastel')\n",
        "\n",
        "plt.pie(data, labels=labels,colors = colors, autopct = lambda p: '{:.2f}%({:.0f})'.format(p,(p/100)*data.sum()))#, explode = explode)\n",
        "plt.title('Señalización')\n",
        "plt.show()"
      ],
      "metadata": {
        "colab": {
          "base_uri": "https://localhost:8080/",
          "height": 330
        },
        "id": "W0WIkth4nEiQ",
        "outputId": "b728109d-e279-4072-f23b-f833c5c05a71"
      },
      "execution_count": 88,
      "outputs": [
        {
          "output_type": "display_data",
          "data": {
            "text/plain": [
              "<Figure size 640x480 with 1 Axes>"
            ],
            "image/png": "[encoded data removed]"
          },
          "metadata": {}
        }
      ]
    },
    {
      "cell_type": "markdown",
      "source": [
        "Hay alguna relación entre la señalización y la ocupación de los contenedores? y entre la señalización y la accesibilidad espacial?"
      ],
      "metadata": {
        "id": "GzKtU1HtnxqW"
      }
    },
    {
      "cell_type": "code",
      "source": [],
      "metadata": {
        "id": "azrbxSw1nYct"
      },
      "execution_count": null,
      "outputs": []
    },
    {
      "cell_type": "markdown",
      "source": [
        "**Grado de ocupación vs señalización**"
      ],
      "metadata": {
        "id": "OnhntlfDnZc5"
      }
    },
    {
      "cell_type": "code",
      "source": [
        "sen_oc = pd.crosstab(df_acc['Ubicación'], df_acc['Ocupación de los compartimentos'], rownames=['Señalización'], colnames=['Grado de ocupación'])\n",
        "sns.heatmap(sen_oc, annot=True, cmap='crest')\n",
        "plt.show()"
      ],
      "metadata": {
        "colab": {
          "base_uri": "https://localhost:8080/",
          "height": 356
        },
        "id": "At2lEot23ts4",
        "outputId": "ab1072ef-4653-4b76-89b2-8c3f555a64d3"
      },
      "execution_count": null,
      "outputs": [
        {
          "output_type": "display_data",
          "data": {
            "text/plain": [
              "<Figure size 640x480 with 2 Axes>"
            ],
            "image/png": "[encoded data removed]"
          },
          "metadata": {}
        }
      ]
    },
    {
      "cell_type": "code",
      "source": [],
      "metadata": {
        "id": "4WxRXCV1nfLo"
      },
      "execution_count": null,
      "outputs": []
    },
    {
      "cell_type": "markdown",
      "source": [
        "**Accesibilidad espacial vs señalización**"
      ],
      "metadata": {
        "id": "79DE-9CCnf4A"
      }
    },
    {
      "cell_type": "code",
      "source": [
        "sen_acc = pd.crosstab(df_acc['Ubicación'], df_acc['Accesibilidad espacial'], rownames=['Señalización'], colnames=['Accesibilidad espacial'])\n",
        "sns.heatmap(sen_acc, annot=True, cmap='crest')\n",
        "plt.show()"
      ],
      "metadata": {
        "colab": {
          "base_uri": "https://localhost:8080/",
          "height": 356
        },
        "id": "IbR6WBkb4OPj",
        "outputId": "ecd811b8-0538-4b90-ef94-601ce7edc5cf"
      },
      "execution_count": null,
      "outputs": [
        {
          "output_type": "display_data",
          "data": {
            "text/plain": [
              "<Figure size 640x480 with 2 Axes>"
            ],
            "image/png": "[encoded data removed]"
          },
          "metadata": {}
        }
      ]
    },
    {
      "cell_type": "code",
      "source": [],
      "metadata": {
        "id": "jM_n-_Dmp-RR"
      },
      "execution_count": null,
      "outputs": []
    },
    {
      "cell_type": "markdown",
      "source": [
        "Vemos que 4 ecopuntos se encuentran en espacio cerrado y sólo tienen señalización sobre los contenedores, es señalización suficiente???"
      ],
      "metadata": {
        "id": "WnbiF7k7qQCw"
      }
    },
    {
      "cell_type": "code",
      "source": [],
      "metadata": {
        "id": "tZd_bOpuqadm"
      },
      "execution_count": null,
      "outputs": []
    },
    {
      "cell_type": "code",
      "source": [],
      "metadata": {
        "id": "S2kmvkKSqcG5"
      },
      "execution_count": null,
      "outputs": []
    },
    {
      "cell_type": "markdown",
      "source": [
        "# Ubicación"
      ],
      "metadata": {
        "id": "rXRuSDeMqdiu"
      }
    },
    {
      "cell_type": "code",
      "source": [
        "import math\n",
        "def distance(source , destination):\n",
        "    lat1, lon1 = source['lat'],source['lon']\n",
        "    lat2, lon2 = destination['lat'],destination['lon']\n",
        "    radius = 6371 # km\n",
        "    dlat = math.radians(lat2-lat1)\n",
        "    dlon = math.radians(lon2-lon1)\n",
        "    a = math.sin(dlat/2) * math.sin(dlat/2) + math.cos(math.radians(lat1)) \\\n",
        "        * math.cos(math.radians(lat2)) * math.sin(dlon/2) * math.sin(dlon/2)\n",
        "    c = 2 * math.atan2(math.sqrt(a), math.sqrt(1-a))\n",
        "    d = radius * c\n",
        "    d = d*1000\n",
        "    return d"
      ],
      "metadata": {
        "id": "ef3Mbsq64CCC"
      },
      "execution_count": 90,
      "outputs": []
    },
    {
      "cell_type": "code",
      "source": [
        "import geopy.distance\n"
      ],
      "metadata": {
        "id": "i_313Oni6f8C"
      },
      "execution_count": 91,
      "outputs": []
    },
    {
      "cell_type": "code",
      "source": [
        "dict_distance = {}\n",
        "for index, point1 in df_acc.iterrows():\n",
        "  for indexp, point2 in df_acc.iterrows():\n",
        "    point1_row = point1[['Ecopunto','lat','lon']]\n",
        "    point2_row = point2[['Ecopunto','lat','lon']]\n",
        "    # print(point1_row)\n",
        "    distance = np.sqrt((point1_row[\"lat\"] - point2_row[\"lat\"])**2 + (point1_row[\"lon\"] - point2_row[\"lon\"])**2)*100\n",
        "    dict_distance[str(point1_row['Ecopunto']) + '_' + str(point2_row['Ecopunto'])] = distance\n"
      ],
      "metadata": {
        "id": "PilGUCX8t-lP"
      },
      "execution_count": 92,
      "outputs": []
    },
    {
      "cell_type": "code",
      "source": [],
      "metadata": {
        "id": "7nCITry_7uDf"
      },
      "execution_count": null,
      "outputs": []
    },
    {
      "cell_type": "markdown",
      "source": [
        "Distancia en kilómetros"
      ],
      "metadata": {
        "id": "0T54RhOH7ufo"
      }
    },
    {
      "cell_type": "code",
      "source": [
        "df_distance = pd.DataFrame(dict_distance, index=[0])"
      ],
      "metadata": {
        "id": "kw5I0TIzu_e3"
      },
      "execution_count": 93,
      "outputs": []
    },
    {
      "cell_type": "code",
      "source": [
        "df_distance = df_distance.T"
      ],
      "metadata": {
        "id": "XMKtW2Px7zQg"
      },
      "execution_count": 94,
      "outputs": []
    },
    {
      "cell_type": "code",
      "source": [
        "df_distance.columns = ['distance']"
      ],
      "metadata": {
        "id": "kRpubXvJ7zMY"
      },
      "execution_count": 95,
      "outputs": []
    },
    {
      "cell_type": "code",
      "source": [
        "df_distance.drop_duplicates(subset='distance')['distance'].describe()"
      ],
      "metadata": {
        "colab": {
          "base_uri": "https://localhost:8080/"
        },
        "id": "HR9IgMKdwZlg",
        "outputId": "6e1b51cc-8736-47b9-b940-bcd02138444d"
      },
      "execution_count": 96,
      "outputs": [
        {
          "output_type": "execute_result",
          "data": {
            "text/plain": [
              "count    37.000000\n",
              "mean      3.701074\n",
              "std       2.002854\n",
              "min       0.000000\n",
              "25%       2.591762\n",
              "50%       3.700377\n",
              "75%       4.764134\n",
              "max       8.888935\n",
              "Name: distance, dtype: float64"
            ]
          },
          "metadata": {},
          "execution_count": 96
        }
      ]
    },
    {
      "cell_type": "code",
      "source": [
        "sns.displot(df_distance.drop_duplicates(subset='distance'), bins=40)\n",
        "plt.show()"
      ],
      "metadata": {
        "colab": {
          "base_uri": "https://localhost:8080/",
          "height": 506
        },
        "id": "YXRoAVEU7zHX",
        "outputId": "b4ec86bb-f542-4a85-e6b6-ec2556fdb46b"
      },
      "execution_count": null,
      "outputs": [
        {
          "output_type": "display_data",
          "data": {
            "text/plain": [
              "<Figure size 608.875x500 with 1 Axes>"
            ],
            "image/png": "[encoded data removed]"
          },
          "metadata": {}
        }
      ]
    },
    {
      "cell_type": "markdown",
      "source": [
        "El promedio de distancias es de 3.7 kilómetros"
      ],
      "metadata": {
        "id": "U80H-kSY8k7c"
      }
    },
    {
      "cell_type": "code",
      "source": [
        "df_distance = df_distance.drop_duplicates(subset='distance')"
      ],
      "metadata": {
        "id": "R4AThZ_25S5W"
      },
      "execution_count": 97,
      "outputs": []
    },
    {
      "cell_type": "code",
      "source": [],
      "metadata": {
        "id": "fL1jlgRV5ZTl"
      },
      "execution_count": null,
      "outputs": []
    },
    {
      "cell_type": "code",
      "source": [],
      "metadata": {
        "id": "o_vGSWKw5S1g"
      },
      "execution_count": null,
      "outputs": []
    },
    {
      "cell_type": "code",
      "source": [],
      "metadata": {
        "id": "dibFeb1b5Swn"
      },
      "execution_count": null,
      "outputs": []
    },
    {
      "cell_type": "markdown",
      "source": [
        "## Análisis en función de las zonas de la ciudad. Identificación de conglomerados de ecopuntos."
      ],
      "metadata": {
        "id": "e0lPhi9X8w6j"
      }
    },
    {
      "cell_type": "code",
      "source": [
        "cen_lat, cen_lon = [-38.951678, -68.059189]"
      ],
      "metadata": {
        "id": "H3UsihCN81NZ"
      },
      "execution_count": null,
      "outputs": []
    },
    {
      "cell_type": "code",
      "source": [
        "map_ub = dibjuar_mapa_con_dist(df_acc.sort_values(by=['Estado actual']), 'Estado actual', circle=False)\n",
        "folium.PolyLine([(-38.936416, -68.059058), (-38.979781, -68.059367)], color=\"red\", weight=2.5, opacity=1).add_to(map_ub)\n",
        "folium.PolyLine([(-38.954645, -68.132429), (-38.955469, -68.017609)], color=\"blue\", weight=2.5, opacity=1).add_to(map_ub)"
      ],
      "metadata": {
        "colab": {
          "base_uri": "https://localhost:8080/"
        },
        "id": "e0W54UjD93Hh",
        "outputId": "463c76d6-3e5e-44c1-bbd2-e27b5507a246"
      },
      "execution_count": null,
      "outputs": [
        {
          "output_type": "execute_result",
          "data": {
            "text/plain": [
              "<folium.vector_layers.PolyLine at 0x7966e185b490>"
            ]
          },
          "metadata": {},
          "execution_count": 40
        }
      ]
    },
    {
      "cell_type": "code",
      "source": [
        "map_ub"
      ],
      "metadata": {
        "colab": {
          "base_uri": "https://localhost:8080/",
          "height": 787
        },
        "id": "RwFNVHaY9_Lp",
        "outputId": "f7d46451-3894-4ad6-f634-a37bfa4d8ac8"
      },
      "execution_count": null,
      "outputs": [
        {
          "output_type": "execute_result",
          "data": {
            "text/plain": [
              "<folium.folium.Map at 0x7966e185bf10>"
            ],
            "text/html": [
              "<div style=\"width:100%;\"><div style=\"position:relative;width:100%;height:0;padding-bottom:60%;\"><span style=\"color:#565656\">Make this Notebook Trusted to load map: File -> Trust Notebook</span><iframe srcdoc=\"&lt;!DOCTYPE html&gt;\n",
              "&lt;html&gt;\n",
              "&lt;head&gt;\n",
              "    \n",
              "    &lt;meta http-equiv=&quot;content-type&quot; content=&quot;text/html; charset=UTF-8&quot; /&gt;\n",
              "    \n",
              "        &lt;script&gt;\n",
              "            L_NO_TOUCH = false;\n",
              "            L_DISABLE_3D = false;\n",
              "        &lt;/script&gt;\n",
              "    \n",
              "    &lt;style&gt;html, body {width: 100%;height: 100%;margin: 0;padding: 0;}&lt;/style&gt;\n",
              "    &lt;style&gt;#map {position:absolute;top:0;bottom:0;right:0;left:0;}&lt;/style&gt;\n",
              "    &lt;script src=&quot;https://cdn.jsdelivr.net/npm/leaflet@1.9.3/dist/leaflet.js&quot;&gt;&lt;/script&gt;\n",
              "    &lt;script src=&quot;https://code.jquery.com/jquery-1.12.4.min.js&quot;&gt;&lt;/script&gt;\n",
              "    &lt;script src=&quot;https://cdn.jsdelivr.net/npm/bootstrap@5.2.2/dist/js/bootstrap.bundle.min.js&quot;&gt;&lt;/script&gt;\n",
              "    &lt;script src=&quot;https://cdnjs.cloudflare.com/ajax/libs/Leaflet.awesome-markers/2.0.2/leaflet.awesome-markers.js&quot;&gt;&lt;/script&gt;\n",
              "    &lt;link rel=&quot;stylesheet&quot; href=&quot;https://cdn.jsdelivr.net/npm/leaflet@1.9.3/dist/leaflet.css&quot;/&gt;\n",
              "    &lt;link rel=&quot;stylesheet&quot; href=&quot;https://cdn.jsdelivr.net/npm/bootstrap@5.2.2/dist/css/bootstrap.min.css&quot;/&gt;\n",
              "    &lt;link rel=&quot;stylesheet&quot; href=&quot;https://netdna.bootstrapcdn.com/bootstrap/3.0.0/css/bootstrap.min.css&quot;/&gt;\n",
              "    &lt;link rel=&quot;stylesheet&quot; href=&quot;https://cdn.jsdelivr.net/npm/@fortawesome/fontawesome-free@6.2.0/css/all.min.css&quot;/&gt;\n",
              "    &lt;link rel=&quot;stylesheet&quot; href=&quot;https://cdnjs.cloudflare.com/ajax/libs/Leaflet.awesome-markers/2.0.2/leaflet.awesome-markers.css&quot;/&gt;\n",
              "    &lt;link rel=&quot;stylesheet&quot; href=&quot;https://cdn.jsdelivr.net/gh/python-visualization/folium/folium/templates/leaflet.awesome.rotate.min.css&quot;/&gt;\n",
              "    \n",
              "            &lt;meta name=&quot;viewport&quot; content=&quot;width=device-width,\n",
              "                initial-scale=1.0, maximum-scale=1.0, user-scalable=no&quot; /&gt;\n",
              "            &lt;style&gt;\n",
              "                #map_0cfa8979b606accacf371bf36917aac9 {\n",
              "                    position: relative;\n",
              "                    width: 100.0%;\n",
              "                    height: 100.0%;\n",
              "                    left: 0.0%;\n",
              "                    top: 0.0%;\n",
              "                }\n",
              "                .leaflet-container { font-size: 1rem; }\n",
              "            &lt;/style&gt;\n",
              "        \n",
              "&lt;/head&gt;\n",
              "&lt;body&gt;\n",
              "    \n",
              "    \n",
              "            &lt;div class=&quot;folium-map&quot; id=&quot;map_0cfa8979b606accacf371bf36917aac9&quot; &gt;&lt;/div&gt;\n",
              "        \n",
              "&lt;/body&gt;\n",
              "&lt;script&gt;\n",
              "    \n",
              "    \n",
              "            var map_0cfa8979b606accacf371bf36917aac9 = L.map(\n",
              "                &quot;map_0cfa8979b606accacf371bf36917aac9&quot;,\n",
              "                {\n",
              "                    center: [-38.951678, -68.059189],\n",
              "                    crs: L.CRS.EPSG3857,\n",
              "                    zoom: 13,\n",
              "                    zoomControl: true,\n",
              "                    preferCanvas: false,\n",
              "                }\n",
              "            );\n",
              "\n",
              "            \n",
              "\n",
              "        \n",
              "    \n",
              "            var tile_layer_f1c8aa04ff1e2d9c66c02c0d3cfbd28b = L.tileLayer(\n",
              "                &quot;https://{s}.tile.openstreetmap.org/{z}/{x}/{y}.png&quot;,\n",
              "                {&quot;attribution&quot;: &quot;Data by \\u0026copy; \\u003ca target=\\&quot;_blank\\&quot; href=\\&quot;http://openstreetmap.org\\&quot;\\u003eOpenStreetMap\\u003c/a\\u003e, under \\u003ca target=\\&quot;_blank\\&quot; href=\\&quot;http://www.openstreetmap.org/copyright\\&quot;\\u003eODbL\\u003c/a\\u003e.&quot;, &quot;detectRetina&quot;: false, &quot;maxNativeZoom&quot;: 18, &quot;maxZoom&quot;: 18, &quot;minZoom&quot;: 0, &quot;noWrap&quot;: false, &quot;opacity&quot;: 1, &quot;subdomains&quot;: &quot;abc&quot;, &quot;tms&quot;: false}\n",
              "            ).addTo(map_0cfa8979b606accacf371bf36917aac9);\n",
              "        \n",
              "    \n",
              "            var marker_cb031bceab300c40e58de40bf233c404 = L.marker(\n",
              "                [-38.950763, -68.030233],\n",
              "                {}\n",
              "            ).addTo(map_0cfa8979b606accacf371bf36917aac9);\n",
              "        \n",
              "    \n",
              "        var popup_4d9626e4e2527c06c02df582b8efb20a = L.popup({&quot;maxWidth&quot;: &quot;100%&quot;});\n",
              "\n",
              "        \n",
              "            \n",
              "                var html_ccbc229075fbb68bcf4543508413cba2 = $(`&lt;div id=&quot;html_ccbc229075fbb68bcf4543508413cba2&quot; style=&quot;width: 100.0%; height: 100.0%;&quot;&gt;CLUB SAPERE&lt;/div&gt;`)[0];\n",
              "                popup_4d9626e4e2527c06c02df582b8efb20a.setContent(html_ccbc229075fbb68bcf4543508413cba2);\n",
              "            \n",
              "        \n",
              "\n",
              "        marker_cb031bceab300c40e58de40bf233c404.bindPopup(popup_4d9626e4e2527c06c02df582b8efb20a)\n",
              "        ;\n",
              "\n",
              "        \n",
              "    \n",
              "    \n",
              "            var marker_bc6e9fad3c1bedd4b9020b99bfa355a0 = L.marker(\n",
              "                [-38.973181, -68.059914],\n",
              "                {}\n",
              "            ).addTo(map_0cfa8979b606accacf371bf36917aac9);\n",
              "        \n",
              "    \n",
              "        var popup_5ad7690bab48f435131f559cf7524db6 = L.popup({&quot;maxWidth&quot;: &quot;100%&quot;});\n",
              "\n",
              "        \n",
              "            \n",
              "                var html_0f38c193e65b43575762ae0f5004b55c = $(`&lt;div id=&quot;html_0f38c193e65b43575762ae0f5004b55c&quot; style=&quot;width: 100.0%; height: 100.0%;&quot;&gt;FUZION PADDLE&lt;/div&gt;`)[0];\n",
              "                popup_5ad7690bab48f435131f559cf7524db6.setContent(html_0f38c193e65b43575762ae0f5004b55c);\n",
              "            \n",
              "        \n",
              "\n",
              "        marker_bc6e9fad3c1bedd4b9020b99bfa355a0.bindPopup(popup_5ad7690bab48f435131f559cf7524db6)\n",
              "        ;\n",
              "\n",
              "        \n",
              "    \n",
              "    \n",
              "            var marker_64371b9d8dc518813badc68b040b8407 = L.marker(\n",
              "                [-38.948714, -68.106273],\n",
              "                {}\n",
              "            ).addTo(map_0cfa8979b606accacf371bf36917aac9);\n",
              "        \n",
              "    \n",
              "        var popup_615eb5702434362c13f2965af337ac12 = L.popup({&quot;maxWidth&quot;: &quot;100%&quot;});\n",
              "\n",
              "        \n",
              "            \n",
              "                var html_031d5ea63a80157251ed41e9ab027c7f = $(`&lt;div id=&quot;html_031d5ea63a80157251ed41e9ab027c7f&quot; style=&quot;width: 100.0%; height: 100.0%;&quot;&gt;C.E.P.M Nº47&lt;/div&gt;`)[0];\n",
              "                popup_615eb5702434362c13f2965af337ac12.setContent(html_031d5ea63a80157251ed41e9ab027c7f);\n",
              "            \n",
              "        \n",
              "\n",
              "        marker_64371b9d8dc518813badc68b040b8407.bindPopup(popup_615eb5702434362c13f2965af337ac12)\n",
              "        ;\n",
              "\n",
              "        \n",
              "    \n",
              "    \n",
              "            var marker_8d73cbd59c04b9f0fac5e2f5d26a26ca = L.marker(\n",
              "                [-38.941866, -68.063388],\n",
              "                {}\n",
              "            ).addTo(map_0cfa8979b606accacf371bf36917aac9);\n",
              "        \n",
              "    \n",
              "        var popup_a3aec4ab856eeb168b2b667ac9192fbb = L.popup({&quot;maxWidth&quot;: &quot;100%&quot;});\n",
              "\n",
              "        \n",
              "            \n",
              "                var html_8113d90964d8608ce588e4c576ddab03 = $(`&lt;div id=&quot;html_8113d90964d8608ce588e4c576ddab03&quot; style=&quot;width: 100.0%; height: 100.0%;&quot;&gt;ALTO COMAHUE SHOPPING&lt;/div&gt;`)[0];\n",
              "                popup_a3aec4ab856eeb168b2b667ac9192fbb.setContent(html_8113d90964d8608ce588e4c576ddab03);\n",
              "            \n",
              "        \n",
              "\n",
              "        marker_8d73cbd59c04b9f0fac5e2f5d26a26ca.bindPopup(popup_a3aec4ab856eeb168b2b667ac9192fbb)\n",
              "        ;\n",
              "\n",
              "        \n",
              "    \n",
              "    \n",
              "            var marker_f1f3c0d5d06fc57b5aeffe7dc4589ea4 = L.marker(\n",
              "                [-38.9375346, -68.0698444],\n",
              "                {}\n",
              "            ).addTo(map_0cfa8979b606accacf371bf36917aac9);\n",
              "        \n",
              "    \n",
              "        var popup_d5822bb2bb55d22da6cbbac5546636c6 = L.popup({&quot;maxWidth&quot;: &quot;100%&quot;});\n",
              "\n",
              "        \n",
              "            \n",
              "                var html_6ccd0cb351b68587d46d23914c43d63d = $(`&lt;div id=&quot;html_6ccd0cb351b68587d46d23914c43d63d&quot; style=&quot;width: 100.0%; height: 100.0%;&quot;&gt;Barrio Altabarda&lt;/div&gt;`)[0];\n",
              "                popup_d5822bb2bb55d22da6cbbac5546636c6.setContent(html_6ccd0cb351b68587d46d23914c43d63d);\n",
              "            \n",
              "        \n",
              "\n",
              "        marker_f1f3c0d5d06fc57b5aeffe7dc4589ea4.bindPopup(popup_d5822bb2bb55d22da6cbbac5546636c6)\n",
              "        ;\n",
              "\n",
              "        \n",
              "    \n",
              "    \n",
              "            var marker_fbb95f2bca344656b897b93f6037c846 = L.marker(\n",
              "                [-38.934292, -68.117583],\n",
              "                {}\n",
              "            ).addTo(map_0cfa8979b606accacf371bf36917aac9);\n",
              "        \n",
              "    \n",
              "        var popup_2e198ba4a00b846358717786a723aeba = L.popup({&quot;maxWidth&quot;: &quot;100%&quot;});\n",
              "\n",
              "        \n",
              "            \n",
              "                var html_bcd11c7927d901fbeb12c03d1d27817e = $(`&lt;div id=&quot;html_bcd11c7927d901fbeb12c03d1d27817e&quot; style=&quot;width: 100.0%; height: 100.0%;&quot;&gt;DELG. MUN. ALTO GODOY&lt;/div&gt;`)[0];\n",
              "                popup_2e198ba4a00b846358717786a723aeba.setContent(html_bcd11c7927d901fbeb12c03d1d27817e);\n",
              "            \n",
              "        \n",
              "\n",
              "        marker_fbb95f2bca344656b897b93f6037c846.bindPopup(popup_2e198ba4a00b846358717786a723aeba)\n",
              "        ;\n",
              "\n",
              "        \n",
              "    \n",
              "    \n",
              "            var marker_8d8bc211d08bde18764bd313f329d692 = L.marker(\n",
              "                [-38.926023, -68.070947],\n",
              "                {}\n",
              "            ).addTo(map_0cfa8979b606accacf371bf36917aac9);\n",
              "        \n",
              "    \n",
              "        var popup_5a51295f5eed6f5ba9a701970e9acbbf = L.popup({&quot;maxWidth&quot;: &quot;100%&quot;});\n",
              "\n",
              "        \n",
              "            \n",
              "                var html_9854320b12404b645ce946762ee102ca = $(`&lt;div id=&quot;html_9854320b12404b645ce946762ee102ca&quot; style=&quot;width: 100.0%; height: 100.0%;&quot;&gt;COMISIÓN VEC. Bº 14 DE OCTUBRE- COPOL&lt;/div&gt;`)[0];\n",
              "                popup_5a51295f5eed6f5ba9a701970e9acbbf.setContent(html_9854320b12404b645ce946762ee102ca);\n",
              "            \n",
              "        \n",
              "\n",
              "        marker_8d8bc211d08bde18764bd313f329d692.bindPopup(popup_5a51295f5eed6f5ba9a701970e9acbbf)\n",
              "        ;\n",
              "\n",
              "        \n",
              "    \n",
              "    \n",
              "            var marker_1aac723f7cbcc431a073a4c520010759 = L.marker(\n",
              "                [-38.94882, -68.09612],\n",
              "                {}\n",
              "            ).addTo(map_0cfa8979b606accacf371bf36917aac9);\n",
              "        \n",
              "    \n",
              "        var popup_64df6889d45bad8f203c92bd7ccf6ae8 = L.popup({&quot;maxWidth&quot;: &quot;100%&quot;});\n",
              "\n",
              "        \n",
              "            \n",
              "                var html_af9f9788c3a02ab4fc6087d35c4c4765 = $(`&lt;div id=&quot;html_af9f9788c3a02ab4fc6087d35c4c4765&quot; style=&quot;width: 100.0%; height: 100.0%;&quot;&gt;COMISIÓN VEC. Bº EL PROGRESO&lt;/div&gt;`)[0];\n",
              "                popup_64df6889d45bad8f203c92bd7ccf6ae8.setContent(html_af9f9788c3a02ab4fc6087d35c4c4765);\n",
              "            \n",
              "        \n",
              "\n",
              "        marker_1aac723f7cbcc431a073a4c520010759.bindPopup(popup_64df6889d45bad8f203c92bd7ccf6ae8)\n",
              "        ;\n",
              "\n",
              "        \n",
              "    \n",
              "    \n",
              "            var marker_eb37257b0785733153caf589975b96e2 = L.marker(\n",
              "                [-38.947237, -68.092334],\n",
              "                {}\n",
              "            ).addTo(map_0cfa8979b606accacf371bf36917aac9);\n",
              "        \n",
              "    \n",
              "        var popup_b47150ad1e5ab3ea62a3831d6aa695b1 = L.popup({&quot;maxWidth&quot;: &quot;100%&quot;});\n",
              "\n",
              "        \n",
              "            \n",
              "                var html_573dd349f58a6332c3258849dd4d5ae7 = $(`&lt;div id=&quot;html_573dd349f58a6332c3258849dd4d5ae7&quot; style=&quot;width: 100.0%; height: 100.0%;&quot;&gt;DELG. MUN. PROGRESO&lt;/div&gt;`)[0];\n",
              "                popup_b47150ad1e5ab3ea62a3831d6aa695b1.setContent(html_573dd349f58a6332c3258849dd4d5ae7);\n",
              "            \n",
              "        \n",
              "\n",
              "        marker_eb37257b0785733153caf589975b96e2.bindPopup(popup_b47150ad1e5ab3ea62a3831d6aa695b1)\n",
              "        ;\n",
              "\n",
              "        \n",
              "    \n",
              "    \n",
              "            var layer_control_4bc0c479cdeebb26365ae5bf90971e70 = {\n",
              "                base_layers : {\n",
              "                    &quot;openstreetmap&quot; : tile_layer_f1c8aa04ff1e2d9c66c02c0d3cfbd28b,\n",
              "                },\n",
              "                overlays :  {\n",
              "                },\n",
              "            };\n",
              "            L.control.layers(\n",
              "                layer_control_4bc0c479cdeebb26365ae5bf90971e70.base_layers,\n",
              "                layer_control_4bc0c479cdeebb26365ae5bf90971e70.overlays,\n",
              "                {&quot;autoZIndex&quot;: true, &quot;collapsed&quot;: true, &quot;position&quot;: &quot;topright&quot;}\n",
              "            ).addTo(map_0cfa8979b606accacf371bf36917aac9);\n",
              "        \n",
              "    \n",
              "            var poly_line_c388a49e64d5faae4677ed18255b5485 = L.polyline(\n",
              "                [[-38.936416, -68.059058], [-38.979781, -68.059367]],\n",
              "                {&quot;bubblingMouseEvents&quot;: true, &quot;color&quot;: &quot;red&quot;, &quot;dashArray&quot;: null, &quot;dashOffset&quot;: null, &quot;fill&quot;: false, &quot;fillColor&quot;: &quot;red&quot;, &quot;fillOpacity&quot;: 0.2, &quot;fillRule&quot;: &quot;evenodd&quot;, &quot;lineCap&quot;: &quot;round&quot;, &quot;lineJoin&quot;: &quot;round&quot;, &quot;noClip&quot;: false, &quot;opacity&quot;: 1, &quot;smoothFactor&quot;: 1.0, &quot;stroke&quot;: true, &quot;weight&quot;: 2.5}\n",
              "            ).addTo(map_0cfa8979b606accacf371bf36917aac9);\n",
              "        \n",
              "    \n",
              "            var poly_line_0036530314067b47dcf6dd6c3eba1461 = L.polyline(\n",
              "                [[-38.954645, -68.132429], [-38.955469, -68.017609]],\n",
              "                {&quot;bubblingMouseEvents&quot;: true, &quot;color&quot;: &quot;blue&quot;, &quot;dashArray&quot;: null, &quot;dashOffset&quot;: null, &quot;fill&quot;: false, &quot;fillColor&quot;: &quot;blue&quot;, &quot;fillOpacity&quot;: 0.2, &quot;fillRule&quot;: &quot;evenodd&quot;, &quot;lineCap&quot;: &quot;round&quot;, &quot;lineJoin&quot;: &quot;round&quot;, &quot;noClip&quot;: false, &quot;opacity&quot;: 1, &quot;smoothFactor&quot;: 1.0, &quot;stroke&quot;: true, &quot;weight&quot;: 2.5}\n",
              "            ).addTo(map_0cfa8979b606accacf371bf36917aac9);\n",
              "        \n",
              "&lt;/script&gt;\n",
              "&lt;/html&gt;\" style=\"position:absolute;width:100%;height:100%;left:0;top:0;border:none !important;\" allowfullscreen webkitallowfullscreen mozallowfullscreen></iframe></div></div>"
            ]
          },
          "metadata": {},
          "execution_count": 41
        }
      ]
    },
    {
      "cell_type": "code",
      "source": [
        "nor_oeste = df_acc.loc[(df_acc['lat']>cen_lat )& (df_acc['lon']<cen_lon)]\n",
        "nor_este = df_acc.loc[(df_acc['lat']<cen_lat) & (df_acc['lon']<cen_lon)]\n",
        "\n",
        "sur_oeste = df_acc.loc[(df_acc['lat']>cen_lat) & (df_acc['lon']>cen_lon)]\n",
        "sur_este = df_acc.loc[(df_acc['lat']<cen_lat )& (df_acc['lon']>cen_lon)]"
      ],
      "metadata": {
        "id": "eNbP0Q_T9IHZ"
      },
      "execution_count": null,
      "outputs": []
    },
    {
      "cell_type": "code",
      "source": [
        "nor_oeste.shape, nor_este.shape, sur_oeste.shape, sur_este.shape"
      ],
      "metadata": {
        "colab": {
          "base_uri": "https://localhost:8080/"
        },
        "id": "pfywIlSL9kdt",
        "outputId": "a43e4801-8f29-44a2-bf3a-c5369a63f936"
      },
      "execution_count": null,
      "outputs": [
        {
          "output_type": "execute_result",
          "data": {
            "text/plain": [
              "((7, 21), (1, 21), (1, 21), (0, 21))"
            ]
          },
          "metadata": {},
          "execution_count": 43
        }
      ]
    },
    {
      "cell_type": "markdown",
      "source": [
        "Según la localización central de la ciudad de Neuquén, hay 7 ecopuntos en la zona noroeste, 1 en la zona noreste, uno en el suroeste, y ninguno en el sureste, abarcando áreas de ... a ... km2"
      ],
      "metadata": {
        "id": "6o07EFsn-vmf"
      }
    },
    {
      "cell_type": "markdown",
      "source": [
        "Si establecemos que hasta 500 metros una persona podría acercarse al ecopunto caminando.."
      ],
      "metadata": {
        "id": "C_A2JWc2DCzc"
      }
    },
    {
      "cell_type": "code",
      "source": [
        "map_ub_dist = dibjuar_mapa_con_dist(df_acc.sort_values(by=['Estado actual']), 'Estado actual', circle=True)\n",
        "folium.PolyLine([(-38.936416, -68.059058), (-38.979781, -68.059367)], color=\"red\", weight=2.5, opacity=1).add_to(map_ub_dist)\n",
        "folium.PolyLine([(-38.954645, -68.132429), (-38.955469, -68.017609)], color=\"blue\", weight=2.5, opacity=1).add_to(map_ub_dist)"
      ],
      "metadata": {
        "colab": {
          "base_uri": "https://localhost:8080/"
        },
        "id": "TVO1St1PAhA-",
        "outputId": "c5d5817e-cb33-41f2-9e66-74a196cbdaaf"
      },
      "execution_count": null,
      "outputs": [
        {
          "output_type": "execute_result",
          "data": {
            "text/plain": [
              "<folium.vector_layers.PolyLine at 0x7966e234f160>"
            ]
          },
          "metadata": {},
          "execution_count": 44
        }
      ]
    },
    {
      "cell_type": "code",
      "source": [
        "map_ub_dist"
      ],
      "metadata": {
        "colab": {
          "base_uri": "https://localhost:8080/",
          "height": 787
        },
        "id": "HxDUvv2EDQK2",
        "outputId": "b9367ccf-a020-47ec-8d50-43ce4b29dfa1"
      },
      "execution_count": null,
      "outputs": [
        {
          "output_type": "execute_result",
          "data": {
            "text/plain": [
              "<folium.folium.Map at 0x7966e234cdf0>"
            ],
            "text/html": [
              "<div style=\"width:100%;\"><div style=\"position:relative;width:100%;height:0;padding-bottom:60%;\"><span style=\"color:#565656\">Make this Notebook Trusted to load map: File -> Trust Notebook</span><iframe srcdoc=\"&lt;!DOCTYPE html&gt;\n",
              "&lt;html&gt;\n",
              "&lt;head&gt;\n",
              "    \n",
              "    &lt;meta http-equiv=&quot;content-type&quot; content=&quot;text/html; charset=UTF-8&quot; /&gt;\n",
              "    \n",
              "        &lt;script&gt;\n",
              "            L_NO_TOUCH = false;\n",
              "            L_DISABLE_3D = false;\n",
              "        &lt;/script&gt;\n",
              "    \n",
              "    &lt;style&gt;html, body {width: 100%;height: 100%;margin: 0;padding: 0;}&lt;/style&gt;\n",
              "    &lt;style&gt;#map {position:absolute;top:0;bottom:0;right:0;left:0;}&lt;/style&gt;\n",
              "    &lt;script src=&quot;https://cdn.jsdelivr.net/npm/leaflet@1.9.3/dist/leaflet.js&quot;&gt;&lt;/script&gt;\n",
              "    &lt;script src=&quot;https://code.jquery.com/jquery-1.12.4.min.js&quot;&gt;&lt;/script&gt;\n",
              "    &lt;script src=&quot;https://cdn.jsdelivr.net/npm/bootstrap@5.2.2/dist/js/bootstrap.bundle.min.js&quot;&gt;&lt;/script&gt;\n",
              "    &lt;script src=&quot;https://cdnjs.cloudflare.com/ajax/libs/Leaflet.awesome-markers/2.0.2/leaflet.awesome-markers.js&quot;&gt;&lt;/script&gt;\n",
              "    &lt;link rel=&quot;stylesheet&quot; href=&quot;https://cdn.jsdelivr.net/npm/leaflet@1.9.3/dist/leaflet.css&quot;/&gt;\n",
              "    &lt;link rel=&quot;stylesheet&quot; href=&quot;https://cdn.jsdelivr.net/npm/bootstrap@5.2.2/dist/css/bootstrap.min.css&quot;/&gt;\n",
              "    &lt;link rel=&quot;stylesheet&quot; href=&quot;https://netdna.bootstrapcdn.com/bootstrap/3.0.0/css/bootstrap.min.css&quot;/&gt;\n",
              "    &lt;link rel=&quot;stylesheet&quot; href=&quot;https://cdn.jsdelivr.net/npm/@fortawesome/fontawesome-free@6.2.0/css/all.min.css&quot;/&gt;\n",
              "    &lt;link rel=&quot;stylesheet&quot; href=&quot;https://cdnjs.cloudflare.com/ajax/libs/Leaflet.awesome-markers/2.0.2/leaflet.awesome-markers.css&quot;/&gt;\n",
              "    &lt;link rel=&quot;stylesheet&quot; href=&quot;https://cdn.jsdelivr.net/gh/python-visualization/folium/folium/templates/leaflet.awesome.rotate.min.css&quot;/&gt;\n",
              "    \n",
              "            &lt;meta name=&quot;viewport&quot; content=&quot;width=device-width,\n",
              "                initial-scale=1.0, maximum-scale=1.0, user-scalable=no&quot; /&gt;\n",
              "            &lt;style&gt;\n",
              "                #map_42e3c7b2955d23a36850c71287fe8af7 {\n",
              "                    position: relative;\n",
              "                    width: 100.0%;\n",
              "                    height: 100.0%;\n",
              "                    left: 0.0%;\n",
              "                    top: 0.0%;\n",
              "                }\n",
              "                .leaflet-container { font-size: 1rem; }\n",
              "            &lt;/style&gt;\n",
              "        \n",
              "&lt;/head&gt;\n",
              "&lt;body&gt;\n",
              "    \n",
              "    \n",
              "            &lt;div class=&quot;folium-map&quot; id=&quot;map_42e3c7b2955d23a36850c71287fe8af7&quot; &gt;&lt;/div&gt;\n",
              "        \n",
              "&lt;/body&gt;\n",
              "&lt;script&gt;\n",
              "    \n",
              "    \n",
              "            var map_42e3c7b2955d23a36850c71287fe8af7 = L.map(\n",
              "                &quot;map_42e3c7b2955d23a36850c71287fe8af7&quot;,\n",
              "                {\n",
              "                    center: [-38.951678, -68.059189],\n",
              "                    crs: L.CRS.EPSG3857,\n",
              "                    zoom: 13,\n",
              "                    zoomControl: true,\n",
              "                    preferCanvas: false,\n",
              "                }\n",
              "            );\n",
              "\n",
              "            \n",
              "\n",
              "        \n",
              "    \n",
              "            var tile_layer_15147b78e70ccb710cf2ee926317ea3d = L.tileLayer(\n",
              "                &quot;https://{s}.tile.openstreetmap.org/{z}/{x}/{y}.png&quot;,\n",
              "                {&quot;attribution&quot;: &quot;Data by \\u0026copy; \\u003ca target=\\&quot;_blank\\&quot; href=\\&quot;http://openstreetmap.org\\&quot;\\u003eOpenStreetMap\\u003c/a\\u003e, under \\u003ca target=\\&quot;_blank\\&quot; href=\\&quot;http://www.openstreetmap.org/copyright\\&quot;\\u003eODbL\\u003c/a\\u003e.&quot;, &quot;detectRetina&quot;: false, &quot;maxNativeZoom&quot;: 18, &quot;maxZoom&quot;: 18, &quot;minZoom&quot;: 0, &quot;noWrap&quot;: false, &quot;opacity&quot;: 1, &quot;subdomains&quot;: &quot;abc&quot;, &quot;tms&quot;: false}\n",
              "            ).addTo(map_42e3c7b2955d23a36850c71287fe8af7);\n",
              "        \n",
              "    \n",
              "            var marker_5373c009a59108a3bc86de68a2e974c4 = L.marker(\n",
              "                [-38.950763, -68.030233],\n",
              "                {}\n",
              "            ).addTo(map_42e3c7b2955d23a36850c71287fe8af7);\n",
              "        \n",
              "    \n",
              "        var popup_422c9c908f3115871b886446526636f0 = L.popup({&quot;maxWidth&quot;: &quot;100%&quot;});\n",
              "\n",
              "        \n",
              "            \n",
              "                var html_51fa5a7244543e2a449c32625d2cfd27 = $(`&lt;div id=&quot;html_51fa5a7244543e2a449c32625d2cfd27&quot; style=&quot;width: 100.0%; height: 100.0%;&quot;&gt;CLUB SAPERE&lt;/div&gt;`)[0];\n",
              "                popup_422c9c908f3115871b886446526636f0.setContent(html_51fa5a7244543e2a449c32625d2cfd27);\n",
              "            \n",
              "        \n",
              "\n",
              "        marker_5373c009a59108a3bc86de68a2e974c4.bindPopup(popup_422c9c908f3115871b886446526636f0)\n",
              "        ;\n",
              "\n",
              "        \n",
              "    \n",
              "    \n",
              "            var marker_689224597305ba17f2c0dd5ecc355e76 = L.marker(\n",
              "                [-38.973181, -68.059914],\n",
              "                {}\n",
              "            ).addTo(map_42e3c7b2955d23a36850c71287fe8af7);\n",
              "        \n",
              "    \n",
              "        var popup_b5b13431b6e582d8c1e9192f4e266e60 = L.popup({&quot;maxWidth&quot;: &quot;100%&quot;});\n",
              "\n",
              "        \n",
              "            \n",
              "                var html_1814408bac25bd1e3f664f487619a3e6 = $(`&lt;div id=&quot;html_1814408bac25bd1e3f664f487619a3e6&quot; style=&quot;width: 100.0%; height: 100.0%;&quot;&gt;FUZION PADDLE&lt;/div&gt;`)[0];\n",
              "                popup_b5b13431b6e582d8c1e9192f4e266e60.setContent(html_1814408bac25bd1e3f664f487619a3e6);\n",
              "            \n",
              "        \n",
              "\n",
              "        marker_689224597305ba17f2c0dd5ecc355e76.bindPopup(popup_b5b13431b6e582d8c1e9192f4e266e60)\n",
              "        ;\n",
              "\n",
              "        \n",
              "    \n",
              "    \n",
              "            var marker_28960a8fb1d344fee8d85f140e40942b = L.marker(\n",
              "                [-38.948714, -68.106273],\n",
              "                {}\n",
              "            ).addTo(map_42e3c7b2955d23a36850c71287fe8af7);\n",
              "        \n",
              "    \n",
              "        var popup_8a48289a0e070a126ec909a33525361b = L.popup({&quot;maxWidth&quot;: &quot;100%&quot;});\n",
              "\n",
              "        \n",
              "            \n",
              "                var html_e0d4f9271d8e7cb4fc6591d4721154cc = $(`&lt;div id=&quot;html_e0d4f9271d8e7cb4fc6591d4721154cc&quot; style=&quot;width: 100.0%; height: 100.0%;&quot;&gt;C.E.P.M Nº47&lt;/div&gt;`)[0];\n",
              "                popup_8a48289a0e070a126ec909a33525361b.setContent(html_e0d4f9271d8e7cb4fc6591d4721154cc);\n",
              "            \n",
              "        \n",
              "\n",
              "        marker_28960a8fb1d344fee8d85f140e40942b.bindPopup(popup_8a48289a0e070a126ec909a33525361b)\n",
              "        ;\n",
              "\n",
              "        \n",
              "    \n",
              "    \n",
              "            var marker_a9763785aea5010a8c23d765eeb41d96 = L.marker(\n",
              "                [-38.941866, -68.063388],\n",
              "                {}\n",
              "            ).addTo(map_42e3c7b2955d23a36850c71287fe8af7);\n",
              "        \n",
              "    \n",
              "        var popup_37377ec49a9edcb438f1e2ef0299f6f2 = L.popup({&quot;maxWidth&quot;: &quot;100%&quot;});\n",
              "\n",
              "        \n",
              "            \n",
              "                var html_8c53088bea985a99686783ba9eb54f41 = $(`&lt;div id=&quot;html_8c53088bea985a99686783ba9eb54f41&quot; style=&quot;width: 100.0%; height: 100.0%;&quot;&gt;ALTO COMAHUE SHOPPING&lt;/div&gt;`)[0];\n",
              "                popup_37377ec49a9edcb438f1e2ef0299f6f2.setContent(html_8c53088bea985a99686783ba9eb54f41);\n",
              "            \n",
              "        \n",
              "\n",
              "        marker_a9763785aea5010a8c23d765eeb41d96.bindPopup(popup_37377ec49a9edcb438f1e2ef0299f6f2)\n",
              "        ;\n",
              "\n",
              "        \n",
              "    \n",
              "    \n",
              "            var marker_475fe210d88869771d8dbbe2a2f325db = L.marker(\n",
              "                [-38.9375346, -68.0698444],\n",
              "                {}\n",
              "            ).addTo(map_42e3c7b2955d23a36850c71287fe8af7);\n",
              "        \n",
              "    \n",
              "        var popup_eda4a0804551149daa367b74cefc3253 = L.popup({&quot;maxWidth&quot;: &quot;100%&quot;});\n",
              "\n",
              "        \n",
              "            \n",
              "                var html_254aa13027a05d0b9c715c51c15ca016 = $(`&lt;div id=&quot;html_254aa13027a05d0b9c715c51c15ca016&quot; style=&quot;width: 100.0%; height: 100.0%;&quot;&gt;Barrio Altabarda&lt;/div&gt;`)[0];\n",
              "                popup_eda4a0804551149daa367b74cefc3253.setContent(html_254aa13027a05d0b9c715c51c15ca016);\n",
              "            \n",
              "        \n",
              "\n",
              "        marker_475fe210d88869771d8dbbe2a2f325db.bindPopup(popup_eda4a0804551149daa367b74cefc3253)\n",
              "        ;\n",
              "\n",
              "        \n",
              "    \n",
              "    \n",
              "            var marker_d290d6776f36de99e107e60dd137560f = L.marker(\n",
              "                [-38.934292, -68.117583],\n",
              "                {}\n",
              "            ).addTo(map_42e3c7b2955d23a36850c71287fe8af7);\n",
              "        \n",
              "    \n",
              "        var popup_8e42d229709b2f11cfa44707c119009f = L.popup({&quot;maxWidth&quot;: &quot;100%&quot;});\n",
              "\n",
              "        \n",
              "            \n",
              "                var html_dcfcebf7a705947b0ac79479c4f57d9b = $(`&lt;div id=&quot;html_dcfcebf7a705947b0ac79479c4f57d9b&quot; style=&quot;width: 100.0%; height: 100.0%;&quot;&gt;DELG. MUN. ALTO GODOY&lt;/div&gt;`)[0];\n",
              "                popup_8e42d229709b2f11cfa44707c119009f.setContent(html_dcfcebf7a705947b0ac79479c4f57d9b);\n",
              "            \n",
              "        \n",
              "\n",
              "        marker_d290d6776f36de99e107e60dd137560f.bindPopup(popup_8e42d229709b2f11cfa44707c119009f)\n",
              "        ;\n",
              "\n",
              "        \n",
              "    \n",
              "    \n",
              "            var marker_4f2a8ab1e4170372283a89c135f6257d = L.marker(\n",
              "                [-38.926023, -68.070947],\n",
              "                {}\n",
              "            ).addTo(map_42e3c7b2955d23a36850c71287fe8af7);\n",
              "        \n",
              "    \n",
              "        var popup_011eb97c67f022edc089cd6a63f60b01 = L.popup({&quot;maxWidth&quot;: &quot;100%&quot;});\n",
              "\n",
              "        \n",
              "            \n",
              "                var html_dd7bbb80426875f6ee4f91238a191483 = $(`&lt;div id=&quot;html_dd7bbb80426875f6ee4f91238a191483&quot; style=&quot;width: 100.0%; height: 100.0%;&quot;&gt;COMISIÓN VEC. Bº 14 DE OCTUBRE- COPOL&lt;/div&gt;`)[0];\n",
              "                popup_011eb97c67f022edc089cd6a63f60b01.setContent(html_dd7bbb80426875f6ee4f91238a191483);\n",
              "            \n",
              "        \n",
              "\n",
              "        marker_4f2a8ab1e4170372283a89c135f6257d.bindPopup(popup_011eb97c67f022edc089cd6a63f60b01)\n",
              "        ;\n",
              "\n",
              "        \n",
              "    \n",
              "    \n",
              "            var marker_d260d8e4efa46a332a7b0b0a1735c077 = L.marker(\n",
              "                [-38.94882, -68.09612],\n",
              "                {}\n",
              "            ).addTo(map_42e3c7b2955d23a36850c71287fe8af7);\n",
              "        \n",
              "    \n",
              "        var popup_88dfb0dbee4bdc63927ccbe3f7daa38c = L.popup({&quot;maxWidth&quot;: &quot;100%&quot;});\n",
              "\n",
              "        \n",
              "            \n",
              "                var html_e18bf2ec84775a73ffc21df6fd373ab7 = $(`&lt;div id=&quot;html_e18bf2ec84775a73ffc21df6fd373ab7&quot; style=&quot;width: 100.0%; height: 100.0%;&quot;&gt;COMISIÓN VEC. Bº EL PROGRESO&lt;/div&gt;`)[0];\n",
              "                popup_88dfb0dbee4bdc63927ccbe3f7daa38c.setContent(html_e18bf2ec84775a73ffc21df6fd373ab7);\n",
              "            \n",
              "        \n",
              "\n",
              "        marker_d260d8e4efa46a332a7b0b0a1735c077.bindPopup(popup_88dfb0dbee4bdc63927ccbe3f7daa38c)\n",
              "        ;\n",
              "\n",
              "        \n",
              "    \n",
              "    \n",
              "            var marker_1cbf730ceedb5137d8af8c8f1e55f58c = L.marker(\n",
              "                [-38.947237, -68.092334],\n",
              "                {}\n",
              "            ).addTo(map_42e3c7b2955d23a36850c71287fe8af7);\n",
              "        \n",
              "    \n",
              "        var popup_8f84a8d6a0e9f0e91104c5de57ab7d31 = L.popup({&quot;maxWidth&quot;: &quot;100%&quot;});\n",
              "\n",
              "        \n",
              "            \n",
              "                var html_9dc4c10ca444d32d730cf0dc2f78b261 = $(`&lt;div id=&quot;html_9dc4c10ca444d32d730cf0dc2f78b261&quot; style=&quot;width: 100.0%; height: 100.0%;&quot;&gt;DELG. MUN. PROGRESO&lt;/div&gt;`)[0];\n",
              "                popup_8f84a8d6a0e9f0e91104c5de57ab7d31.setContent(html_9dc4c10ca444d32d730cf0dc2f78b261);\n",
              "            \n",
              "        \n",
              "\n",
              "        marker_1cbf730ceedb5137d8af8c8f1e55f58c.bindPopup(popup_8f84a8d6a0e9f0e91104c5de57ab7d31)\n",
              "        ;\n",
              "\n",
              "        \n",
              "    \n",
              "    \n",
              "            var circle_146db862b6eacf0f88da4af35a07db25 = L.circle(\n",
              "                [-38.950763, -68.030233],\n",
              "                {&quot;bubblingMouseEvents&quot;: true, &quot;color&quot;: &quot;blue&quot;, &quot;dashArray&quot;: null, &quot;dashOffset&quot;: null, &quot;fill&quot;: true, &quot;fillColor&quot;: &quot;blue&quot;, &quot;fillOpacity&quot;: 0.3, &quot;fillRule&quot;: &quot;evenodd&quot;, &quot;lineCap&quot;: &quot;round&quot;, &quot;lineJoin&quot;: &quot;round&quot;, &quot;opacity&quot;: 1.0, &quot;radius&quot;: 500, &quot;stroke&quot;: true, &quot;weight&quot;: 3}\n",
              "            ).addTo(map_42e3c7b2955d23a36850c71287fe8af7);\n",
              "        \n",
              "    \n",
              "        var popup_5352dcf5c442b600135450fe985f0e5a = L.popup({&quot;maxWidth&quot;: &quot;100%&quot;});\n",
              "\n",
              "        \n",
              "            \n",
              "                var html_6c6b5c401240910866e1d20a7ce7f14d = $(`&lt;div id=&quot;html_6c6b5c401240910866e1d20a7ce7f14d&quot; style=&quot;width: 100.0%; height: 100.0%;&quot;&gt;500m&lt;/div&gt;`)[0];\n",
              "                popup_5352dcf5c442b600135450fe985f0e5a.setContent(html_6c6b5c401240910866e1d20a7ce7f14d);\n",
              "            \n",
              "        \n",
              "\n",
              "        circle_146db862b6eacf0f88da4af35a07db25.bindPopup(popup_5352dcf5c442b600135450fe985f0e5a)\n",
              "        ;\n",
              "\n",
              "        \n",
              "    \n",
              "    \n",
              "            var circle_0d316623eebaf44852e0a7778d4de814 = L.circle(\n",
              "                [-38.973181, -68.059914],\n",
              "                {&quot;bubblingMouseEvents&quot;: true, &quot;color&quot;: &quot;blue&quot;, &quot;dashArray&quot;: null, &quot;dashOffset&quot;: null, &quot;fill&quot;: true, &quot;fillColor&quot;: &quot;blue&quot;, &quot;fillOpacity&quot;: 0.3, &quot;fillRule&quot;: &quot;evenodd&quot;, &quot;lineCap&quot;: &quot;round&quot;, &quot;lineJoin&quot;: &quot;round&quot;, &quot;opacity&quot;: 1.0, &quot;radius&quot;: 500, &quot;stroke&quot;: true, &quot;weight&quot;: 3}\n",
              "            ).addTo(map_42e3c7b2955d23a36850c71287fe8af7);\n",
              "        \n",
              "    \n",
              "        var popup_4f001ed6b495c3ffa51267b058c9c17b = L.popup({&quot;maxWidth&quot;: &quot;100%&quot;});\n",
              "\n",
              "        \n",
              "            \n",
              "                var html_2e3377c0100af58f8aef25538fef17b2 = $(`&lt;div id=&quot;html_2e3377c0100af58f8aef25538fef17b2&quot; style=&quot;width: 100.0%; height: 100.0%;&quot;&gt;500m&lt;/div&gt;`)[0];\n",
              "                popup_4f001ed6b495c3ffa51267b058c9c17b.setContent(html_2e3377c0100af58f8aef25538fef17b2);\n",
              "            \n",
              "        \n",
              "\n",
              "        circle_0d316623eebaf44852e0a7778d4de814.bindPopup(popup_4f001ed6b495c3ffa51267b058c9c17b)\n",
              "        ;\n",
              "\n",
              "        \n",
              "    \n",
              "    \n",
              "            var circle_dc8cf78a5665657903cc6ca8b2cb9c48 = L.circle(\n",
              "                [-38.948714, -68.106273],\n",
              "                {&quot;bubblingMouseEvents&quot;: true, &quot;color&quot;: &quot;blue&quot;, &quot;dashArray&quot;: null, &quot;dashOffset&quot;: null, &quot;fill&quot;: true, &quot;fillColor&quot;: &quot;blue&quot;, &quot;fillOpacity&quot;: 0.3, &quot;fillRule&quot;: &quot;evenodd&quot;, &quot;lineCap&quot;: &quot;round&quot;, &quot;lineJoin&quot;: &quot;round&quot;, &quot;opacity&quot;: 1.0, &quot;radius&quot;: 500, &quot;stroke&quot;: true, &quot;weight&quot;: 3}\n",
              "            ).addTo(map_42e3c7b2955d23a36850c71287fe8af7);\n",
              "        \n",
              "    \n",
              "        var popup_de41a20aba387cb0455631a186d8fc9e = L.popup({&quot;maxWidth&quot;: &quot;100%&quot;});\n",
              "\n",
              "        \n",
              "            \n",
              "                var html_d361cf6a11665f74571e2e128f7b24c8 = $(`&lt;div id=&quot;html_d361cf6a11665f74571e2e128f7b24c8&quot; style=&quot;width: 100.0%; height: 100.0%;&quot;&gt;500m&lt;/div&gt;`)[0];\n",
              "                popup_de41a20aba387cb0455631a186d8fc9e.setContent(html_d361cf6a11665f74571e2e128f7b24c8);\n",
              "            \n",
              "        \n",
              "\n",
              "        circle_dc8cf78a5665657903cc6ca8b2cb9c48.bindPopup(popup_de41a20aba387cb0455631a186d8fc9e)\n",
              "        ;\n",
              "\n",
              "        \n",
              "    \n",
              "    \n",
              "            var circle_84564e03ad22264bfe7511c616bfe282 = L.circle(\n",
              "                [-38.941866, -68.063388],\n",
              "                {&quot;bubblingMouseEvents&quot;: true, &quot;color&quot;: &quot;blue&quot;, &quot;dashArray&quot;: null, &quot;dashOffset&quot;: null, &quot;fill&quot;: true, &quot;fillColor&quot;: &quot;blue&quot;, &quot;fillOpacity&quot;: 0.3, &quot;fillRule&quot;: &quot;evenodd&quot;, &quot;lineCap&quot;: &quot;round&quot;, &quot;lineJoin&quot;: &quot;round&quot;, &quot;opacity&quot;: 1.0, &quot;radius&quot;: 500, &quot;stroke&quot;: true, &quot;weight&quot;: 3}\n",
              "            ).addTo(map_42e3c7b2955d23a36850c71287fe8af7);\n",
              "        \n",
              "    \n",
              "        var popup_0ae92da0bbe74fb3c22e29cbd2a7875c = L.popup({&quot;maxWidth&quot;: &quot;100%&quot;});\n",
              "\n",
              "        \n",
              "            \n",
              "                var html_cfa30a41e0b4330542e061a2c8329e86 = $(`&lt;div id=&quot;html_cfa30a41e0b4330542e061a2c8329e86&quot; style=&quot;width: 100.0%; height: 100.0%;&quot;&gt;500m&lt;/div&gt;`)[0];\n",
              "                popup_0ae92da0bbe74fb3c22e29cbd2a7875c.setContent(html_cfa30a41e0b4330542e061a2c8329e86);\n",
              "            \n",
              "        \n",
              "\n",
              "        circle_84564e03ad22264bfe7511c616bfe282.bindPopup(popup_0ae92da0bbe74fb3c22e29cbd2a7875c)\n",
              "        ;\n",
              "\n",
              "        \n",
              "    \n",
              "    \n",
              "            var circle_a0ec3f82891a38d4039c81a822cc418f = L.circle(\n",
              "                [-38.9375346, -68.0698444],\n",
              "                {&quot;bubblingMouseEvents&quot;: true, &quot;color&quot;: &quot;blue&quot;, &quot;dashArray&quot;: null, &quot;dashOffset&quot;: null, &quot;fill&quot;: true, &quot;fillColor&quot;: &quot;blue&quot;, &quot;fillOpacity&quot;: 0.3, &quot;fillRule&quot;: &quot;evenodd&quot;, &quot;lineCap&quot;: &quot;round&quot;, &quot;lineJoin&quot;: &quot;round&quot;, &quot;opacity&quot;: 1.0, &quot;radius&quot;: 500, &quot;stroke&quot;: true, &quot;weight&quot;: 3}\n",
              "            ).addTo(map_42e3c7b2955d23a36850c71287fe8af7);\n",
              "        \n",
              "    \n",
              "        var popup_049cb16cfda891583acd50a9b7cb3a42 = L.popup({&quot;maxWidth&quot;: &quot;100%&quot;});\n",
              "\n",
              "        \n",
              "            \n",
              "                var html_19d6f3c756eaed1a7d56ada4426c14fb = $(`&lt;div id=&quot;html_19d6f3c756eaed1a7d56ada4426c14fb&quot; style=&quot;width: 100.0%; height: 100.0%;&quot;&gt;500m&lt;/div&gt;`)[0];\n",
              "                popup_049cb16cfda891583acd50a9b7cb3a42.setContent(html_19d6f3c756eaed1a7d56ada4426c14fb);\n",
              "            \n",
              "        \n",
              "\n",
              "        circle_a0ec3f82891a38d4039c81a822cc418f.bindPopup(popup_049cb16cfda891583acd50a9b7cb3a42)\n",
              "        ;\n",
              "\n",
              "        \n",
              "    \n",
              "    \n",
              "            var circle_40ae79a7734b2088ce6e92f9e99ef7e3 = L.circle(\n",
              "                [-38.934292, -68.117583],\n",
              "                {&quot;bubblingMouseEvents&quot;: true, &quot;color&quot;: &quot;blue&quot;, &quot;dashArray&quot;: null, &quot;dashOffset&quot;: null, &quot;fill&quot;: true, &quot;fillColor&quot;: &quot;blue&quot;, &quot;fillOpacity&quot;: 0.3, &quot;fillRule&quot;: &quot;evenodd&quot;, &quot;lineCap&quot;: &quot;round&quot;, &quot;lineJoin&quot;: &quot;round&quot;, &quot;opacity&quot;: 1.0, &quot;radius&quot;: 500, &quot;stroke&quot;: true, &quot;weight&quot;: 3}\n",
              "            ).addTo(map_42e3c7b2955d23a36850c71287fe8af7);\n",
              "        \n",
              "    \n",
              "        var popup_c743064545aa20f61f8cbfc8fc5a3d2b = L.popup({&quot;maxWidth&quot;: &quot;100%&quot;});\n",
              "\n",
              "        \n",
              "            \n",
              "                var html_58d5bd4ba845d792f830a7fecc79796f = $(`&lt;div id=&quot;html_58d5bd4ba845d792f830a7fecc79796f&quot; style=&quot;width: 100.0%; height: 100.0%;&quot;&gt;500m&lt;/div&gt;`)[0];\n",
              "                popup_c743064545aa20f61f8cbfc8fc5a3d2b.setContent(html_58d5bd4ba845d792f830a7fecc79796f);\n",
              "            \n",
              "        \n",
              "\n",
              "        circle_40ae79a7734b2088ce6e92f9e99ef7e3.bindPopup(popup_c743064545aa20f61f8cbfc8fc5a3d2b)\n",
              "        ;\n",
              "\n",
              "        \n",
              "    \n",
              "    \n",
              "            var circle_86448ebd5963c0a190e60d81d785752b = L.circle(\n",
              "                [-38.926023, -68.070947],\n",
              "                {&quot;bubblingMouseEvents&quot;: true, &quot;color&quot;: &quot;blue&quot;, &quot;dashArray&quot;: null, &quot;dashOffset&quot;: null, &quot;fill&quot;: true, &quot;fillColor&quot;: &quot;blue&quot;, &quot;fillOpacity&quot;: 0.3, &quot;fillRule&quot;: &quot;evenodd&quot;, &quot;lineCap&quot;: &quot;round&quot;, &quot;lineJoin&quot;: &quot;round&quot;, &quot;opacity&quot;: 1.0, &quot;radius&quot;: 500, &quot;stroke&quot;: true, &quot;weight&quot;: 3}\n",
              "            ).addTo(map_42e3c7b2955d23a36850c71287fe8af7);\n",
              "        \n",
              "    \n",
              "        var popup_b96af24c8c266725fc873cac6496ba6c = L.popup({&quot;maxWidth&quot;: &quot;100%&quot;});\n",
              "\n",
              "        \n",
              "            \n",
              "                var html_36dd633c6f2c88c22e4c52aef599d18e = $(`&lt;div id=&quot;html_36dd633c6f2c88c22e4c52aef599d18e&quot; style=&quot;width: 100.0%; height: 100.0%;&quot;&gt;500m&lt;/div&gt;`)[0];\n",
              "                popup_b96af24c8c266725fc873cac6496ba6c.setContent(html_36dd633c6f2c88c22e4c52aef599d18e);\n",
              "            \n",
              "        \n",
              "\n",
              "        circle_86448ebd5963c0a190e60d81d785752b.bindPopup(popup_b96af24c8c266725fc873cac6496ba6c)\n",
              "        ;\n",
              "\n",
              "        \n",
              "    \n",
              "    \n",
              "            var circle_ffd1bedc35d7b7225c1b29c1b36dc2e3 = L.circle(\n",
              "                [-38.94882, -68.09612],\n",
              "                {&quot;bubblingMouseEvents&quot;: true, &quot;color&quot;: &quot;blue&quot;, &quot;dashArray&quot;: null, &quot;dashOffset&quot;: null, &quot;fill&quot;: true, &quot;fillColor&quot;: &quot;blue&quot;, &quot;fillOpacity&quot;: 0.3, &quot;fillRule&quot;: &quot;evenodd&quot;, &quot;lineCap&quot;: &quot;round&quot;, &quot;lineJoin&quot;: &quot;round&quot;, &quot;opacity&quot;: 1.0, &quot;radius&quot;: 500, &quot;stroke&quot;: true, &quot;weight&quot;: 3}\n",
              "            ).addTo(map_42e3c7b2955d23a36850c71287fe8af7);\n",
              "        \n",
              "    \n",
              "        var popup_830b294ab426fa837f35de27af00119a = L.popup({&quot;maxWidth&quot;: &quot;100%&quot;});\n",
              "\n",
              "        \n",
              "            \n",
              "                var html_fc55475cf3e24900bd39b703c3be731e = $(`&lt;div id=&quot;html_fc55475cf3e24900bd39b703c3be731e&quot; style=&quot;width: 100.0%; height: 100.0%;&quot;&gt;500m&lt;/div&gt;`)[0];\n",
              "                popup_830b294ab426fa837f35de27af00119a.setContent(html_fc55475cf3e24900bd39b703c3be731e);\n",
              "            \n",
              "        \n",
              "\n",
              "        circle_ffd1bedc35d7b7225c1b29c1b36dc2e3.bindPopup(popup_830b294ab426fa837f35de27af00119a)\n",
              "        ;\n",
              "\n",
              "        \n",
              "    \n",
              "    \n",
              "            var circle_4ebb8f5a3a1594cf97041fa48f1813dc = L.circle(\n",
              "                [-38.947237, -68.092334],\n",
              "                {&quot;bubblingMouseEvents&quot;: true, &quot;color&quot;: &quot;blue&quot;, &quot;dashArray&quot;: null, &quot;dashOffset&quot;: null, &quot;fill&quot;: true, &quot;fillColor&quot;: &quot;blue&quot;, &quot;fillOpacity&quot;: 0.3, &quot;fillRule&quot;: &quot;evenodd&quot;, &quot;lineCap&quot;: &quot;round&quot;, &quot;lineJoin&quot;: &quot;round&quot;, &quot;opacity&quot;: 1.0, &quot;radius&quot;: 500, &quot;stroke&quot;: true, &quot;weight&quot;: 3}\n",
              "            ).addTo(map_42e3c7b2955d23a36850c71287fe8af7);\n",
              "        \n",
              "    \n",
              "        var popup_41515f0d509da43664093acb93ddb475 = L.popup({&quot;maxWidth&quot;: &quot;100%&quot;});\n",
              "\n",
              "        \n",
              "            \n",
              "                var html_54895a03082013b59e18922bbd693718 = $(`&lt;div id=&quot;html_54895a03082013b59e18922bbd693718&quot; style=&quot;width: 100.0%; height: 100.0%;&quot;&gt;500m&lt;/div&gt;`)[0];\n",
              "                popup_41515f0d509da43664093acb93ddb475.setContent(html_54895a03082013b59e18922bbd693718);\n",
              "            \n",
              "        \n",
              "\n",
              "        circle_4ebb8f5a3a1594cf97041fa48f1813dc.bindPopup(popup_41515f0d509da43664093acb93ddb475)\n",
              "        ;\n",
              "\n",
              "        \n",
              "    \n",
              "    \n",
              "            var layer_control_83268f56382e9ebdae5337201cc9aae1 = {\n",
              "                base_layers : {\n",
              "                    &quot;openstreetmap&quot; : tile_layer_15147b78e70ccb710cf2ee926317ea3d,\n",
              "                },\n",
              "                overlays :  {\n",
              "                },\n",
              "            };\n",
              "            L.control.layers(\n",
              "                layer_control_83268f56382e9ebdae5337201cc9aae1.base_layers,\n",
              "                layer_control_83268f56382e9ebdae5337201cc9aae1.overlays,\n",
              "                {&quot;autoZIndex&quot;: true, &quot;collapsed&quot;: true, &quot;position&quot;: &quot;topright&quot;}\n",
              "            ).addTo(map_42e3c7b2955d23a36850c71287fe8af7);\n",
              "        \n",
              "    \n",
              "            var poly_line_8e7044dc229372e63bdad586b0fa1ccc = L.polyline(\n",
              "                [[-38.936416, -68.059058], [-38.979781, -68.059367]],\n",
              "                {&quot;bubblingMouseEvents&quot;: true, &quot;color&quot;: &quot;red&quot;, &quot;dashArray&quot;: null, &quot;dashOffset&quot;: null, &quot;fill&quot;: false, &quot;fillColor&quot;: &quot;red&quot;, &quot;fillOpacity&quot;: 0.2, &quot;fillRule&quot;: &quot;evenodd&quot;, &quot;lineCap&quot;: &quot;round&quot;, &quot;lineJoin&quot;: &quot;round&quot;, &quot;noClip&quot;: false, &quot;opacity&quot;: 1, &quot;smoothFactor&quot;: 1.0, &quot;stroke&quot;: true, &quot;weight&quot;: 2.5}\n",
              "            ).addTo(map_42e3c7b2955d23a36850c71287fe8af7);\n",
              "        \n",
              "    \n",
              "            var poly_line_2badbc1bd33d00284641d43eece9a11b = L.polyline(\n",
              "                [[-38.954645, -68.132429], [-38.955469, -68.017609]],\n",
              "                {&quot;bubblingMouseEvents&quot;: true, &quot;color&quot;: &quot;blue&quot;, &quot;dashArray&quot;: null, &quot;dashOffset&quot;: null, &quot;fill&quot;: false, &quot;fillColor&quot;: &quot;blue&quot;, &quot;fillOpacity&quot;: 0.2, &quot;fillRule&quot;: &quot;evenodd&quot;, &quot;lineCap&quot;: &quot;round&quot;, &quot;lineJoin&quot;: &quot;round&quot;, &quot;noClip&quot;: false, &quot;opacity&quot;: 1, &quot;smoothFactor&quot;: 1.0, &quot;stroke&quot;: true, &quot;weight&quot;: 2.5}\n",
              "            ).addTo(map_42e3c7b2955d23a36850c71287fe8af7);\n",
              "        \n",
              "&lt;/script&gt;\n",
              "&lt;/html&gt;\" style=\"position:absolute;width:100%;height:100%;left:0;top:0;border:none !important;\" allowfullscreen webkitallowfullscreen mozallowfullscreen></iframe></div></div>"
            ]
          },
          "metadata": {},
          "execution_count": 45
        }
      ]
    },
    {
      "cell_type": "code",
      "source": [],
      "metadata": {
        "id": "i54pmlvvDW1p"
      },
      "execution_count": null,
      "outputs": []
    },
    {
      "cell_type": "markdown",
      "source": [
        "Algunos ecopuntos se solapan, otros no llegan a cubrir la totalidad de la región. Los ciudadanos deben trasladarse en automóvil para acercarse al ecopunto."
      ],
      "metadata": {
        "id": "umtcgrgED1kR"
      }
    },
    {
      "cell_type": "code",
      "source": [
        "# %%shell\n",
        "# jupyter nbconvert --no-input --to html /content/drive/MyDrive/AnalisisDeDatos/AnalisisRelevamiento.ipynb"
      ],
      "metadata": {
        "id": "wXcSQmXdD5kD",
        "colab": {
          "base_uri": "https://localhost:8080/"
        },
        "outputId": "b7d877e5-bbea-4255-f4d5-ec226b6440fb"
      },
      "execution_count": 99,
      "outputs": [
        {
          "output_type": "stream",
          "name": "stdout",
          "text": [
            "[NbConvertApp] Converting notebook /content/drive/MyDrive/AnalisisDeDatos/AnalisisRelevamiento.ipynb to html\n",
            "[NbConvertApp] Writing 1101450 bytes to /content/drive/MyDrive/AnalisisDeDatos/AnalisisRelevamiento.html\n"
          ]
        },
        {
          "output_type": "execute_result",
          "data": {
            "text/plain": []
          },
          "metadata": {},
          "execution_count": 99
        }
      ]
    },
    {
      "cell_type": "code",
      "source": [],
      "metadata": {
        "id": "SIl3Ed8DmONi"
      },
      "execution_count": null,
      "outputs": []
    }
  ]
}